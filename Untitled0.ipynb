{
  "nbformat": 4,
  "nbformat_minor": 0,
  "metadata": {
    "colab": {
      "provenance": [],
      "authorship_tag": "ABX9TyPSGH189kV9c1hcbZdfHQcT",
      "include_colab_link": true
    },
    "kernelspec": {
      "name": "python3",
      "display_name": "Python 3"
    },
    "language_info": {
      "name": "python"
    }
  },
  "cells": [
    {
      "cell_type": "markdown",
      "metadata": {
        "id": "view-in-github",
        "colab_type": "text"
      },
      "source": [
        "<a href=\"https://colab.research.google.com/github/avgalkov/collab-notebooks/blob/main/Untitled0.ipynb\" target=\"_parent\"><img src=\"https://colab.research.google.com/assets/colab-badge.svg\" alt=\"Open In Colab\"/></a>"
      ]
    },
    {
      "cell_type": "markdown",
      "source": [
        "## Скачиваем датасет и подгружаем в collab"
      ],
      "metadata": {
        "id": "gHYqqxpshImD"
      }
    },
    {
      "cell_type": "markdown",
      "source": [
        "https://drive.google.com/file/d/1M5UbZIhB36FFTgWMBAEcNZy8cxMNcbil/view?usp=sharing"
      ],
      "metadata": {
        "id": "0nfuUPvnhUsF"
      }
    },
    {
      "cell_type": "code",
      "source": [
        "! gdown --id 1M5UbZIhB36FFTgWMBAEcNZy8cxMNcbil"
      ],
      "metadata": {
        "colab": {
          "base_uri": "https://localhost:8080/"
        },
        "id": "4cda7NDChUAH",
        "outputId": "c2e76bd0-54a7-4ee0-ab76-0b2e4c129818"
      },
      "execution_count": 1,
      "outputs": [
        {
          "output_type": "stream",
          "name": "stdout",
          "text": [
            "/usr/local/lib/python3.8/dist-packages/gdown/cli.py:127: FutureWarning: Option `--id` was deprecated in version 4.3.1 and will be removed in 5.0. You don't need to pass it anymore to use a file ID.\n",
            "  warnings.warn(\n",
            "Downloading...\n",
            "From: https://drive.google.com/uc?id=1M5UbZIhB36FFTgWMBAEcNZy8cxMNcbil\n",
            "To: /content/spaceship-titanic.zip\n",
            "100% 306k/306k [00:00<00:00, 35.3MB/s]\n"
          ]
        }
      ]
    },
    {
      "cell_type": "code",
      "source": [
        "! unzip /content/spaceship-titanic.zip -d /content/spaceship-titanic"
      ],
      "metadata": {
        "colab": {
          "base_uri": "https://localhost:8080/"
        },
        "id": "Ic_AyIaeheDS",
        "outputId": "5633d56e-4128-45b9-bbf6-452acf85baf6"
      },
      "execution_count": 2,
      "outputs": [
        {
          "output_type": "stream",
          "name": "stdout",
          "text": [
            "Archive:  /content/spaceship-titanic.zip\n",
            "  inflating: /content/spaceship-titanic/sample_submission.csv  \n",
            "  inflating: /content/spaceship-titanic/test.csv  \n",
            "  inflating: /content/spaceship-titanic/train.csv  \n"
          ]
        }
      ]
    },
    {
      "cell_type": "code",
      "source": [
        "! pip install catboost"
      ],
      "metadata": {
        "colab": {
          "base_uri": "https://localhost:8080/"
        },
        "id": "Xezxie0XqqDm",
        "outputId": "4bf1c502-c1f1-4260-f6b2-13644bb90a91"
      },
      "execution_count": 3,
      "outputs": [
        {
          "output_type": "stream",
          "name": "stdout",
          "text": [
            "Looking in indexes: https://pypi.org/simple, https://us-python.pkg.dev/colab-wheels/public/simple/\n",
            "Collecting catboost\n",
            "  Downloading catboost-1.1.1-cp38-none-manylinux1_x86_64.whl (76.6 MB)\n",
            "\u001b[2K     \u001b[90m━━━━━━━━━━━━━━━━━━━━━━━━━━━━━━━━━━━━━━━━\u001b[0m \u001b[32m76.6/76.6 MB\u001b[0m \u001b[31m12.6 MB/s\u001b[0m eta \u001b[36m0:00:00\u001b[0m\n",
            "\u001b[?25hRequirement already satisfied: scipy in /usr/local/lib/python3.8/dist-packages (from catboost) (1.7.3)\n",
            "Requirement already satisfied: plotly in /usr/local/lib/python3.8/dist-packages (from catboost) (5.5.0)\n",
            "Requirement already satisfied: numpy>=1.16.0 in /usr/local/lib/python3.8/dist-packages (from catboost) (1.21.6)\n",
            "Requirement already satisfied: matplotlib in /usr/local/lib/python3.8/dist-packages (from catboost) (3.2.2)\n",
            "Requirement already satisfied: six in /usr/local/lib/python3.8/dist-packages (from catboost) (1.15.0)\n",
            "Requirement already satisfied: graphviz in /usr/local/lib/python3.8/dist-packages (from catboost) (0.10.1)\n",
            "Requirement already satisfied: pandas>=0.24.0 in /usr/local/lib/python3.8/dist-packages (from catboost) (1.3.5)\n",
            "Requirement already satisfied: python-dateutil>=2.7.3 in /usr/local/lib/python3.8/dist-packages (from pandas>=0.24.0->catboost) (2.8.2)\n",
            "Requirement already satisfied: pytz>=2017.3 in /usr/local/lib/python3.8/dist-packages (from pandas>=0.24.0->catboost) (2022.7.1)\n",
            "Requirement already satisfied: pyparsing!=2.0.4,!=2.1.2,!=2.1.6,>=2.0.1 in /usr/local/lib/python3.8/dist-packages (from matplotlib->catboost) (3.0.9)\n",
            "Requirement already satisfied: cycler>=0.10 in /usr/local/lib/python3.8/dist-packages (from matplotlib->catboost) (0.11.0)\n",
            "Requirement already satisfied: kiwisolver>=1.0.1 in /usr/local/lib/python3.8/dist-packages (from matplotlib->catboost) (1.4.4)\n",
            "Requirement already satisfied: tenacity>=6.2.0 in /usr/local/lib/python3.8/dist-packages (from plotly->catboost) (8.2.0)\n",
            "Installing collected packages: catboost\n",
            "Successfully installed catboost-1.1.1\n"
          ]
        }
      ]
    },
    {
      "cell_type": "code",
      "source": [
        "import pandas as pd\n",
        "import matplotlib.pyplot as plt\n",
        "from sklearn.model_selection import train_test_split\n",
        "import seaborn as sns"
      ],
      "metadata": {
        "id": "v6pav-xVjao2"
      },
      "execution_count": 17,
      "outputs": []
    },
    {
      "cell_type": "code",
      "source": [
        "from catboost import CatBoostRegressor\n",
        "from catboost import CatBoostClassifier"
      ],
      "metadata": {
        "id": "vxSernsOqje6"
      },
      "execution_count": 5,
      "outputs": []
    },
    {
      "cell_type": "code",
      "source": [
        "df = pd.read_csv('/content/spaceship-titanic/train.csv')\n",
        "test = pd.read_csv('/content/spaceship-titanic/test.csv')\n",
        "sample_submission = pd.read_csv('/content/spaceship-titanic/sample_submission.csv')"
      ],
      "metadata": {
        "id": "cpRz5CaFi1ZL"
      },
      "execution_count": 6,
      "outputs": []
    },
    {
      "cell_type": "code",
      "source": [],
      "metadata": {
        "id": "jgFKIXoy8kuk"
      },
      "execution_count": null,
      "outputs": []
    },
    {
      "cell_type": "code",
      "source": [
        "df.columns\n"
      ],
      "metadata": {
        "colab": {
          "base_uri": "https://localhost:8080/"
        },
        "id": "ugvmFnFJ9m04",
        "outputId": "c774813d-5363-4f27-ab19-bb8e2f3cb77e"
      },
      "execution_count": null,
      "outputs": [
        {
          "output_type": "execute_result",
          "data": {
            "text/plain": [
              "Index(['PassengerId', 'HomePlanet', 'CryoSleep', 'Cabin', 'Destination', 'Age',\n",
              "       'VIP', 'RoomService', 'FoodCourt', 'ShoppingMall', 'Spa', 'VRDeck',\n",
              "       'Name', 'Transported'],\n",
              "      dtype='object')"
            ]
          },
          "metadata": {},
          "execution_count": 38
        }
      ]
    },
    {
      "cell_type": "code",
      "source": [
        "X = ['HomePlanet', 'CryoSleep', 'Cabin', 'Destination', 'Age',\n",
        "       'VIP', 'RoomService', 'FoodCourt', 'ShoppingMall', 'Spa', 'VRDeck']\n",
        "cat_features = ['HomePlanet', 'CryoSleep', 'Cabin', 'Destination',\n",
        "       'VIP']\n",
        "y = ['Transported']"
      ],
      "metadata": {
        "id": "hyJ1kzNSknOE"
      },
      "execution_count": null,
      "outputs": []
    },
    {
      "cell_type": "code",
      "source": [
        "model = CatBoostClassifier(cat_features = cat_features, \n",
        "                          random_seed = 42,\n",
        "                          verbose=100,\n",
        "                          learning_rate = 0.018)"
      ],
      "metadata": {
        "id": "VyyHPRuglTOS"
      },
      "execution_count": null,
      "outputs": []
    },
    {
      "cell_type": "code",
      "source": [
        "train, val = train_test_split(df,train_size = 0.7, random_state = 1)"
      ],
      "metadata": {
        "id": "cOl1FGT4r34Z"
      },
      "execution_count": null,
      "outputs": []
    },
    {
      "cell_type": "code",
      "source": [
        "model.fit(train[X], train[y],eval_set=(val[X], val[y]))"
      ],
      "metadata": {
        "id": "WkJFHM4vm2gk",
        "colab": {
          "base_uri": "https://localhost:8080/"
        },
        "outputId": "1fd38646-0088-48e4-95de-e9bfefdad7bf"
      },
      "execution_count": null,
      "outputs": [
        {
          "output_type": "stream",
          "name": "stdout",
          "text": [
            "0:\tlearn: 0.6847203\ttest: 0.6848848\tbest: 0.6848848 (0)\ttotal: 11.2ms\tremaining: 11.2s\n"
          ]
        }
      ]
    },
    {
      "cell_type": "code",
      "source": [
        "df.head()"
      ],
      "metadata": {
        "id": "5w0G_j4G-Jfg",
        "colab": {
          "base_uri": "https://localhost:8080/",
          "height": 206
        },
        "outputId": "9a95f345-0e4b-4bfe-ebbe-3ffbc0ae4703"
      },
      "execution_count": 7,
      "outputs": [
        {
          "output_type": "execute_result",
          "data": {
            "text/plain": [
              "  PassengerId HomePlanet CryoSleep  Cabin  Destination   Age    VIP  \\\n",
              "0     0001_01     Europa     False  B/0/P  TRAPPIST-1e  39.0  False   \n",
              "1     0002_01      Earth     False  F/0/S  TRAPPIST-1e  24.0  False   \n",
              "2     0003_01     Europa     False  A/0/S  TRAPPIST-1e  58.0   True   \n",
              "3     0003_02     Europa     False  A/0/S  TRAPPIST-1e  33.0  False   \n",
              "4     0004_01      Earth     False  F/1/S  TRAPPIST-1e  16.0  False   \n",
              "\n",
              "   RoomService  FoodCourt  ShoppingMall     Spa  VRDeck               Name  \\\n",
              "0          0.0        0.0           0.0     0.0     0.0    Maham Ofracculy   \n",
              "1        109.0        9.0          25.0   549.0    44.0       Juanna Vines   \n",
              "2         43.0     3576.0           0.0  6715.0    49.0      Altark Susent   \n",
              "3          0.0     1283.0         371.0  3329.0   193.0       Solam Susent   \n",
              "4        303.0       70.0         151.0   565.0     2.0  Willy Santantines   \n",
              "\n",
              "   Transported  \n",
              "0        False  \n",
              "1         True  \n",
              "2        False  \n",
              "3        False  \n",
              "4         True  "
            ],
            "text/html": [
              "\n",
              "  <div id=\"df-4c88ea25-75a3-4d78-9a71-066acf3d09be\">\n",
              "    <div class=\"colab-df-container\">\n",
              "      <div>\n",
              "<style scoped>\n",
              "    .dataframe tbody tr th:only-of-type {\n",
              "        vertical-align: middle;\n",
              "    }\n",
              "\n",
              "    .dataframe tbody tr th {\n",
              "        vertical-align: top;\n",
              "    }\n",
              "\n",
              "    .dataframe thead th {\n",
              "        text-align: right;\n",
              "    }\n",
              "</style>\n",
              "<table border=\"1\" class=\"dataframe\">\n",
              "  <thead>\n",
              "    <tr style=\"text-align: right;\">\n",
              "      <th></th>\n",
              "      <th>PassengerId</th>\n",
              "      <th>HomePlanet</th>\n",
              "      <th>CryoSleep</th>\n",
              "      <th>Cabin</th>\n",
              "      <th>Destination</th>\n",
              "      <th>Age</th>\n",
              "      <th>VIP</th>\n",
              "      <th>RoomService</th>\n",
              "      <th>FoodCourt</th>\n",
              "      <th>ShoppingMall</th>\n",
              "      <th>Spa</th>\n",
              "      <th>VRDeck</th>\n",
              "      <th>Name</th>\n",
              "      <th>Transported</th>\n",
              "    </tr>\n",
              "  </thead>\n",
              "  <tbody>\n",
              "    <tr>\n",
              "      <th>0</th>\n",
              "      <td>0001_01</td>\n",
              "      <td>Europa</td>\n",
              "      <td>False</td>\n",
              "      <td>B/0/P</td>\n",
              "      <td>TRAPPIST-1e</td>\n",
              "      <td>39.0</td>\n",
              "      <td>False</td>\n",
              "      <td>0.0</td>\n",
              "      <td>0.0</td>\n",
              "      <td>0.0</td>\n",
              "      <td>0.0</td>\n",
              "      <td>0.0</td>\n",
              "      <td>Maham Ofracculy</td>\n",
              "      <td>False</td>\n",
              "    </tr>\n",
              "    <tr>\n",
              "      <th>1</th>\n",
              "      <td>0002_01</td>\n",
              "      <td>Earth</td>\n",
              "      <td>False</td>\n",
              "      <td>F/0/S</td>\n",
              "      <td>TRAPPIST-1e</td>\n",
              "      <td>24.0</td>\n",
              "      <td>False</td>\n",
              "      <td>109.0</td>\n",
              "      <td>9.0</td>\n",
              "      <td>25.0</td>\n",
              "      <td>549.0</td>\n",
              "      <td>44.0</td>\n",
              "      <td>Juanna Vines</td>\n",
              "      <td>True</td>\n",
              "    </tr>\n",
              "    <tr>\n",
              "      <th>2</th>\n",
              "      <td>0003_01</td>\n",
              "      <td>Europa</td>\n",
              "      <td>False</td>\n",
              "      <td>A/0/S</td>\n",
              "      <td>TRAPPIST-1e</td>\n",
              "      <td>58.0</td>\n",
              "      <td>True</td>\n",
              "      <td>43.0</td>\n",
              "      <td>3576.0</td>\n",
              "      <td>0.0</td>\n",
              "      <td>6715.0</td>\n",
              "      <td>49.0</td>\n",
              "      <td>Altark Susent</td>\n",
              "      <td>False</td>\n",
              "    </tr>\n",
              "    <tr>\n",
              "      <th>3</th>\n",
              "      <td>0003_02</td>\n",
              "      <td>Europa</td>\n",
              "      <td>False</td>\n",
              "      <td>A/0/S</td>\n",
              "      <td>TRAPPIST-1e</td>\n",
              "      <td>33.0</td>\n",
              "      <td>False</td>\n",
              "      <td>0.0</td>\n",
              "      <td>1283.0</td>\n",
              "      <td>371.0</td>\n",
              "      <td>3329.0</td>\n",
              "      <td>193.0</td>\n",
              "      <td>Solam Susent</td>\n",
              "      <td>False</td>\n",
              "    </tr>\n",
              "    <tr>\n",
              "      <th>4</th>\n",
              "      <td>0004_01</td>\n",
              "      <td>Earth</td>\n",
              "      <td>False</td>\n",
              "      <td>F/1/S</td>\n",
              "      <td>TRAPPIST-1e</td>\n",
              "      <td>16.0</td>\n",
              "      <td>False</td>\n",
              "      <td>303.0</td>\n",
              "      <td>70.0</td>\n",
              "      <td>151.0</td>\n",
              "      <td>565.0</td>\n",
              "      <td>2.0</td>\n",
              "      <td>Willy Santantines</td>\n",
              "      <td>True</td>\n",
              "    </tr>\n",
              "  </tbody>\n",
              "</table>\n",
              "</div>\n",
              "      <button class=\"colab-df-convert\" onclick=\"convertToInteractive('df-4c88ea25-75a3-4d78-9a71-066acf3d09be')\"\n",
              "              title=\"Convert this dataframe to an interactive table.\"\n",
              "              style=\"display:none;\">\n",
              "        \n",
              "  <svg xmlns=\"http://www.w3.org/2000/svg\" height=\"24px\"viewBox=\"0 0 24 24\"\n",
              "       width=\"24px\">\n",
              "    <path d=\"M0 0h24v24H0V0z\" fill=\"none\"/>\n",
              "    <path d=\"M18.56 5.44l.94 2.06.94-2.06 2.06-.94-2.06-.94-.94-2.06-.94 2.06-2.06.94zm-11 1L8.5 8.5l.94-2.06 2.06-.94-2.06-.94L8.5 2.5l-.94 2.06-2.06.94zm10 10l.94 2.06.94-2.06 2.06-.94-2.06-.94-.94-2.06-.94 2.06-2.06.94z\"/><path d=\"M17.41 7.96l-1.37-1.37c-.4-.4-.92-.59-1.43-.59-.52 0-1.04.2-1.43.59L10.3 9.45l-7.72 7.72c-.78.78-.78 2.05 0 2.83L4 21.41c.39.39.9.59 1.41.59.51 0 1.02-.2 1.41-.59l7.78-7.78 2.81-2.81c.8-.78.8-2.07 0-2.86zM5.41 20L4 18.59l7.72-7.72 1.47 1.35L5.41 20z\"/>\n",
              "  </svg>\n",
              "      </button>\n",
              "      \n",
              "  <style>\n",
              "    .colab-df-container {\n",
              "      display:flex;\n",
              "      flex-wrap:wrap;\n",
              "      gap: 12px;\n",
              "    }\n",
              "\n",
              "    .colab-df-convert {\n",
              "      background-color: #E8F0FE;\n",
              "      border: none;\n",
              "      border-radius: 50%;\n",
              "      cursor: pointer;\n",
              "      display: none;\n",
              "      fill: #1967D2;\n",
              "      height: 32px;\n",
              "      padding: 0 0 0 0;\n",
              "      width: 32px;\n",
              "    }\n",
              "\n",
              "    .colab-df-convert:hover {\n",
              "      background-color: #E2EBFA;\n",
              "      box-shadow: 0px 1px 2px rgba(60, 64, 67, 0.3), 0px 1px 3px 1px rgba(60, 64, 67, 0.15);\n",
              "      fill: #174EA6;\n",
              "    }\n",
              "\n",
              "    [theme=dark] .colab-df-convert {\n",
              "      background-color: #3B4455;\n",
              "      fill: #D2E3FC;\n",
              "    }\n",
              "\n",
              "    [theme=dark] .colab-df-convert:hover {\n",
              "      background-color: #434B5C;\n",
              "      box-shadow: 0px 1px 3px 1px rgba(0, 0, 0, 0.15);\n",
              "      filter: drop-shadow(0px 1px 2px rgba(0, 0, 0, 0.3));\n",
              "      fill: #FFFFFF;\n",
              "    }\n",
              "  </style>\n",
              "\n",
              "      <script>\n",
              "        const buttonEl =\n",
              "          document.querySelector('#df-4c88ea25-75a3-4d78-9a71-066acf3d09be button.colab-df-convert');\n",
              "        buttonEl.style.display =\n",
              "          google.colab.kernel.accessAllowed ? 'block' : 'none';\n",
              "\n",
              "        async function convertToInteractive(key) {\n",
              "          const element = document.querySelector('#df-4c88ea25-75a3-4d78-9a71-066acf3d09be');\n",
              "          const dataTable =\n",
              "            await google.colab.kernel.invokeFunction('convertToInteractive',\n",
              "                                                     [key], {});\n",
              "          if (!dataTable) return;\n",
              "\n",
              "          const docLinkHtml = 'Like what you see? Visit the ' +\n",
              "            '<a target=\"_blank\" href=https://colab.research.google.com/notebooks/data_table.ipynb>data table notebook</a>'\n",
              "            + ' to learn more about interactive tables.';\n",
              "          element.innerHTML = '';\n",
              "          dataTable['output_type'] = 'display_data';\n",
              "          await google.colab.output.renderOutput(dataTable, element);\n",
              "          const docLink = document.createElement('div');\n",
              "          docLink.innerHTML = docLinkHtml;\n",
              "          element.appendChild(docLink);\n",
              "        }\n",
              "      </script>\n",
              "    </div>\n",
              "  </div>\n",
              "  "
            ]
          },
          "metadata": {},
          "execution_count": 7
        }
      ]
    },
    {
      "cell_type": "code",
      "source": [
        "df = df.drop(['RoomService', 'FoodCourt', 'ShoppingMall', 'Spa', 'VRDeck' , 'Name'], axis = 1).copy()"
      ],
      "metadata": {
        "id": "7X3-iyBrlElQ"
      },
      "execution_count": 9,
      "outputs": []
    },
    {
      "cell_type": "code",
      "source": [
        "test = test.drop(['RoomService', 'FoodCourt', 'ShoppingMall', 'Spa', 'VRDeck' , 'Name'], axis = 1).copy()"
      ],
      "metadata": {
        "id": "yKx4KeUWlnT8"
      },
      "execution_count": 10,
      "outputs": []
    },
    {
      "cell_type": "code",
      "source": [
        "df.isna().mean()"
      ],
      "metadata": {
        "colab": {
          "base_uri": "https://localhost:8080/"
        },
        "id": "mVa3wtSglwU9",
        "outputId": "795cbec4-e19d-4885-90a9-7788da253f48"
      },
      "execution_count": 12,
      "outputs": [
        {
          "output_type": "execute_result",
          "data": {
            "text/plain": [
              "PassengerId    0.000000\n",
              "HomePlanet     0.023122\n",
              "CryoSleep      0.024963\n",
              "Cabin          0.022892\n",
              "Destination    0.020936\n",
              "Age            0.020591\n",
              "VIP            0.023352\n",
              "Transported    0.000000\n",
              "dtype: float64"
            ]
          },
          "metadata": {},
          "execution_count": 12
        }
      ]
    },
    {
      "cell_type": "markdown",
      "source": [
        "## Заполняем пропуски HomePlanet"
      ],
      "metadata": {
        "id": "KSUpAWKNmWNL"
      }
    },
    {
      "cell_type": "code",
      "source": [
        "df.groupby('HomePlanet')['PassengerId'].agg('count')"
      ],
      "metadata": {
        "colab": {
          "base_uri": "https://localhost:8080/"
        },
        "id": "fQJytoEJl1QF",
        "outputId": "6ae080c8-52f6-42c1-84ca-15026d883d2b"
      },
      "execution_count": 14,
      "outputs": [
        {
          "output_type": "execute_result",
          "data": {
            "text/plain": [
              "HomePlanet\n",
              "Earth     4602\n",
              "Europa    2131\n",
              "Mars      1759\n",
              "Name: PassengerId, dtype: int64"
            ]
          },
          "metadata": {},
          "execution_count": 14
        }
      ]
    },
    {
      "cell_type": "code",
      "source": [
        "df['HomePlanet'].isna().sum()"
      ],
      "metadata": {
        "colab": {
          "base_uri": "https://localhost:8080/"
        },
        "id": "cCCnYzBGmA6H",
        "outputId": "07969d32-4ca9-4235-df21-b90c3ff4aae6"
      },
      "execution_count": 16,
      "outputs": [
        {
          "output_type": "execute_result",
          "data": {
            "text/plain": [
              "201"
            ]
          },
          "metadata": {},
          "execution_count": 16
        }
      ]
    },
    {
      "cell_type": "code",
      "source": [
        "# зависимость CryoSleep от HomePlanet\n",
        "\n",
        "sns.countplot(data = df, x = 'HomePlanet', hue = 'CryoSleep')\n"
      ],
      "metadata": {
        "colab": {
          "base_uri": "https://localhost:8080/",
          "height": 296
        },
        "id": "aeShHXMNnQNg",
        "outputId": "1cf91333-f3aa-4248-b3a5-20479b3eb2e3"
      },
      "execution_count": 35,
      "outputs": [
        {
          "output_type": "execute_result",
          "data": {
            "text/plain": [
              "<matplotlib.axes._subplots.AxesSubplot at 0x7fd3c74ec7f0>"
            ]
          },
          "metadata": {},
          "execution_count": 35
        },
        {
          "output_type": "display_data",
          "data": {
            "text/plain": [
              "<Figure size 432x288 with 1 Axes>"
            ],
            "image/png": "[encoded data removed]"
          },
          "metadata": {
            "needs_background": "light"
          }
        }
      ]
    },
    {
      "cell_type": "code",
      "source": [
        "# зависимость Destination от HomePlanet\n",
        "\n",
        "sns.countplot(data = df, x = 'HomePlanet', hue = 'Destination')"
      ],
      "metadata": {
        "colab": {
          "base_uri": "https://localhost:8080/",
          "height": 296
        },
        "id": "5V9Plwz4pQhb",
        "outputId": "95b19431-722c-4a9f-bd25-212c27b19078"
      },
      "execution_count": 34,
      "outputs": [
        {
          "output_type": "execute_result",
          "data": {
            "text/plain": [
              "<matplotlib.axes._subplots.AxesSubplot at 0x7fd3c7507fd0>"
            ]
          },
          "metadata": {},
          "execution_count": 34
        },
        {
          "output_type": "display_data",
          "data": {
            "text/plain": [
              "<Figure size 432x288 with 1 Axes>"
            ],
            "image/png": "[encoded data removed]"
          },
          "metadata": {
            "needs_background": "light"
          }
        }
      ]
    },
    {
      "cell_type": "code",
      "source": [
        "# зависимость Destination от HomePlanet\n",
        "\n",
        "sns.countplot(data = df, x = 'HomePlanet', hue = 'Transported')"
      ],
      "metadata": {
        "colab": {
          "base_uri": "https://localhost:8080/",
          "height": 296
        },
        "id": "BQ0pTrp1rbfQ",
        "outputId": "8ca3b766-71e1-44fc-9083-b215ded4235e"
      },
      "execution_count": 45,
      "outputs": [
        {
          "output_type": "execute_result",
          "data": {
            "text/plain": [
              "<matplotlib.axes._subplots.AxesSubplot at 0x7fd3c6cd0940>"
            ]
          },
          "metadata": {},
          "execution_count": 45
        },
        {
          "output_type": "display_data",
          "data": {
            "text/plain": [
              "<Figure size 432x288 with 1 Axes>"
            ],
            "image/png": "[encoded data removed]"
          },
          "metadata": {
            "needs_background": "light"
          }
        }
      ]
    },
    {
      "cell_type": "markdown",
      "source": [
        "## Заполняем пропуски VIP"
      ],
      "metadata": {
        "id": "iCGRZkdSq05o"
      }
    },
    {
      "cell_type": "code",
      "source": [
        "sns.countplot(data = df, x = 'HomePlanet', hue = 'VIP')"
      ],
      "metadata": {
        "colab": {
          "base_uri": "https://localhost:8080/",
          "height": 296
        },
        "id": "UXIuqzAApfR1",
        "outputId": "e0c96b12-6cba-47b0-82fb-267077813ba8"
      },
      "execution_count": 39,
      "outputs": [
        {
          "output_type": "execute_result",
          "data": {
            "text/plain": [
              "<matplotlib.axes._subplots.AxesSubplot at 0x7fd3c6d6ab50>"
            ]
          },
          "metadata": {},
          "execution_count": 39
        },
        {
          "output_type": "display_data",
          "data": {
            "text/plain": [
              "<Figure size 432x288 with 1 Axes>"
            ],
            "image/png": "[encoded data removed]"
          },
          "metadata": {
            "needs_background": "light"
          }
        }
      ]
    },
    {
      "cell_type": "code",
      "source": [
        "df['VIP'] = df['VIP'].fillna(False)"
      ],
      "metadata": {
        "id": "73xMJhfaqPiT"
      },
      "execution_count": 40,
      "outputs": []
    },
    {
      "cell_type": "code",
      "source": [
        "df.isna().mean()"
      ],
      "metadata": {
        "colab": {
          "base_uri": "https://localhost:8080/"
        },
        "id": "dJvXNTAjqqzU",
        "outputId": "268e9c56-b7ab-43bf-bcc9-1291ac5554dc"
      },
      "execution_count": 41,
      "outputs": [
        {
          "output_type": "execute_result",
          "data": {
            "text/plain": [
              "PassengerId    0.000000\n",
              "HomePlanet     0.023122\n",
              "CryoSleep      0.024963\n",
              "Cabin          0.022892\n",
              "Destination    0.020936\n",
              "Age            0.020591\n",
              "VIP            0.000000\n",
              "Transported    0.000000\n",
              "dtype: float64"
            ]
          },
          "metadata": {},
          "execution_count": 41
        }
      ]
    },
    {
      "cell_type": "code",
      "source": [
        "dftest = df.copy()"
      ],
      "metadata": {
        "id": "O2a8x0dLuJGC"
      },
      "execution_count": 158,
      "outputs": []
    },
    {
      "cell_type": "code",
      "source": [
        "new = dftest['Cabin'].str.split('/',expand=True) "
      ],
      "metadata": {
        "id": "L5Q0ZIMNuMTr"
      },
      "execution_count": 159,
      "outputs": []
    },
    {
      "cell_type": "code",
      "source": [
        "dftest['cab1'] = new[0]\n",
        "dftest['cab2'] = new[1]\n",
        "dftest['cab3'] = new[2]"
      ],
      "metadata": {
        "id": "gXWEibCjumvJ"
      },
      "execution_count": 160,
      "outputs": []
    },
    {
      "cell_type": "code",
      "source": [
        "dftest.drop(columns =[\"Cabin\"], inplace = True)"
      ],
      "metadata": {
        "id": "eEkEYn_hu877"
      },
      "execution_count": 161,
      "outputs": []
    },
    {
      "cell_type": "code",
      "source": [
        "dftest.head()"
      ],
      "metadata": {
        "colab": {
          "base_uri": "https://localhost:8080/",
          "height": 206
        },
        "id": "AhHKXsNhumsa",
        "outputId": "d57ae0e1-443a-4fae-9451-cba28b19f2cb"
      },
      "execution_count": 162,
      "outputs": [
        {
          "output_type": "execute_result",
          "data": {
            "text/plain": [
              "  PassengerId HomePlanet CryoSleep  Destination   Age    VIP  Transported  \\\n",
              "0     0001_01     Europa     False  TRAPPIST-1e  39.0  False        False   \n",
              "1     0002_01      Earth     False  TRAPPIST-1e  24.0  False         True   \n",
              "2     0003_01     Europa     False  TRAPPIST-1e  58.0   True        False   \n",
              "3     0003_02     Europa     False  TRAPPIST-1e  33.0  False        False   \n",
              "4     0004_01      Earth     False  TRAPPIST-1e  16.0  False         True   \n",
              "\n",
              "  cab1 cab2 cab3  \n",
              "0    B    0    P  \n",
              "1    F    0    S  \n",
              "2    A    0    S  \n",
              "3    A    0    S  \n",
              "4    F    1    S  "
            ],
            "text/html": [
              "\n",
              "  <div id=\"df-9e02b898-0a50-407c-9eed-cd6f04b0154d\">\n",
              "    <div class=\"colab-df-container\">\n",
              "      <div>\n",
              "<style scoped>\n",
              "    .dataframe tbody tr th:only-of-type {\n",
              "        vertical-align: middle;\n",
              "    }\n",
              "\n",
              "    .dataframe tbody tr th {\n",
              "        vertical-align: top;\n",
              "    }\n",
              "\n",
              "    .dataframe thead th {\n",
              "        text-align: right;\n",
              "    }\n",
              "</style>\n",
              "<table border=\"1\" class=\"dataframe\">\n",
              "  <thead>\n",
              "    <tr style=\"text-align: right;\">\n",
              "      <th></th>\n",
              "      <th>PassengerId</th>\n",
              "      <th>HomePlanet</th>\n",
              "      <th>CryoSleep</th>\n",
              "      <th>Destination</th>\n",
              "      <th>Age</th>\n",
              "      <th>VIP</th>\n",
              "      <th>Transported</th>\n",
              "      <th>cab1</th>\n",
              "      <th>cab2</th>\n",
              "      <th>cab3</th>\n",
              "    </tr>\n",
              "  </thead>\n",
              "  <tbody>\n",
              "    <tr>\n",
              "      <th>0</th>\n",
              "      <td>0001_01</td>\n",
              "      <td>Europa</td>\n",
              "      <td>False</td>\n",
              "      <td>TRAPPIST-1e</td>\n",
              "      <td>39.0</td>\n",
              "      <td>False</td>\n",
              "      <td>False</td>\n",
              "      <td>B</td>\n",
              "      <td>0</td>\n",
              "      <td>P</td>\n",
              "    </tr>\n",
              "    <tr>\n",
              "      <th>1</th>\n",
              "      <td>0002_01</td>\n",
              "      <td>Earth</td>\n",
              "      <td>False</td>\n",
              "      <td>TRAPPIST-1e</td>\n",
              "      <td>24.0</td>\n",
              "      <td>False</td>\n",
              "      <td>True</td>\n",
              "      <td>F</td>\n",
              "      <td>0</td>\n",
              "      <td>S</td>\n",
              "    </tr>\n",
              "    <tr>\n",
              "      <th>2</th>\n",
              "      <td>0003_01</td>\n",
              "      <td>Europa</td>\n",
              "      <td>False</td>\n",
              "      <td>TRAPPIST-1e</td>\n",
              "      <td>58.0</td>\n",
              "      <td>True</td>\n",
              "      <td>False</td>\n",
              "      <td>A</td>\n",
              "      <td>0</td>\n",
              "      <td>S</td>\n",
              "    </tr>\n",
              "    <tr>\n",
              "      <th>3</th>\n",
              "      <td>0003_02</td>\n",
              "      <td>Europa</td>\n",
              "      <td>False</td>\n",
              "      <td>TRAPPIST-1e</td>\n",
              "      <td>33.0</td>\n",
              "      <td>False</td>\n",
              "      <td>False</td>\n",
              "      <td>A</td>\n",
              "      <td>0</td>\n",
              "      <td>S</td>\n",
              "    </tr>\n",
              "    <tr>\n",
              "      <th>4</th>\n",
              "      <td>0004_01</td>\n",
              "      <td>Earth</td>\n",
              "      <td>False</td>\n",
              "      <td>TRAPPIST-1e</td>\n",
              "      <td>16.0</td>\n",
              "      <td>False</td>\n",
              "      <td>True</td>\n",
              "      <td>F</td>\n",
              "      <td>1</td>\n",
              "      <td>S</td>\n",
              "    </tr>\n",
              "  </tbody>\n",
              "</table>\n",
              "</div>\n",
              "      <button class=\"colab-df-convert\" onclick=\"convertToInteractive('df-9e02b898-0a50-407c-9eed-cd6f04b0154d')\"\n",
              "              title=\"Convert this dataframe to an interactive table.\"\n",
              "              style=\"display:none;\">\n",
              "        \n",
              "  <svg xmlns=\"http://www.w3.org/2000/svg\" height=\"24px\"viewBox=\"0 0 24 24\"\n",
              "       width=\"24px\">\n",
              "    <path d=\"M0 0h24v24H0V0z\" fill=\"none\"/>\n",
              "    <path d=\"M18.56 5.44l.94 2.06.94-2.06 2.06-.94-2.06-.94-.94-2.06-.94 2.06-2.06.94zm-11 1L8.5 8.5l.94-2.06 2.06-.94-2.06-.94L8.5 2.5l-.94 2.06-2.06.94zm10 10l.94 2.06.94-2.06 2.06-.94-2.06-.94-.94-2.06-.94 2.06-2.06.94z\"/><path d=\"M17.41 7.96l-1.37-1.37c-.4-.4-.92-.59-1.43-.59-.52 0-1.04.2-1.43.59L10.3 9.45l-7.72 7.72c-.78.78-.78 2.05 0 2.83L4 21.41c.39.39.9.59 1.41.59.51 0 1.02-.2 1.41-.59l7.78-7.78 2.81-2.81c.8-.78.8-2.07 0-2.86zM5.41 20L4 18.59l7.72-7.72 1.47 1.35L5.41 20z\"/>\n",
              "  </svg>\n",
              "      </button>\n",
              "      \n",
              "  <style>\n",
              "    .colab-df-container {\n",
              "      display:flex;\n",
              "      flex-wrap:wrap;\n",
              "      gap: 12px;\n",
              "    }\n",
              "\n",
              "    .colab-df-convert {\n",
              "      background-color: #E8F0FE;\n",
              "      border: none;\n",
              "      border-radius: 50%;\n",
              "      cursor: pointer;\n",
              "      display: none;\n",
              "      fill: #1967D2;\n",
              "      height: 32px;\n",
              "      padding: 0 0 0 0;\n",
              "      width: 32px;\n",
              "    }\n",
              "\n",
              "    .colab-df-convert:hover {\n",
              "      background-color: #E2EBFA;\n",
              "      box-shadow: 0px 1px 2px rgba(60, 64, 67, 0.3), 0px 1px 3px 1px rgba(60, 64, 67, 0.15);\n",
              "      fill: #174EA6;\n",
              "    }\n",
              "\n",
              "    [theme=dark] .colab-df-convert {\n",
              "      background-color: #3B4455;\n",
              "      fill: #D2E3FC;\n",
              "    }\n",
              "\n",
              "    [theme=dark] .colab-df-convert:hover {\n",
              "      background-color: #434B5C;\n",
              "      box-shadow: 0px 1px 3px 1px rgba(0, 0, 0, 0.15);\n",
              "      filter: drop-shadow(0px 1px 2px rgba(0, 0, 0, 0.3));\n",
              "      fill: #FFFFFF;\n",
              "    }\n",
              "  </style>\n",
              "\n",
              "      <script>\n",
              "        const buttonEl =\n",
              "          document.querySelector('#df-9e02b898-0a50-407c-9eed-cd6f04b0154d button.colab-df-convert');\n",
              "        buttonEl.style.display =\n",
              "          google.colab.kernel.accessAllowed ? 'block' : 'none';\n",
              "\n",
              "        async function convertToInteractive(key) {\n",
              "          const element = document.querySelector('#df-9e02b898-0a50-407c-9eed-cd6f04b0154d');\n",
              "          const dataTable =\n",
              "            await google.colab.kernel.invokeFunction('convertToInteractive',\n",
              "                                                     [key], {});\n",
              "          if (!dataTable) return;\n",
              "\n",
              "          const docLinkHtml = 'Like what you see? Visit the ' +\n",
              "            '<a target=\"_blank\" href=https://colab.research.google.com/notebooks/data_table.ipynb>data table notebook</a>'\n",
              "            + ' to learn more about interactive tables.';\n",
              "          element.innerHTML = '';\n",
              "          dataTable['output_type'] = 'display_data';\n",
              "          await google.colab.output.renderOutput(dataTable, element);\n",
              "          const docLink = document.createElement('div');\n",
              "          docLink.innerHTML = docLinkHtml;\n",
              "          element.appendChild(docLink);\n",
              "        }\n",
              "      </script>\n",
              "    </div>\n",
              "  </div>\n",
              "  "
            ]
          },
          "metadata": {},
          "execution_count": 162
        }
      ]
    },
    {
      "cell_type": "code",
      "source": [
        "sns.countplot(data = dftest, x = 'HomePlanet', hue = 'cab1')"
      ],
      "metadata": {
        "colab": {
          "base_uri": "https://localhost:8080/",
          "height": 296
        },
        "id": "rfW7dFt0ump5",
        "outputId": "73f23e75-1341-4480-c14d-b4b3e0c9dbd4"
      },
      "execution_count": 163,
      "outputs": [
        {
          "output_type": "execute_result",
          "data": {
            "text/plain": [
              "<matplotlib.axes._subplots.AxesSubplot at 0x7fd3c5dbd190>"
            ]
          },
          "metadata": {},
          "execution_count": 163
        },
        {
          "output_type": "display_data",
          "data": {
            "text/plain": [
              "<Figure size 432x288 with 1 Axes>"
            ],
            "image/png": "[encoded data removed]"
          },
          "metadata": {
            "needs_background": "light"
          }
        }
      ]
    },
    {
      "cell_type": "code",
      "source": [
        "sns.countplot(data = dftest, x = 'cab1', hue = 'HomePlanet')"
      ],
      "metadata": {
        "colab": {
          "base_uri": "https://localhost:8080/",
          "height": 296
        },
        "id": "psjHKJEKummW",
        "outputId": "7295c842-3667-4bf4-896f-f538d88e5ab3"
      },
      "execution_count": 164,
      "outputs": [
        {
          "output_type": "execute_result",
          "data": {
            "text/plain": [
              "<matplotlib.axes._subplots.AxesSubplot at 0x7fd3c2d31310>"
            ]
          },
          "metadata": {},
          "execution_count": 164
        },
        {
          "output_type": "display_data",
          "data": {
            "text/plain": [
              "<Figure size 432x288 with 1 Axes>"
            ],
            "image/png": "[encoded data removed]"
          },
          "metadata": {
            "needs_background": "light"
          }
        }
      ]
    },
    {
      "cell_type": "code",
      "source": [
        "dftest['HomePlanet'].isna().sum()"
      ],
      "metadata": {
        "colab": {
          "base_uri": "https://localhost:8080/"
        },
        "id": "lVKvMNpEyssT",
        "outputId": "ff71cbfa-7bd4-4e0a-d12f-773dc3540718"
      },
      "execution_count": 165,
      "outputs": [
        {
          "output_type": "execute_result",
          "data": {
            "text/plain": [
              "201"
            ]
          },
          "metadata": {},
          "execution_count": 165
        }
      ]
    },
    {
      "cell_type": "code",
      "source": [
        "a = dftest[(dftest['HomePlanet'].isna() == True) & (dftest['cab1'] == 'A')].assign(homeplanet = 'Europa')\n",
        "\n",
        "b = dftest[(dftest['HomePlanet'].isna() == True) & (dftest['cab1'] == 'B')].assign(homeplanet = 'Europa')\n",
        "\n",
        "c = dftest[(dftest['HomePlanet'].isna() == True) & (dftest['cab1'] == 'C')].assign(homeplanet = 'Europa')\n",
        "\n",
        "d = dftest[(dftest['HomePlanet'].isna() == True) & (dftest['cab1'] == 'D')].assign(homeplanet = 'Mars' )\n",
        "\n",
        "e = dftest[(dftest['HomePlanet'].isna() == True) & (dftest['cab1'] == 'E')].assign(homeplanet = 'Earth' )\n",
        "\n",
        "f = dftest[(dftest['HomePlanet'].isna() == True) & (dftest['cab1'] == 'F')].assign(homeplanet = 'Earth' )\n",
        "\n",
        "g = dftest[(dftest['HomePlanet'].isna() == True) & (dftest['cab1'] == 'G')].assign(homeplanet = 'Earth' )\n",
        "\n",
        "t = dftest[(dftest['HomePlanet'].isna() == True) & (dftest['cab1'] == 'T')].assign(homeplanet = 'Europa')\n",
        "\n",
        "other = dftest[(dftest['HomePlanet'].isna() == False)].assign(homeplanet = dftest['HomePlanet'])\n",
        "\n",
        "other1 = dftest[(dftest['HomePlanet'].isna() == True) & (dftest['cab1'].isna() == True)].assign(homeplanet = 'Earth')\n"
      ],
      "metadata": {
        "id": "052ssWjI2DtI"
      },
      "execution_count": 182,
      "outputs": []
    },
    {
      "cell_type": "code",
      "source": [
        "df_merged = pd.concat([a, b, c , d, e, f, g, t, other,other1], ignore_index=False, sort=False)"
      ],
      "metadata": {
        "id": "qfz-8Lts7qGo"
      },
      "execution_count": 183,
      "outputs": []
    },
    {
      "cell_type": "code",
      "source": [],
      "metadata": {
        "id": "eMdmB0aV_rRg"
      },
      "execution_count": null,
      "outputs": []
    },
    {
      "cell_type": "code",
      "source": [
        "df_merged.shape"
      ],
      "metadata": {
        "colab": {
          "base_uri": "https://localhost:8080/"
        },
        "id": "FpQas51n947G",
        "outputId": "732d5624-a4fa-4f55-d700-e579faf51cf3"
      },
      "execution_count": 184,
      "outputs": [
        {
          "output_type": "execute_result",
          "data": {
            "text/plain": [
              "(8693, 11)"
            ]
          },
          "metadata": {},
          "execution_count": 184
        }
      ]
    },
    {
      "cell_type": "code",
      "source": [
        "dftest.shape"
      ],
      "metadata": {
        "colab": {
          "base_uri": "https://localhost:8080/"
        },
        "id": "YOQKyX1A-BC7",
        "outputId": "f032d6dd-4bcf-421a-ed7a-7129939e338e"
      },
      "execution_count": 174,
      "outputs": [
        {
          "output_type": "execute_result",
          "data": {
            "text/plain": [
              "(8693, 10)"
            ]
          },
          "metadata": {},
          "execution_count": 174
        }
      ]
    },
    {
      "cell_type": "code",
      "source": [
        "test.shape"
      ],
      "metadata": {
        "colab": {
          "base_uri": "https://localhost:8080/"
        },
        "id": "gcj8Zh6j-c0p",
        "outputId": "63690f02-05e7-42d4-9732-2ffa8b05e924"
      },
      "execution_count": 176,
      "outputs": [
        {
          "output_type": "execute_result",
          "data": {
            "text/plain": [
              "(4277, 7)"
            ]
          },
          "metadata": {},
          "execution_count": 176
        }
      ]
    },
    {
      "cell_type": "code",
      "source": [],
      "metadata": {
        "id": "1DIfSGHV_FwT"
      },
      "execution_count": null,
      "outputs": []
    },
    {
      "cell_type": "code",
      "source": [
        "test1 = test.copy()"
      ],
      "metadata": {
        "id": "qXALwFcT_Q0k"
      },
      "execution_count": 178,
      "outputs": []
    },
    {
      "cell_type": "code",
      "source": [
        "new = test1['Cabin'].str.split('/',expand=True) "
      ],
      "metadata": {
        "id": "RTM01aza_Q0l"
      },
      "execution_count": 179,
      "outputs": []
    },
    {
      "cell_type": "code",
      "source": [
        "test1['cab1'] = new[0]\n",
        "test1['cab2'] = new[1]\n",
        "test1['cab3'] = new[2]"
      ],
      "metadata": {
        "id": "0GvirCPn_Q0l"
      },
      "execution_count": 180,
      "outputs": []
    },
    {
      "cell_type": "code",
      "source": [
        "test1.drop(columns =[\"Cabin\"], inplace = True)"
      ],
      "metadata": {
        "id": "Xfrv1G03_Q0m"
      },
      "execution_count": 186,
      "outputs": []
    },
    {
      "cell_type": "code",
      "source": [
        "test1.head()"
      ],
      "metadata": {
        "colab": {
          "base_uri": "https://localhost:8080/",
          "height": 206
        },
        "outputId": "158779d1-8392-4e3c-d327-d89c3b41dc13",
        "id": "cBmYk0SY_Q0m"
      },
      "execution_count": 187,
      "outputs": [
        {
          "output_type": "execute_result",
          "data": {
            "text/plain": [
              "  PassengerId HomePlanet CryoSleep  Destination   Age    VIP cab1 cab2 cab3\n",
              "0     0013_01      Earth      True  TRAPPIST-1e  27.0  False    G    3    S\n",
              "1     0018_01      Earth     False  TRAPPIST-1e  19.0  False    F    4    S\n",
              "2     0019_01     Europa      True  55 Cancri e  31.0  False    C    0    S\n",
              "3     0021_01     Europa     False  TRAPPIST-1e  38.0  False    C    1    S\n",
              "4     0023_01      Earth     False  TRAPPIST-1e  20.0  False    F    5    S"
            ],
            "text/html": [
              "\n",
              "  <div id=\"df-a0fe7f06-203a-497c-b595-1f5c0be1f91c\">\n",
              "    <div class=\"colab-df-container\">\n",
              "      <div>\n",
              "<style scoped>\n",
              "    .dataframe tbody tr th:only-of-type {\n",
              "        vertical-align: middle;\n",
              "    }\n",
              "\n",
              "    .dataframe tbody tr th {\n",
              "        vertical-align: top;\n",
              "    }\n",
              "\n",
              "    .dataframe thead th {\n",
              "        text-align: right;\n",
              "    }\n",
              "</style>\n",
              "<table border=\"1\" class=\"dataframe\">\n",
              "  <thead>\n",
              "    <tr style=\"text-align: right;\">\n",
              "      <th></th>\n",
              "      <th>PassengerId</th>\n",
              "      <th>HomePlanet</th>\n",
              "      <th>CryoSleep</th>\n",
              "      <th>Destination</th>\n",
              "      <th>Age</th>\n",
              "      <th>VIP</th>\n",
              "      <th>cab1</th>\n",
              "      <th>cab2</th>\n",
              "      <th>cab3</th>\n",
              "    </tr>\n",
              "  </thead>\n",
              "  <tbody>\n",
              "    <tr>\n",
              "      <th>0</th>\n",
              "      <td>0013_01</td>\n",
              "      <td>Earth</td>\n",
              "      <td>True</td>\n",
              "      <td>TRAPPIST-1e</td>\n",
              "      <td>27.0</td>\n",
              "      <td>False</td>\n",
              "      <td>G</td>\n",
              "      <td>3</td>\n",
              "      <td>S</td>\n",
              "    </tr>\n",
              "    <tr>\n",
              "      <th>1</th>\n",
              "      <td>0018_01</td>\n",
              "      <td>Earth</td>\n",
              "      <td>False</td>\n",
              "      <td>TRAPPIST-1e</td>\n",
              "      <td>19.0</td>\n",
              "      <td>False</td>\n",
              "      <td>F</td>\n",
              "      <td>4</td>\n",
              "      <td>S</td>\n",
              "    </tr>\n",
              "    <tr>\n",
              "      <th>2</th>\n",
              "      <td>0019_01</td>\n",
              "      <td>Europa</td>\n",
              "      <td>True</td>\n",
              "      <td>55 Cancri e</td>\n",
              "      <td>31.0</td>\n",
              "      <td>False</td>\n",
              "      <td>C</td>\n",
              "      <td>0</td>\n",
              "      <td>S</td>\n",
              "    </tr>\n",
              "    <tr>\n",
              "      <th>3</th>\n",
              "      <td>0021_01</td>\n",
              "      <td>Europa</td>\n",
              "      <td>False</td>\n",
              "      <td>TRAPPIST-1e</td>\n",
              "      <td>38.0</td>\n",
              "      <td>False</td>\n",
              "      <td>C</td>\n",
              "      <td>1</td>\n",
              "      <td>S</td>\n",
              "    </tr>\n",
              "    <tr>\n",
              "      <th>4</th>\n",
              "      <td>0023_01</td>\n",
              "      <td>Earth</td>\n",
              "      <td>False</td>\n",
              "      <td>TRAPPIST-1e</td>\n",
              "      <td>20.0</td>\n",
              "      <td>False</td>\n",
              "      <td>F</td>\n",
              "      <td>5</td>\n",
              "      <td>S</td>\n",
              "    </tr>\n",
              "  </tbody>\n",
              "</table>\n",
              "</div>\n",
              "      <button class=\"colab-df-convert\" onclick=\"convertToInteractive('df-a0fe7f06-203a-497c-b595-1f5c0be1f91c')\"\n",
              "              title=\"Convert this dataframe to an interactive table.\"\n",
              "              style=\"display:none;\">\n",
              "        \n",
              "  <svg xmlns=\"http://www.w3.org/2000/svg\" height=\"24px\"viewBox=\"0 0 24 24\"\n",
              "       width=\"24px\">\n",
              "    <path d=\"M0 0h24v24H0V0z\" fill=\"none\"/>\n",
              "    <path d=\"M18.56 5.44l.94 2.06.94-2.06 2.06-.94-2.06-.94-.94-2.06-.94 2.06-2.06.94zm-11 1L8.5 8.5l.94-2.06 2.06-.94-2.06-.94L8.5 2.5l-.94 2.06-2.06.94zm10 10l.94 2.06.94-2.06 2.06-.94-2.06-.94-.94-2.06-.94 2.06-2.06.94z\"/><path d=\"M17.41 7.96l-1.37-1.37c-.4-.4-.92-.59-1.43-.59-.52 0-1.04.2-1.43.59L10.3 9.45l-7.72 7.72c-.78.78-.78 2.05 0 2.83L4 21.41c.39.39.9.59 1.41.59.51 0 1.02-.2 1.41-.59l7.78-7.78 2.81-2.81c.8-.78.8-2.07 0-2.86zM5.41 20L4 18.59l7.72-7.72 1.47 1.35L5.41 20z\"/>\n",
              "  </svg>\n",
              "      </button>\n",
              "      \n",
              "  <style>\n",
              "    .colab-df-container {\n",
              "      display:flex;\n",
              "      flex-wrap:wrap;\n",
              "      gap: 12px;\n",
              "    }\n",
              "\n",
              "    .colab-df-convert {\n",
              "      background-color: #E8F0FE;\n",
              "      border: none;\n",
              "      border-radius: 50%;\n",
              "      cursor: pointer;\n",
              "      display: none;\n",
              "      fill: #1967D2;\n",
              "      height: 32px;\n",
              "      padding: 0 0 0 0;\n",
              "      width: 32px;\n",
              "    }\n",
              "\n",
              "    .colab-df-convert:hover {\n",
              "      background-color: #E2EBFA;\n",
              "      box-shadow: 0px 1px 2px rgba(60, 64, 67, 0.3), 0px 1px 3px 1px rgba(60, 64, 67, 0.15);\n",
              "      fill: #174EA6;\n",
              "    }\n",
              "\n",
              "    [theme=dark] .colab-df-convert {\n",
              "      background-color: #3B4455;\n",
              "      fill: #D2E3FC;\n",
              "    }\n",
              "\n",
              "    [theme=dark] .colab-df-convert:hover {\n",
              "      background-color: #434B5C;\n",
              "      box-shadow: 0px 1px 3px 1px rgba(0, 0, 0, 0.15);\n",
              "      filter: drop-shadow(0px 1px 2px rgba(0, 0, 0, 0.3));\n",
              "      fill: #FFFFFF;\n",
              "    }\n",
              "  </style>\n",
              "\n",
              "      <script>\n",
              "        const buttonEl =\n",
              "          document.querySelector('#df-a0fe7f06-203a-497c-b595-1f5c0be1f91c button.colab-df-convert');\n",
              "        buttonEl.style.display =\n",
              "          google.colab.kernel.accessAllowed ? 'block' : 'none';\n",
              "\n",
              "        async function convertToInteractive(key) {\n",
              "          const element = document.querySelector('#df-a0fe7f06-203a-497c-b595-1f5c0be1f91c');\n",
              "          const dataTable =\n",
              "            await google.colab.kernel.invokeFunction('convertToInteractive',\n",
              "                                                     [key], {});\n",
              "          if (!dataTable) return;\n",
              "\n",
              "          const docLinkHtml = 'Like what you see? Visit the ' +\n",
              "            '<a target=\"_blank\" href=https://colab.research.google.com/notebooks/data_table.ipynb>data table notebook</a>'\n",
              "            + ' to learn more about interactive tables.';\n",
              "          element.innerHTML = '';\n",
              "          dataTable['output_type'] = 'display_data';\n",
              "          await google.colab.output.renderOutput(dataTable, element);\n",
              "          const docLink = document.createElement('div');\n",
              "          docLink.innerHTML = docLinkHtml;\n",
              "          element.appendChild(docLink);\n",
              "        }\n",
              "      </script>\n",
              "    </div>\n",
              "  </div>\n",
              "  "
            ]
          },
          "metadata": {},
          "execution_count": 187
        }
      ]
    },
    {
      "cell_type": "code",
      "source": [
        "a1 = test1[(test1['HomePlanet'].isna() == True) & (test1['cab1'] == 'A')].assign(homeplanet = 'Europa')\n",
        "\n",
        "b1 = test1[(test1['HomePlanet'].isna() == True) & (test1['cab1'] == 'B')].assign(homeplanet = 'Europa')\n",
        "\n",
        "c1 = test1[(test1['HomePlanet'].isna() == True) & (test1['cab1'] == 'C')].assign(homeplanet = 'Europa')\n",
        "\n",
        "d1 = test1[(test1['HomePlanet'].isna() == True) & (test1['cab1'] == 'D')].assign(homeplanet = 'Mars' )\n",
        "\n",
        "e1 = test1[(test1['HomePlanet'].isna() == True) & (test1['cab1'] == 'E')].assign(homeplanet = 'Earth' )\n",
        "\n",
        "f1 = test1[(test1['HomePlanet'].isna() == True) & (test1['cab1'] == 'F')].assign(homeplanet = 'Earth' )\n",
        "\n",
        "g1 = test1[(test1['HomePlanet'].isna() == True) & (test1['cab1'] == 'G')].assign(homeplanet = 'Earth' )\n",
        "\n",
        "t1 = test1[(test1['HomePlanet'].isna() == True) & (test1['cab1'] == 'T')].assign(homeplanet = 'Europa')\n",
        "\n",
        "other1 = test1[(test1['HomePlanet'].isna() == False)].assign(homeplanet = test1['HomePlanet'])\n",
        "\n",
        "other11 = test1[(test1['HomePlanet'].isna() == True) & (test1['cab1'].isna() == True)].assign(homeplanet = 'Earth')"
      ],
      "metadata": {
        "id": "udoUNGFaAW92"
      },
      "execution_count": 199,
      "outputs": []
    },
    {
      "cell_type": "code",
      "source": [
        "test_merged = pd.concat([a1, b1, c1 , d1, e1, f1, g1, t1, other1,other11], ignore_index=False, sort=False)"
      ],
      "metadata": {
        "id": "2D4R--ATAxSv"
      },
      "execution_count": 200,
      "outputs": []
    },
    {
      "cell_type": "code",
      "source": [
        "test_merged.shape"
      ],
      "metadata": {
        "colab": {
          "base_uri": "https://localhost:8080/"
        },
        "id": "l9XE13hfBVUs",
        "outputId": "1e18768a-4789-4db4-ea0a-dfc62e4cbb28"
      },
      "execution_count": 201,
      "outputs": [
        {
          "output_type": "execute_result",
          "data": {
            "text/plain": [
              "(4277, 10)"
            ]
          },
          "metadata": {},
          "execution_count": 201
        }
      ]
    },
    {
      "cell_type": "code",
      "source": [],
      "metadata": {
        "id": "9fbVQbPKBYJA"
      },
      "execution_count": 201,
      "outputs": []
    },
    {
      "cell_type": "code",
      "source": [
        "df_merged.isna().mean()"
      ],
      "metadata": {
        "colab": {
          "base_uri": "https://localhost:8080/"
        },
        "id": "YUvboLToBfWe",
        "outputId": "e62164c8-c70f-4cca-948c-a1f39f81ee28"
      },
      "execution_count": 202,
      "outputs": [
        {
          "output_type": "execute_result",
          "data": {
            "text/plain": [
              "PassengerId    0.000000\n",
              "HomePlanet     0.023122\n",
              "CryoSleep      0.024963\n",
              "Destination    0.020936\n",
              "Age            0.020591\n",
              "VIP            0.000000\n",
              "Transported    0.000000\n",
              "cab1           0.022892\n",
              "cab2           0.022892\n",
              "cab3           0.022892\n",
              "homeplanet     0.000000\n",
              "dtype: float64"
            ]
          },
          "metadata": {},
          "execution_count": 202
        }
      ]
    },
    {
      "cell_type": "code",
      "source": [
        "test_merged.isna().mean()"
      ],
      "metadata": {
        "colab": {
          "base_uri": "https://localhost:8080/"
        },
        "id": "uLOQOnV3BfSY",
        "outputId": "33079140-5bd6-46e0-decb-490a512a5a86"
      },
      "execution_count": 203,
      "outputs": [
        {
          "output_type": "execute_result",
          "data": {
            "text/plain": [
              "PassengerId    0.000000\n",
              "HomePlanet     0.020341\n",
              "CryoSleep      0.021744\n",
              "Destination    0.021510\n",
              "Age            0.021277\n",
              "VIP            0.021744\n",
              "cab1           0.023381\n",
              "cab2           0.023381\n",
              "cab3           0.023381\n",
              "homeplanet     0.000000\n",
              "dtype: float64"
            ]
          },
          "metadata": {},
          "execution_count": 203
        }
      ]
    },
    {
      "cell_type": "code",
      "source": [
        "df_merged['Age'] = df_merged['Age'].fillna(df_merged['Age'].median())"
      ],
      "metadata": {
        "id": "PGUSE-NqCR6k"
      },
      "execution_count": 205,
      "outputs": []
    },
    {
      "cell_type": "code",
      "source": [
        "test_merged['Age'] = test_merged['Age'].fillna(test_merged['Age'].median())"
      ],
      "metadata": {
        "id": "qK1mMxPuCoCM"
      },
      "execution_count": 207,
      "outputs": []
    },
    {
      "cell_type": "code",
      "source": [
        "test_merged.isna().mean()"
      ],
      "metadata": {
        "colab": {
          "base_uri": "https://localhost:8080/"
        },
        "id": "Hp9zP95SC2Hn",
        "outputId": "5f7c5492-890f-47e3-b792-9793dac6bfed"
      },
      "execution_count": 208,
      "outputs": [
        {
          "output_type": "execute_result",
          "data": {
            "text/plain": [
              "PassengerId    0.000000\n",
              "HomePlanet     0.020341\n",
              "CryoSleep      0.021744\n",
              "Destination    0.021510\n",
              "Age            0.000000\n",
              "VIP            0.021744\n",
              "cab1           0.023381\n",
              "cab2           0.023381\n",
              "cab3           0.023381\n",
              "homeplanet     0.000000\n",
              "dtype: float64"
            ]
          },
          "metadata": {},
          "execution_count": 208
        }
      ]
    },
    {
      "cell_type": "code",
      "source": [
        "df_merged['VIP'].value_counts()"
      ],
      "metadata": {
        "colab": {
          "base_uri": "https://localhost:8080/"
        },
        "id": "PxPwhkZUDAFs",
        "outputId": "5ae3204a-b181-437f-96ab-01c4d96e3ded"
      },
      "execution_count": 209,
      "outputs": [
        {
          "output_type": "execute_result",
          "data": {
            "text/plain": [
              "False    8494\n",
              "True      199\n",
              "Name: VIP, dtype: int64"
            ]
          },
          "metadata": {},
          "execution_count": 209
        }
      ]
    },
    {
      "cell_type": "code",
      "source": [],
      "metadata": {
        "id": "5ShKFD-1DZOZ"
      },
      "execution_count": null,
      "outputs": []
    },
    {
      "cell_type": "code",
      "source": [
        "df_merged['VIP'] = df_merged['VIP'].fillna(False)"
      ],
      "metadata": {
        "id": "qiyIWnjpEEEa"
      },
      "execution_count": 218,
      "outputs": []
    },
    {
      "cell_type": "code",
      "source": [
        "test_merged['VIP'] = test_merged['VIP'].fillna(False)"
      ],
      "metadata": {
        "id": "4lUsfuLIEEEa"
      },
      "execution_count": 219,
      "outputs": []
    },
    {
      "cell_type": "code",
      "source": [
        "test_merged.isna().mean()"
      ],
      "metadata": {
        "colab": {
          "base_uri": "https://localhost:8080/"
        },
        "id": "qWtFDmtxET_Z",
        "outputId": "a1269339-9cdc-474b-c065-adc842812f7b"
      },
      "execution_count": 224,
      "outputs": [
        {
          "output_type": "execute_result",
          "data": {
            "text/plain": [
              "PassengerId    0.000000\n",
              "HomePlanet     0.020341\n",
              "CryoSleep      0.021744\n",
              "Destination    0.021510\n",
              "Age            0.000000\n",
              "VIP            0.000000\n",
              "cab1           0.023381\n",
              "cab2           0.023381\n",
              "cab3           0.023381\n",
              "homeplanet     0.000000\n",
              "dtype: float64"
            ]
          },
          "metadata": {},
          "execution_count": 224
        }
      ]
    },
    {
      "cell_type": "code",
      "source": [
        "df_merged.isna().mean()"
      ],
      "metadata": {
        "colab": {
          "base_uri": "https://localhost:8080/"
        },
        "id": "50sjqT_OEi_6",
        "outputId": "8ac210bb-034a-4ef2-9854-54ab2b9b6647"
      },
      "execution_count": 225,
      "outputs": [
        {
          "output_type": "execute_result",
          "data": {
            "text/plain": [
              "PassengerId    0.000000\n",
              "HomePlanet     0.023122\n",
              "CryoSleep      0.024963\n",
              "Destination    0.020936\n",
              "Age            0.000000\n",
              "VIP            0.000000\n",
              "Transported    0.000000\n",
              "cab1           0.022892\n",
              "cab2           0.022892\n",
              "cab3           0.022892\n",
              "homeplanet     0.000000\n",
              "dtype: float64"
            ]
          },
          "metadata": {},
          "execution_count": 225
        }
      ]
    },
    {
      "cell_type": "code",
      "source": [
        "df_merged['cab1'].value_counts()"
      ],
      "metadata": {
        "colab": {
          "base_uri": "https://localhost:8080/"
        },
        "id": "TWYnv9MlEmj6",
        "outputId": "27209de7-5675-4c71-8c28-48b12042304a"
      },
      "execution_count": 226,
      "outputs": [
        {
          "output_type": "execute_result",
          "data": {
            "text/plain": [
              "F    2794\n",
              "G    2559\n",
              "E     876\n",
              "B     779\n",
              "C     747\n",
              "D     478\n",
              "A     256\n",
              "T       5\n",
              "Name: cab1, dtype: int64"
            ]
          },
          "metadata": {},
          "execution_count": 226
        }
      ]
    },
    {
      "cell_type": "code",
      "source": [
        "sns.countplot(data = df_merged, x = 'cab1', hue = 'CryoSleep')"
      ],
      "metadata": {
        "colab": {
          "base_uri": "https://localhost:8080/",
          "height": 296
        },
        "id": "e8Fy6T-wE7jI",
        "outputId": "08e616b3-3818-45b4-b397-1be0dfd4821a"
      },
      "execution_count": 227,
      "outputs": [
        {
          "output_type": "execute_result",
          "data": {
            "text/plain": [
              "<matplotlib.axes._subplots.AxesSubplot at 0x7fd3c2c57100>"
            ]
          },
          "metadata": {},
          "execution_count": 227
        },
        {
          "output_type": "display_data",
          "data": {
            "text/plain": [
              "<Figure size 432x288 with 1 Axes>"
            ],
            "image/png": "[encoded data removed]"
          },
          "metadata": {
            "needs_background": "light"
          }
        }
      ]
    },
    {
      "cell_type": "code",
      "source": [
        "sns.countplot(data = df_merged, x = 'cab1', hue = 'HomePlanet')"
      ],
      "metadata": {
        "colab": {
          "base_uri": "https://localhost:8080/",
          "height": 296
        },
        "id": "A3fXAmQmFLti",
        "outputId": "ebba40c2-9cdd-4888-e4c3-201927c85d68"
      },
      "execution_count": 229,
      "outputs": [
        {
          "output_type": "execute_result",
          "data": {
            "text/plain": [
              "<matplotlib.axes._subplots.AxesSubplot at 0x7fd3c2fcdac0>"
            ]
          },
          "metadata": {},
          "execution_count": 229
        },
        {
          "output_type": "display_data",
          "data": {
            "text/plain": [
              "<Figure size 432x288 with 1 Axes>"
            ],
            "image/png": "[encoded data removed]"
          },
          "metadata": {
            "needs_background": "light"
          }
        }
      ]
    },
    {
      "cell_type": "code",
      "source": [
        "sns.countplot(data = df_merged, x = 'HomePlanet', hue = 'cab1')"
      ],
      "metadata": {
        "colab": {
          "base_uri": "https://localhost:8080/",
          "height": 296
        },
        "id": "9I3_kfdeGfHu",
        "outputId": "8c8185be-66e4-431b-fa07-18e741a53444"
      },
      "execution_count": 232,
      "outputs": [
        {
          "output_type": "execute_result",
          "data": {
            "text/plain": [
              "<matplotlib.axes._subplots.AxesSubplot at 0x7fd3c318ddc0>"
            ]
          },
          "metadata": {},
          "execution_count": 232
        },
        {
          "output_type": "display_data",
          "data": {
            "text/plain": [
              "<Figure size 432x288 with 1 Axes>"
            ],
            "image/png": "[encoded data removed]"
          },
          "metadata": {
            "needs_background": "light"
          }
        }
      ]
    },
    {
      "cell_type": "code",
      "source": [
        "df_merged[(df_merged['cab1'].isna() == True)]"
      ],
      "metadata": {
        "colab": {
          "base_uri": "https://localhost:8080/",
          "height": 423
        },
        "id": "PGxf99dXFRlH",
        "outputId": "3e983425-7d58-452c-c05f-4447898ad63f"
      },
      "execution_count": 231,
      "outputs": [
        {
          "output_type": "execute_result",
          "data": {
            "text/plain": [
              "     PassengerId HomePlanet CryoSleep  Destination   Age    VIP  Transported  \\\n",
              "15       0012_01      Earth     False  TRAPPIST-1e  31.0  False        False   \n",
              "93       0101_01       Mars      True  TRAPPIST-1e  31.0  False         True   \n",
              "103      0110_01     Europa     False  TRAPPIST-1e  32.0  False        False   \n",
              "222      0239_01       Mars     False  TRAPPIST-1e  37.0  False        False   \n",
              "227      0244_01       Mars      True  TRAPPIST-1e  43.0  False         True   \n",
              "...          ...        ...       ...          ...   ...    ...          ...   \n",
              "1714     1823_01        NaN     False  TRAPPIST-1e  67.0  False         True   \n",
              "2227     2384_07        NaN      True  TRAPPIST-1e  11.0  False         True   \n",
              "3858     4134_01        NaN      True  TRAPPIST-1e  40.0  False         True   \n",
              "6267     6634_02        NaN      True  TRAPPIST-1e  64.0  False         True   \n",
              "7293     7801_01        NaN     False  55 Cancri e  21.0  False        False   \n",
              "\n",
              "     cab1 cab2 cab3 homeplanet  \n",
              "15    NaN  NaN  NaN      Earth  \n",
              "93    NaN  NaN  NaN       Mars  \n",
              "103   NaN  NaN  NaN     Europa  \n",
              "222   NaN  NaN  NaN       Mars  \n",
              "227   NaN  NaN  NaN       Mars  \n",
              "...   ...  ...  ...        ...  \n",
              "1714  NaN  NaN  NaN      Earth  \n",
              "2227  NaN  NaN  NaN      Earth  \n",
              "3858  NaN  NaN  NaN      Earth  \n",
              "6267  NaN  NaN  NaN      Earth  \n",
              "7293  NaN  NaN  NaN      Earth  \n",
              "\n",
              "[199 rows x 11 columns]"
            ],
            "text/html": [
              "\n",
              "  <div id=\"df-fbc297e9-a08c-487d-8191-f9441e0df442\">\n",
              "    <div class=\"colab-df-container\">\n",
              "      <div>\n",
              "<style scoped>\n",
              "    .dataframe tbody tr th:only-of-type {\n",
              "        vertical-align: middle;\n",
              "    }\n",
              "\n",
              "    .dataframe tbody tr th {\n",
              "        vertical-align: top;\n",
              "    }\n",
              "\n",
              "    .dataframe thead th {\n",
              "        text-align: right;\n",
              "    }\n",
              "</style>\n",
              "<table border=\"1\" class=\"dataframe\">\n",
              "  <thead>\n",
              "    <tr style=\"text-align: right;\">\n",
              "      <th></th>\n",
              "      <th>PassengerId</th>\n",
              "      <th>HomePlanet</th>\n",
              "      <th>CryoSleep</th>\n",
              "      <th>Destination</th>\n",
              "      <th>Age</th>\n",
              "      <th>VIP</th>\n",
              "      <th>Transported</th>\n",
              "      <th>cab1</th>\n",
              "      <th>cab2</th>\n",
              "      <th>cab3</th>\n",
              "      <th>homeplanet</th>\n",
              "    </tr>\n",
              "  </thead>\n",
              "  <tbody>\n",
              "    <tr>\n",
              "      <th>15</th>\n",
              "      <td>0012_01</td>\n",
              "      <td>Earth</td>\n",
              "      <td>False</td>\n",
              "      <td>TRAPPIST-1e</td>\n",
              "      <td>31.0</td>\n",
              "      <td>False</td>\n",
              "      <td>False</td>\n",
              "      <td>NaN</td>\n",
              "      <td>NaN</td>\n",
              "      <td>NaN</td>\n",
              "      <td>Earth</td>\n",
              "    </tr>\n",
              "    <tr>\n",
              "      <th>93</th>\n",
              "      <td>0101_01</td>\n",
              "      <td>Mars</td>\n",
              "      <td>True</td>\n",
              "      <td>TRAPPIST-1e</td>\n",
              "      <td>31.0</td>\n",
              "      <td>False</td>\n",
              "      <td>True</td>\n",
              "      <td>NaN</td>\n",
              "      <td>NaN</td>\n",
              "      <td>NaN</td>\n",
              "      <td>Mars</td>\n",
              "    </tr>\n",
              "    <tr>\n",
              "      <th>103</th>\n",
              "      <td>0110_01</td>\n",
              "      <td>Europa</td>\n",
              "      <td>False</td>\n",
              "      <td>TRAPPIST-1e</td>\n",
              "      <td>32.0</td>\n",
              "      <td>False</td>\n",
              "      <td>False</td>\n",
              "      <td>NaN</td>\n",
              "      <td>NaN</td>\n",
              "      <td>NaN</td>\n",
              "      <td>Europa</td>\n",
              "    </tr>\n",
              "    <tr>\n",
              "      <th>222</th>\n",
              "      <td>0239_01</td>\n",
              "      <td>Mars</td>\n",
              "      <td>False</td>\n",
              "      <td>TRAPPIST-1e</td>\n",
              "      <td>37.0</td>\n",
              "      <td>False</td>\n",
              "      <td>False</td>\n",
              "      <td>NaN</td>\n",
              "      <td>NaN</td>\n",
              "      <td>NaN</td>\n",
              "      <td>Mars</td>\n",
              "    </tr>\n",
              "    <tr>\n",
              "      <th>227</th>\n",
              "      <td>0244_01</td>\n",
              "      <td>Mars</td>\n",
              "      <td>True</td>\n",
              "      <td>TRAPPIST-1e</td>\n",
              "      <td>43.0</td>\n",
              "      <td>False</td>\n",
              "      <td>True</td>\n",
              "      <td>NaN</td>\n",
              "      <td>NaN</td>\n",
              "      <td>NaN</td>\n",
              "      <td>Mars</td>\n",
              "    </tr>\n",
              "    <tr>\n",
              "      <th>...</th>\n",
              "      <td>...</td>\n",
              "      <td>...</td>\n",
              "      <td>...</td>\n",
              "      <td>...</td>\n",
              "      <td>...</td>\n",
              "      <td>...</td>\n",
              "      <td>...</td>\n",
              "      <td>...</td>\n",
              "      <td>...</td>\n",
              "      <td>...</td>\n",
              "      <td>...</td>\n",
              "    </tr>\n",
              "    <tr>\n",
              "      <th>1714</th>\n",
              "      <td>1823_01</td>\n",
              "      <td>NaN</td>\n",
              "      <td>False</td>\n",
              "      <td>TRAPPIST-1e</td>\n",
              "      <td>67.0</td>\n",
              "      <td>False</td>\n",
              "      <td>True</td>\n",
              "      <td>NaN</td>\n",
              "      <td>NaN</td>\n",
              "      <td>NaN</td>\n",
              "      <td>Earth</td>\n",
              "    </tr>\n",
              "    <tr>\n",
              "      <th>2227</th>\n",
              "      <td>2384_07</td>\n",
              "      <td>NaN</td>\n",
              "      <td>True</td>\n",
              "      <td>TRAPPIST-1e</td>\n",
              "      <td>11.0</td>\n",
              "      <td>False</td>\n",
              "      <td>True</td>\n",
              "      <td>NaN</td>\n",
              "      <td>NaN</td>\n",
              "      <td>NaN</td>\n",
              "      <td>Earth</td>\n",
              "    </tr>\n",
              "    <tr>\n",
              "      <th>3858</th>\n",
              "      <td>4134_01</td>\n",
              "      <td>NaN</td>\n",
              "      <td>True</td>\n",
              "      <td>TRAPPIST-1e</td>\n",
              "      <td>40.0</td>\n",
              "      <td>False</td>\n",
              "      <td>True</td>\n",
              "      <td>NaN</td>\n",
              "      <td>NaN</td>\n",
              "      <td>NaN</td>\n",
              "      <td>Earth</td>\n",
              "    </tr>\n",
              "    <tr>\n",
              "      <th>6267</th>\n",
              "      <td>6634_02</td>\n",
              "      <td>NaN</td>\n",
              "      <td>True</td>\n",
              "      <td>TRAPPIST-1e</td>\n",
              "      <td>64.0</td>\n",
              "      <td>False</td>\n",
              "      <td>True</td>\n",
              "      <td>NaN</td>\n",
              "      <td>NaN</td>\n",
              "      <td>NaN</td>\n",
              "      <td>Earth</td>\n",
              "    </tr>\n",
              "    <tr>\n",
              "      <th>7293</th>\n",
              "      <td>7801_01</td>\n",
              "      <td>NaN</td>\n",
              "      <td>False</td>\n",
              "      <td>55 Cancri e</td>\n",
              "      <td>21.0</td>\n",
              "      <td>False</td>\n",
              "      <td>False</td>\n",
              "      <td>NaN</td>\n",
              "      <td>NaN</td>\n",
              "      <td>NaN</td>\n",
              "      <td>Earth</td>\n",
              "    </tr>\n",
              "  </tbody>\n",
              "</table>\n",
              "<p>199 rows × 11 columns</p>\n",
              "</div>\n",
              "      <button class=\"colab-df-convert\" onclick=\"convertToInteractive('df-fbc297e9-a08c-487d-8191-f9441e0df442')\"\n",
              "              title=\"Convert this dataframe to an interactive table.\"\n",
              "              style=\"display:none;\">\n",
              "        \n",
              "  <svg xmlns=\"http://www.w3.org/2000/svg\" height=\"24px\"viewBox=\"0 0 24 24\"\n",
              "       width=\"24px\">\n",
              "    <path d=\"M0 0h24v24H0V0z\" fill=\"none\"/>\n",
              "    <path d=\"M18.56 5.44l.94 2.06.94-2.06 2.06-.94-2.06-.94-.94-2.06-.94 2.06-2.06.94zm-11 1L8.5 8.5l.94-2.06 2.06-.94-2.06-.94L8.5 2.5l-.94 2.06-2.06.94zm10 10l.94 2.06.94-2.06 2.06-.94-2.06-.94-.94-2.06-.94 2.06-2.06.94z\"/><path d=\"M17.41 7.96l-1.37-1.37c-.4-.4-.92-.59-1.43-.59-.52 0-1.04.2-1.43.59L10.3 9.45l-7.72 7.72c-.78.78-.78 2.05 0 2.83L4 21.41c.39.39.9.59 1.41.59.51 0 1.02-.2 1.41-.59l7.78-7.78 2.81-2.81c.8-.78.8-2.07 0-2.86zM5.41 20L4 18.59l7.72-7.72 1.47 1.35L5.41 20z\"/>\n",
              "  </svg>\n",
              "      </button>\n",
              "      \n",
              "  <style>\n",
              "    .colab-df-container {\n",
              "      display:flex;\n",
              "      flex-wrap:wrap;\n",
              "      gap: 12px;\n",
              "    }\n",
              "\n",
              "    .colab-df-convert {\n",
              "      background-color: #E8F0FE;\n",
              "      border: none;\n",
              "      border-radius: 50%;\n",
              "      cursor: pointer;\n",
              "      display: none;\n",
              "      fill: #1967D2;\n",
              "      height: 32px;\n",
              "      padding: 0 0 0 0;\n",
              "      width: 32px;\n",
              "    }\n",
              "\n",
              "    .colab-df-convert:hover {\n",
              "      background-color: #E2EBFA;\n",
              "      box-shadow: 0px 1px 2px rgba(60, 64, 67, 0.3), 0px 1px 3px 1px rgba(60, 64, 67, 0.15);\n",
              "      fill: #174EA6;\n",
              "    }\n",
              "\n",
              "    [theme=dark] .colab-df-convert {\n",
              "      background-color: #3B4455;\n",
              "      fill: #D2E3FC;\n",
              "    }\n",
              "\n",
              "    [theme=dark] .colab-df-convert:hover {\n",
              "      background-color: #434B5C;\n",
              "      box-shadow: 0px 1px 3px 1px rgba(0, 0, 0, 0.15);\n",
              "      filter: drop-shadow(0px 1px 2px rgba(0, 0, 0, 0.3));\n",
              "      fill: #FFFFFF;\n",
              "    }\n",
              "  </style>\n",
              "\n",
              "      <script>\n",
              "        const buttonEl =\n",
              "          document.querySelector('#df-fbc297e9-a08c-487d-8191-f9441e0df442 button.colab-df-convert');\n",
              "        buttonEl.style.display =\n",
              "          google.colab.kernel.accessAllowed ? 'block' : 'none';\n",
              "\n",
              "        async function convertToInteractive(key) {\n",
              "          const element = document.querySelector('#df-fbc297e9-a08c-487d-8191-f9441e0df442');\n",
              "          const dataTable =\n",
              "            await google.colab.kernel.invokeFunction('convertToInteractive',\n",
              "                                                     [key], {});\n",
              "          if (!dataTable) return;\n",
              "\n",
              "          const docLinkHtml = 'Like what you see? Visit the ' +\n",
              "            '<a target=\"_blank\" href=https://colab.research.google.com/notebooks/data_table.ipynb>data table notebook</a>'\n",
              "            + ' to learn more about interactive tables.';\n",
              "          element.innerHTML = '';\n",
              "          dataTable['output_type'] = 'display_data';\n",
              "          await google.colab.output.renderOutput(dataTable, element);\n",
              "          const docLink = document.createElement('div');\n",
              "          docLink.innerHTML = docLinkHtml;\n",
              "          element.appendChild(docLink);\n",
              "        }\n",
              "      </script>\n",
              "    </div>\n",
              "  </div>\n",
              "  "
            ]
          },
          "metadata": {},
          "execution_count": 231
        }
      ]
    },
    {
      "cell_type": "code",
      "source": [
        "\n",
        "# np.random.choice(['G','F','E'], p=[0.5, 0.35,0.15])"
      ],
      "metadata": {
        "id": "WFDOgvC1HU9n"
      },
      "execution_count": null,
      "outputs": []
    },
    {
      "cell_type": "code",
      "source": [
        "a2 = df_merged[(df_merged['cab1'].isna() == True) & (df_merged['homeplanet'] == 'Earth')] \\\n",
        "    .assign(cab = np.random.choice(['G','F','E'], len(df_merged[(df_merged['cab1'].isna() == True) & (df_merged['homeplanet'] == 'Earth')]), p=[0.5, 0.35, 0.15]))\n",
        "\n",
        "b2 = df_merged[(df_merged['cab1'].isna() == True) & (df_merged['homeplanet'] == 'Europa')] \\\n",
        "    .assign(cab = np.random.choice(['A','B','C','D','E'], len(df_merged[(df_merged['cab1'].isna() == True) & (df_merged['homeplanet'] == 'Europa')]), p=[0.13, 0.33, 0.33, 0.12, 0.09]))\n",
        "\n",
        "c2 = df_merged[(df_merged['cab1'].isna() == True) & (df_merged['homeplanet'] == 'Mars')] \\\n",
        "    .assign(cab = np.random.choice(['D','E','F'], len(df_merged[(df_merged['cab1'].isna() == True) & (df_merged['homeplanet'] == 'Mars')]), p=[0.2, 0.2, 0.6]))\n",
        "\n",
        "other2 = df_merged[(df_merged['cab1'].isna() == False)].assign(cab = df_merged['cab1'])\n"
      ],
      "metadata": {
        "id": "ypiqBojhF5UZ"
      },
      "execution_count": 241,
      "outputs": []
    },
    {
      "cell_type": "code",
      "source": [
        "df_merged1 = pd.concat([a2, b2, c2, other2], ignore_index=False, sort=False)"
      ],
      "metadata": {
        "id": "Z8k4LRbnIMgM"
      },
      "execution_count": 242,
      "outputs": []
    },
    {
      "cell_type": "code",
      "source": [
        "df_merged1.shape"
      ],
      "metadata": {
        "colab": {
          "base_uri": "https://localhost:8080/"
        },
        "id": "GU2YyDlAIN7f",
        "outputId": "9d4ae14b-b2a2-48af-985c-742191328023"
      },
      "execution_count": 243,
      "outputs": [
        {
          "output_type": "execute_result",
          "data": {
            "text/plain": [
              "(8693, 12)"
            ]
          },
          "metadata": {},
          "execution_count": 243
        }
      ]
    },
    {
      "cell_type": "code",
      "source": [
        "df_merged1 = df_merged1.drop(['HomePlanet','cab1','cab2','cab3'],axis = 1)"
      ],
      "metadata": {
        "id": "c_NghK5eIt66"
      },
      "execution_count": 255,
      "outputs": []
    },
    {
      "cell_type": "code",
      "source": [],
      "metadata": {
        "id": "cQccHcC_K71e"
      },
      "execution_count": null,
      "outputs": []
    },
    {
      "cell_type": "code",
      "source": [],
      "metadata": {
        "id": "kkvm1k_PLX4T"
      },
      "execution_count": null,
      "outputs": []
    },
    {
      "cell_type": "code",
      "source": [
        "a3 = test_merged[(test_merged['cab1'].isna() == True) & (test_merged['homeplanet'] == 'Earth')] \\\n",
        "    .assign(cab = np.random.choice(['G','F','E'], len(test_merged[(test_merged['cab1'].isna() == True) & (test_merged['homeplanet'] == 'Earth')]), p=[0.5, 0.35, 0.15]))\n",
        "\n",
        "b3 = test_merged[(test_merged['cab1'].isna() == True) & (test_merged['homeplanet'] == 'Europa')] \\\n",
        "    .assign(cab = np.random.choice(['A','B','C','D','E'], len(test_merged[(test_merged['cab1'].isna() == True) & (test_merged['homeplanet'] == 'Europa')]), p=[0.13, 0.33, 0.33, 0.12, 0.09]))\n",
        "\n",
        "c3 = test_merged[(test_merged['cab1'].isna() == True) & (test_merged['homeplanet'] == 'Mars')] \\\n",
        "    .assign(cab = np.random.choice(['D','E','F'], len(test_merged[(test_merged['cab1'].isna() == True) & (test_merged['homeplanet'] == 'Mars')]), p=[0.2, 0.2, 0.6]))\n",
        "\n",
        "other3 = test_merged[(test_merged['cab1'].isna() == False)].assign(cab = test_merged['cab1'])\n"
      ],
      "metadata": {
        "id": "hc1LskrjLYMm"
      },
      "execution_count": 250,
      "outputs": []
    },
    {
      "cell_type": "code",
      "source": [
        "test_merged1 = pd.concat([a3, b3, c3, other3], ignore_index=False, sort=False)"
      ],
      "metadata": {
        "id": "KukJozaMLYMn"
      },
      "execution_count": 251,
      "outputs": []
    },
    {
      "cell_type": "code",
      "source": [
        "test_merged1.shape"
      ],
      "metadata": {
        "colab": {
          "base_uri": "https://localhost:8080/"
        },
        "outputId": "c7749d29-821a-4baa-bdb9-6bd30a67104f",
        "id": "FHA3Omc1LYMn"
      },
      "execution_count": 252,
      "outputs": [
        {
          "output_type": "execute_result",
          "data": {
            "text/plain": [
              "(4277, 11)"
            ]
          },
          "metadata": {},
          "execution_count": 252
        }
      ]
    },
    {
      "cell_type": "code",
      "source": [
        "test_merged1 = test_merged1.drop(['HomePlanet','cab1','cab2','cab3'],axis = 1)"
      ],
      "metadata": {
        "id": "qqtvMpJjLYMn"
      },
      "execution_count": 256,
      "outputs": []
    },
    {
      "cell_type": "code",
      "source": [
        "df_merged1.isna().mean()"
      ],
      "metadata": {
        "colab": {
          "base_uri": "https://localhost:8080/"
        },
        "id": "sqc3pgzMMVGA",
        "outputId": "a81b6ceb-b2d9-4589-9d0b-bf45123d419f"
      },
      "execution_count": 257,
      "outputs": [
        {
          "output_type": "execute_result",
          "data": {
            "text/plain": [
              "PassengerId    0.000000\n",
              "CryoSleep      0.024963\n",
              "Destination    0.020936\n",
              "Age            0.000000\n",
              "VIP            0.000000\n",
              "Transported    0.000000\n",
              "homeplanet     0.000000\n",
              "cab            0.000000\n",
              "dtype: float64"
            ]
          },
          "metadata": {},
          "execution_count": 257
        }
      ]
    },
    {
      "cell_type": "code",
      "source": [
        "test_merged1.isna().mean()"
      ],
      "metadata": {
        "colab": {
          "base_uri": "https://localhost:8080/"
        },
        "id": "bgBYcHVyMbCS",
        "outputId": "d4122c33-748f-4444-aa62-09d7f1b258a0"
      },
      "execution_count": 258,
      "outputs": [
        {
          "output_type": "execute_result",
          "data": {
            "text/plain": [
              "PassengerId    0.000000\n",
              "CryoSleep      0.021744\n",
              "Destination    0.021510\n",
              "Age            0.000000\n",
              "VIP            0.000000\n",
              "homeplanet     0.000000\n",
              "cab            0.000000\n",
              "dtype: float64"
            ]
          },
          "metadata": {},
          "execution_count": 258
        }
      ]
    },
    {
      "cell_type": "code",
      "source": [
        "sns.countplot(data = df_merged1, x = 'homeplanet', hue = 'CryoSleep')"
      ],
      "metadata": {
        "colab": {
          "base_uri": "https://localhost:8080/",
          "height": 296
        },
        "id": "k1UkzzDjMrBB",
        "outputId": "fc520c92-7e07-4fe8-9689-7a910523750a"
      },
      "execution_count": 259,
      "outputs": [
        {
          "output_type": "execute_result",
          "data": {
            "text/plain": [
              "<matplotlib.axes._subplots.AxesSubplot at 0x7fd3c3306490>"
            ]
          },
          "metadata": {},
          "execution_count": 259
        },
        {
          "output_type": "display_data",
          "data": {
            "text/plain": [
              "<Figure size 432x288 with 1 Axes>"
            ],
            "image/png": "[encoded data removed]"
          },
          "metadata": {
            "needs_background": "light"
          }
        }
      ]
    },
    {
      "cell_type": "code",
      "source": [
        "sns.countplot(data = df_merged1, x = 'CryoSleep', hue = 'Destination')"
      ],
      "metadata": {
        "colab": {
          "base_uri": "https://localhost:8080/",
          "height": 296
        },
        "id": "x9If2nPGM-uu",
        "outputId": "c2835391-fa9b-4a26-a1aa-631a0dfdd00d"
      },
      "execution_count": 261,
      "outputs": [
        {
          "output_type": "execute_result",
          "data": {
            "text/plain": [
              "<matplotlib.axes._subplots.AxesSubplot at 0x7fd3c2fb7880>"
            ]
          },
          "metadata": {},
          "execution_count": 261
        },
        {
          "output_type": "display_data",
          "data": {
            "text/plain": [
              "<Figure size 432x288 with 1 Axes>"
            ],
            "image/png": "[encoded data removed]"
          },
          "metadata": {
            "needs_background": "light"
          }
        }
      ]
    },
    {
      "cell_type": "code",
      "source": [
        "sns.countplot(data = df_merged1, x = 'Destination', hue = 'CryoSleep')"
      ],
      "metadata": {
        "colab": {
          "base_uri": "https://localhost:8080/",
          "height": 296
        },
        "id": "9ZKOcFgWM55V",
        "outputId": "d1132843-8306-4015-b761-fbc19d698a9b"
      },
      "execution_count": 260,
      "outputs": [
        {
          "output_type": "execute_result",
          "data": {
            "text/plain": [
              "<matplotlib.axes._subplots.AxesSubplot at 0x7fd3c2dfd0d0>"
            ]
          },
          "metadata": {},
          "execution_count": 260
        },
        {
          "output_type": "display_data",
          "data": {
            "text/plain": [
              "<Figure size 432x288 with 1 Axes>"
            ],
            "image/png": "[encoded data removed]"
          },
          "metadata": {
            "needs_background": "light"
          }
        }
      ]
    },
    {
      "cell_type": "code",
      "source": [
        "a4 = df_merged1[(df_merged1['CryoSleep'].isna() == True) & (df_merged1['Destination'] == 'TRAPPIST-1e')] \\\n",
        "    .assign(cryosleep = np.random.choice([False,True], \\\n",
        "                                         len(df_merged1[(df_merged1['CryoSleep'].isna() == True) & (df_merged1['Destination'] == 'TRAPPIST-1e')]), \\\n",
        "                                         p=[0.66, 0.34]))\n",
        "    \n",
        "b4 = df_merged1[(df_merged1['CryoSleep'].isna() == True) & (df_merged1['Destination'] == '55 Cancri e')] \\\n",
        "    .assign(cryosleep = np.random.choice([False,True], \\\n",
        "                                         len(df_merged1[(df_merged1['CryoSleep'].isna() == True) & (df_merged1['Destination'] == '55 Cancri e')]), \\\n",
        "                                         p=[0.55, 0.45]))\n",
        "c4 = df_merged1[(df_merged1['CryoSleep'].isna() == True) & (df_merged1['Destination'] == 'PSO J318.5-22')] \\\n",
        "    .assign(cryosleep = np.random.choice([False,True], \\\n",
        "                                         len(df_merged1[(df_merged1['CryoSleep'].isna() == True) & (df_merged1['Destination'] == 'PSO J318.5-22')]), \\\n",
        "                                         p=[0.5, 0.5]))\n",
        "\n",
        "other4 = df_merged1[(df_merged1['CryoSleep'].isna() == False)].assign(cryosleep = False)\n",
        "\n",
        "other44 = df_merged1[(df_merged1['CryoSleep'].isna() == True) & (df_merged1['Destination'].isna() == True)].assign(cryosleep = False)"
      ],
      "metadata": {
        "id": "0cqDjZaLNt7H"
      },
      "execution_count": 278,
      "outputs": []
    },
    {
      "cell_type": "code",
      "source": [
        "df_merged2 = pd.concat([a4, b4, c4, other4,other44], ignore_index=False, sort=False)"
      ],
      "metadata": {
        "id": "tI0j1b80P-B5"
      },
      "execution_count": 279,
      "outputs": []
    },
    {
      "cell_type": "code",
      "source": [
        "df_merged2.shape"
      ],
      "metadata": {
        "colab": {
          "base_uri": "https://localhost:8080/"
        },
        "outputId": "6140cc2f-fba9-42d0-be5a-23d9b7fbcd1b",
        "id": "Mh1tuQ_FP-B6"
      },
      "execution_count": 280,
      "outputs": [
        {
          "output_type": "execute_result",
          "data": {
            "text/plain": [
              "(8693, 9)"
            ]
          },
          "metadata": {},
          "execution_count": 280
        }
      ]
    },
    {
      "cell_type": "code",
      "source": [
        "df_merged2 = df_merged2.drop(['CryoSleep'],axis = 1)"
      ],
      "metadata": {
        "id": "Yc_zgPKxP-B6"
      },
      "execution_count": 282,
      "outputs": []
    },
    {
      "cell_type": "code",
      "source": [],
      "metadata": {
        "id": "qR0O1PFPRVTW"
      },
      "execution_count": null,
      "outputs": []
    },
    {
      "cell_type": "code",
      "source": [
        "a5 = test_merged1[(test_merged1['CryoSleep'].isna() == True) & (test_merged1['Destination'] == 'TRAPPIST-1e')] \\\n",
        "    .assign(cryosleep = np.random.choice([False,True], \\\n",
        "                                         len(test_merged1[(test_merged1['CryoSleep'].isna() == True) & (test_merged1['Destination'] == 'TRAPPIST-1e')]), \\\n",
        "                                         p=[0.66, 0.34]))\n",
        "    \n",
        "b5 = test_merged1[(test_merged1['CryoSleep'].isna() == True) & (test_merged1['Destination'] == '55 Cancri e')] \\\n",
        "    .assign(cryosleep = np.random.choice([False,True], \\\n",
        "                                         len(test_merged1[(test_merged1['CryoSleep'].isna() == True) & (test_merged1['Destination'] == '55 Cancri e')]), \\\n",
        "                                         p=[0.55, 0.45]))\n",
        "c5 = test_merged1[(test_merged1['CryoSleep'].isna() == True) & (test_merged1['Destination'] == 'PSO J318.5-22')] \\\n",
        "    .assign(cryosleep = np.random.choice([False,True], \\\n",
        "                                         len(test_merged1[(test_merged1['CryoSleep'].isna() == True) & (test_merged1['Destination'] == 'PSO J318.5-22')]), \\\n",
        "                                         p=[0.5, 0.5]))\n",
        "\n",
        "other5 = test_merged1[(test_merged1['CryoSleep'].isna() == False)].assign(cryosleep = False)\n",
        "\n",
        "other55 = test_merged1[(test_merged1['CryoSleep'].isna() == True) & (test_merged1['Destination'].isna() == True)].assign(cryosleep = False)"
      ],
      "metadata": {
        "id": "ozw3NwC4RdMb"
      },
      "execution_count": 283,
      "outputs": []
    },
    {
      "cell_type": "code",
      "source": [
        "test_merged2 = pd.concat([a5, b5, c5, other5,other55], ignore_index=False, sort=False)"
      ],
      "metadata": {
        "id": "gdoKP0wJRdMc"
      },
      "execution_count": 284,
      "outputs": []
    },
    {
      "cell_type": "code",
      "source": [
        "test_merged2.shape"
      ],
      "metadata": {
        "colab": {
          "base_uri": "https://localhost:8080/"
        },
        "outputId": "a1e93e19-4a17-4f1b-f963-c74f24e16424",
        "id": "AaHNBe0TRdMc"
      },
      "execution_count": 285,
      "outputs": [
        {
          "output_type": "execute_result",
          "data": {
            "text/plain": [
              "(4277, 8)"
            ]
          },
          "metadata": {},
          "execution_count": 285
        }
      ]
    },
    {
      "cell_type": "code",
      "source": [
        "test_merged2 = test_merged2.drop(['CryoSleep'],axis = 1)"
      ],
      "metadata": {
        "id": "nizaywScRdMc"
      },
      "execution_count": 286,
      "outputs": []
    },
    {
      "cell_type": "code",
      "source": [
        "test_merged2.isna().mean()"
      ],
      "metadata": {
        "colab": {
          "base_uri": "https://localhost:8080/"
        },
        "id": "CvGR4R-KSwsP",
        "outputId": "223ab4c9-2b95-47f2-ab8f-adb142d7c6b8"
      },
      "execution_count": 289,
      "outputs": [
        {
          "output_type": "execute_result",
          "data": {
            "text/plain": [
              "PassengerId    0.00000\n",
              "Destination    0.02151\n",
              "Age            0.00000\n",
              "VIP            0.00000\n",
              "homeplanet     0.00000\n",
              "cab            0.00000\n",
              "cryosleep      0.00000\n",
              "dtype: float64"
            ]
          },
          "metadata": {},
          "execution_count": 289
        }
      ]
    },
    {
      "cell_type": "code",
      "source": [
        "sns.countplot(data = df_merged2, x = 'homeplanet', hue = 'Destination')"
      ],
      "metadata": {
        "colab": {
          "base_uri": "https://localhost:8080/",
          "height": 296
        },
        "id": "gvWvt9unTGDy",
        "outputId": "60d58996-7d41-4013-83d5-758c6da2aa36"
      },
      "execution_count": 294,
      "outputs": [
        {
          "output_type": "execute_result",
          "data": {
            "text/plain": [
              "<matplotlib.axes._subplots.AxesSubplot at 0x7fd3c5fb5430>"
            ]
          },
          "metadata": {},
          "execution_count": 294
        },
        {
          "output_type": "display_data",
          "data": {
            "text/plain": [
              "<Figure size 432x288 with 1 Axes>"
            ],
            "image/png": "[encoded data removed]"
          },
          "metadata": {
            "needs_background": "light"
          }
        }
      ]
    },
    {
      "cell_type": "code",
      "source": [
        "a6 = df_merged2[(df_merged2['Destination'].isna() == True) & (df_merged2['homeplanet'] == 'Earth')] \\\n",
        "    .assign(destination = np.random.choice(['TRAPPIST-1e','55 Cancri e','PSO J318.5-22'], \\\n",
        "                                         len(df_merged2[(df_merged2['Destination'].isna() == True) & (df_merged2['homeplanet'] == 'Earth')]), \\\n",
        "                                         p=[0.64, 0.18, 0.18]))\n",
        "    \n",
        "b6 = df_merged2[(df_merged2['Destination'].isna() == True) & (df_merged2['homeplanet'] == 'Mars')] \\\n",
        "    .assign(destination = np.random.choice(['TRAPPIST-1e','55 Cancri e','PSO J318.5-22'], \\\n",
        "                                         len(df_merged2[(df_merged2['Destination'].isna() == True) & (df_merged2['homeplanet'] == 'Mars')]), \\\n",
        "                                         p=[0.8, 0.17, 0.03]))\n",
        "c6 = df_merged2[(df_merged2['Destination'].isna() == True) & (df_merged2['homeplanet'] == 'Europa')] \\\n",
        "    .assign(destination = np.random.choice(['TRAPPIST-1e','55 Cancri e'], \\\n",
        "                                         len(df_merged2[(df_merged2['Destination'].isna() == True) & (df_merged2['homeplanet'] == 'Europa')]), \\\n",
        "                                         p=[0.55, 0.45]))\n",
        "\n",
        "other6 = df_merged2[(df_merged2['Destination'].isna() == False)].assign(destination = df_merged2['Destination'])\n",
        "\n"
      ],
      "metadata": {
        "id": "q5LGkqW5Tjdr"
      },
      "execution_count": 296,
      "outputs": []
    },
    {
      "cell_type": "code",
      "source": [],
      "metadata": {
        "id": "ju6vS2O7VXwF"
      },
      "execution_count": null,
      "outputs": []
    },
    {
      "cell_type": "code",
      "source": [
        "df_all = pd.concat([a6, b6, c6, other6], ignore_index=False, sort=False)"
      ],
      "metadata": {
        "id": "AdU34QY6VYSx"
      },
      "execution_count": 297,
      "outputs": []
    },
    {
      "cell_type": "code",
      "source": [
        "df_all.shape"
      ],
      "metadata": {
        "colab": {
          "base_uri": "https://localhost:8080/"
        },
        "outputId": "a4a61831-8980-4845-bd52-f29aa77fddf3",
        "id": "OvvDIXTlVYSy"
      },
      "execution_count": 298,
      "outputs": [
        {
          "output_type": "execute_result",
          "data": {
            "text/plain": [
              "(8693, 9)"
            ]
          },
          "metadata": {},
          "execution_count": 298
        }
      ]
    },
    {
      "cell_type": "code",
      "source": [
        "df_all = df_all.drop(['Destination'],axis = 1)"
      ],
      "metadata": {
        "id": "d4MOkl26VYSz"
      },
      "execution_count": 299,
      "outputs": []
    },
    {
      "cell_type": "code",
      "source": [
        "df_all.isna().mean()"
      ],
      "metadata": {
        "colab": {
          "base_uri": "https://localhost:8080/"
        },
        "outputId": "098929b4-5c08-4689-fdcc-1127ddbc31ba",
        "id": "C9WecWrTVYS0"
      },
      "execution_count": 301,
      "outputs": [
        {
          "output_type": "execute_result",
          "data": {
            "text/plain": [
              "PassengerId    0.0\n",
              "Age            0.0\n",
              "VIP            0.0\n",
              "Transported    0.0\n",
              "homeplanet     0.0\n",
              "cab            0.0\n",
              "cryosleep      0.0\n",
              "destination    0.0\n",
              "dtype: float64"
            ]
          },
          "metadata": {},
          "execution_count": 301
        }
      ]
    },
    {
      "cell_type": "code",
      "source": [],
      "metadata": {
        "id": "-6f9r4y6V20q"
      },
      "execution_count": null,
      "outputs": []
    },
    {
      "cell_type": "code",
      "source": [
        "a7 = test_merged2[(test_merged2['Destination'].isna() == True) & (test_merged2['homeplanet'] == 'Earth')] \\\n",
        "    .assign(destination = np.random.choice(['TRAPPIST-1e','55 Cancri e','PSO J318.5-22'], \\\n",
        "                                         len(test_merged2[(test_merged2['Destination'].isna() == True) & (test_merged2['homeplanet'] == 'Earth')]), \\\n",
        "                                         p=[0.64, 0.18, 0.18]))\n",
        "    \n",
        "b7 = test_merged2[(test_merged2['Destination'].isna() == True) & (test_merged2['homeplanet'] == 'Mars')] \\\n",
        "    .assign(destination = np.random.choice(['TRAPPIST-1e','55 Cancri e','PSO J318.5-22'], \\\n",
        "                                         len(test_merged2[(test_merged2['Destination'].isna() == True) & (test_merged2['homeplanet'] == 'Mars')]), \\\n",
        "                                         p=[0.8, 0.17, 0.03]))\n",
        "c7 = test_merged2[(test_merged2['Destination'].isna() == True) & (test_merged2['homeplanet'] == 'Europa')] \\\n",
        "    .assign(destination = np.random.choice(['TRAPPIST-1e','55 Cancri e'], \\\n",
        "                                         len(test_merged2[(test_merged2['Destination'].isna() == True) & (test_merged2['homeplanet'] == 'Europa')]), \\\n",
        "                                         p=[0.55, 0.45]))\n",
        "\n",
        "other7 = test_merged2[(test_merged2['Destination'].isna() == False)].assign(destination = test_merged2['Destination'])\n",
        "\n"
      ],
      "metadata": {
        "id": "AmECXe1SWGr_"
      },
      "execution_count": 302,
      "outputs": []
    },
    {
      "cell_type": "code",
      "source": [],
      "metadata": {
        "id": "NRz2BBaRWGsA"
      },
      "execution_count": 302,
      "outputs": []
    },
    {
      "cell_type": "code",
      "source": [
        "test_all = pd.concat([a7, b7, c7, other7], ignore_index=False, sort=False)"
      ],
      "metadata": {
        "id": "WhuEjQBNWGsB"
      },
      "execution_count": 303,
      "outputs": []
    },
    {
      "cell_type": "code",
      "source": [
        "test_all.shape"
      ],
      "metadata": {
        "colab": {
          "base_uri": "https://localhost:8080/"
        },
        "outputId": "ed7e2f67-d762-4649-9e01-affe066c2c5c",
        "id": "E-gNsGfaWGsB"
      },
      "execution_count": 304,
      "outputs": [
        {
          "output_type": "execute_result",
          "data": {
            "text/plain": [
              "(4277, 8)"
            ]
          },
          "metadata": {},
          "execution_count": 304
        }
      ]
    },
    {
      "cell_type": "code",
      "source": [
        "test_all = test_all.drop(['Destination'],axis = 1)"
      ],
      "metadata": {
        "id": "DHqgMR_EWGsB"
      },
      "execution_count": 305,
      "outputs": []
    },
    {
      "cell_type": "code",
      "source": [
        "test_all.isna().mean()"
      ],
      "metadata": {
        "colab": {
          "base_uri": "https://localhost:8080/"
        },
        "outputId": "24878d62-6524-4a15-aab6-5cf25b107879",
        "id": "hPcfMLcMWGsB"
      },
      "execution_count": 306,
      "outputs": [
        {
          "output_type": "execute_result",
          "data": {
            "text/plain": [
              "PassengerId    0.0\n",
              "Age            0.0\n",
              "VIP            0.0\n",
              "homeplanet     0.0\n",
              "cab            0.0\n",
              "cryosleep      0.0\n",
              "destination    0.0\n",
              "dtype: float64"
            ]
          },
          "metadata": {},
          "execution_count": 306
        }
      ]
    },
    {
      "cell_type": "code",
      "source": [
        "df_all.to_csv('df_all.csv')"
      ],
      "metadata": {
        "id": "Gaz4aPDVXAIQ"
      },
      "execution_count": 308,
      "outputs": []
    },
    {
      "cell_type": "code",
      "source": [
        "test_all.to_csv('test_all.csv')"
      ],
      "metadata": {
        "id": "QJD9KW6KXbQ5"
      },
      "execution_count": 309,
      "outputs": []
    },
    {
      "cell_type": "code",
      "source": [
        "df_all.dtypes"
      ],
      "metadata": {
        "colab": {
          "base_uri": "https://localhost:8080/"
        },
        "id": "0vz_Afi3Xgll",
        "outputId": "af8d2505-7250-4c09-a59f-09ab4eea4559"
      },
      "execution_count": 311,
      "outputs": [
        {
          "output_type": "execute_result",
          "data": {
            "text/plain": [
              "PassengerId     object\n",
              "Age            float64\n",
              "VIP               bool\n",
              "Transported       bool\n",
              "homeplanet      object\n",
              "cab             object\n",
              "cryosleep         bool\n",
              "destination     object\n",
              "dtype: object"
            ]
          },
          "metadata": {},
          "execution_count": 311
        }
      ]
    },
    {
      "cell_type": "code",
      "source": [
        "def booltonum(x):\n",
        "    if x == True:\n",
        "        return 1\n",
        "    if x == False:\n",
        "        return 0"
      ],
      "metadata": {
        "id": "cd4I0GJdXmoV"
      },
      "execution_count": 312,
      "outputs": []
    },
    {
      "cell_type": "code",
      "source": [
        "df_all['VIP'] = df_all['VIP'].apply(booltonum)\n",
        "df_all['Transported'] = df_all['Transported'].apply(booltonum)\n",
        "df_all['cryosleep'] = df_all['cryosleep'].apply(booltonum)"
      ],
      "metadata": {
        "id": "xPK4-szjYB_j"
      },
      "execution_count": 316,
      "outputs": []
    },
    {
      "cell_type": "code",
      "source": [
        "test_all['VIP'] = test_all['VIP'].apply(booltonum)\n",
        "test_all['cryosleep'] = test_all['cryosleep'].apply(booltonum)"
      ],
      "metadata": {
        "id": "Wi0fBw6LYRQV"
      },
      "execution_count": 317,
      "outputs": []
    },
    {
      "cell_type": "code",
      "source": [
        "df_all.columns"
      ],
      "metadata": {
        "colab": {
          "base_uri": "https://localhost:8080/"
        },
        "id": "CofOlJKKZDfu",
        "outputId": "a8ce9501-ee86-45b4-d5ad-e0a666a04d66"
      },
      "execution_count": 319,
      "outputs": [
        {
          "output_type": "execute_result",
          "data": {
            "text/plain": [
              "Index(['PassengerId', 'Age', 'VIP', 'Transported', 'homeplanet', 'cab',\n",
              "       'cryosleep', 'destination'],\n",
              "      dtype='object')"
            ]
          },
          "metadata": {},
          "execution_count": 319
        }
      ]
    },
    {
      "cell_type": "code",
      "source": [],
      "metadata": {
        "id": "uj79d1q6ZFV0"
      },
      "execution_count": null,
      "outputs": []
    },
    {
      "cell_type": "code",
      "source": [
        "X = ['Age', 'VIP', 'homeplanet','cab', 'cryosleep', 'destination']\n",
        "cat_features = ['homeplanet','cab', 'destination']\n",
        "y = ['Transported']"
      ],
      "metadata": {
        "id": "SNFz-aFSZUeU"
      },
      "execution_count": 359,
      "outputs": []
    },
    {
      "cell_type": "code",
      "source": [
        "model = CatBoostRegressor(cat_features = cat_features,\n",
        "                          eval_metric = 'MAPE', \n",
        "                          random_seed = 42,\n",
        "                          verbose=100,\n",
        "                          learning_rate = 0.014)"
      ],
      "metadata": {
        "id": "4cEeeD4NcDoc"
      },
      "execution_count": 414,
      "outputs": []
    },
    {
      "cell_type": "code",
      "source": [
        "train, val = train_test_split(df_all,train_size = 0.7, random_state = 1)"
      ],
      "metadata": {
        "id": "CC_qMhZ8cDoc"
      },
      "execution_count": 415,
      "outputs": []
    },
    {
      "cell_type": "code",
      "source": [
        "model.fit(train[X], train[y],eval_set=(val[X], val[y]))"
      ],
      "metadata": {
        "colab": {
          "base_uri": "https://localhost:8080/"
        },
        "outputId": "be196d3e-4c03-448d-eb22-85ca78a8ebaf",
        "id": "zW6Glm64ZUeV"
      },
      "execution_count": 416,
      "outputs": [
        {
          "output_type": "stream",
          "name": "stdout",
          "text": [
            "0:\tlearn: 0.4994694\ttest: 0.4996371\tbest: 0.4996371 (0)\ttotal: 6.23ms\tremaining: 6.23s\n",
            "100:\tlearn: 0.4590172\ttest: 0.4609478\tbest: 0.4609478 (100)\ttotal: 386ms\tremaining: 3.44s\n",
            "200:\tlearn: 0.4460950\ttest: 0.4493466\tbest: 0.4493466 (200)\ttotal: 813ms\tremaining: 3.23s\n",
            "300:\tlearn: 0.4405704\ttest: 0.4451600\tbest: 0.4451600 (300)\ttotal: 1.24s\tremaining: 2.87s\n",
            "400:\tlearn: 0.4377178\ttest: 0.4433343\tbest: 0.4433343 (400)\ttotal: 1.62s\tremaining: 2.41s\n",
            "500:\tlearn: 0.4357989\ttest: 0.4423285\tbest: 0.4423285 (500)\ttotal: 2.01s\tremaining: 2s\n",
            "600:\tlearn: 0.4340510\ttest: 0.4416128\tbest: 0.4416128 (600)\ttotal: 2.42s\tremaining: 1.6s\n",
            "700:\tlearn: 0.4323943\ttest: 0.4410749\tbest: 0.4410749 (700)\ttotal: 2.84s\tremaining: 1.21s\n",
            "800:\tlearn: 0.4305720\ttest: 0.4405889\tbest: 0.4405889 (800)\ttotal: 3.28s\tremaining: 815ms\n",
            "900:\tlearn: 0.4293190\ttest: 0.4403924\tbest: 0.4403896 (899)\ttotal: 4.18s\tremaining: 460ms\n",
            "999:\tlearn: 0.4280949\ttest: 0.4402385\tbest: 0.4402317 (997)\ttotal: 5.45s\tremaining: 0us\n",
            "\n",
            "bestTest = 0.44023171\n",
            "bestIteration = 997\n",
            "\n",
            "Shrink model to first 998 iterations.\n"
          ]
        },
        {
          "output_type": "execute_result",
          "data": {
            "text/plain": [
              "<catboost.core.CatBoostRegressor at 0x7fd3c4eebd90>"
            ]
          },
          "metadata": {},
          "execution_count": 416
        }
      ]
    },
    {
      "cell_type": "code",
      "source": [
        "test_all['transported'] = model.predict(test_all[X])"
      ],
      "metadata": {
        "id": "hF9yu_AKZ3hl"
      },
      "execution_count": 417,
      "outputs": []
    },
    {
      "cell_type": "code",
      "source": [
        "test_all['Transported'] = test_all['transported'].round()"
      ],
      "metadata": {
        "id": "hzFtehVudyoQ"
      },
      "execution_count": 418,
      "outputs": []
    },
    {
      "cell_type": "code",
      "source": [
        "def inttobool(x):\n",
        "    if x ==1:\n",
        "        return True\n",
        "    return False"
      ],
      "metadata": {
        "id": "CERyuQC_eB7d"
      },
      "execution_count": 419,
      "outputs": []
    },
    {
      "cell_type": "code",
      "source": [
        "test_all['Transported'] = test_all['Transported'].apply(inttobool)"
      ],
      "metadata": {
        "id": "l8ysycdtebKH"
      },
      "execution_count": 420,
      "outputs": []
    },
    {
      "cell_type": "code",
      "source": [
        "test_all[['PassengerId', 'Transported']].to_csv('pred1.csv', index=False)"
      ],
      "metadata": {
        "id": "WHB9zzxreo7s"
      },
      "execution_count": 421,
      "outputs": []
    },
    {
      "cell_type": "code",
      "source": [],
      "metadata": {
        "id": "InJ7EMbzesfk"
      },
      "execution_count": 412,
      "outputs": []
    }
  ]
}