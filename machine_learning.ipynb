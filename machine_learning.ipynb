{
  "nbformat": 4,
  "nbformat_minor": 0,
  "metadata": {
    "colab": {
      "provenance": [],
      "collapsed_sections": [
        "CJu414J33PhT"
      ],
      "authorship_tag": "ABX9TyM2Xc1rbr2SVaB+k8xo7VSb",
      "include_colab_link": true
    },
    "kernelspec": {
      "name": "python3",
      "display_name": "Python 3"
    },
    "language_info": {
      "name": "python"
    }
  },
  "cells": [
    {
      "cell_type": "markdown",
      "metadata": {
        "id": "view-in-github",
        "colab_type": "text"
      },
      "source": [
        "<a href=\"https://colab.research.google.com/github/avgalkov/collab-notebooks/blob/main/machine_learning.ipynb\" target=\"_parent\"><img src=\"https://colab.research.google.com/assets/colab-badge.svg\" alt=\"Open In Colab\"/></a>"
      ]
    },
    {
      "cell_type": "markdown",
      "source": [
        "## Скачиваем датасет и подгружаем в collab"
      ],
      "metadata": {
        "id": "gHYqqxpshImD"
      }
    },
    {
      "cell_type": "markdown",
      "source": [
        "https://drive.google.com/file/d/11HcDhlPAJ92FHSUW_kA8kN33nWkmcLV0/view?usp=sharing\n"
      ],
      "metadata": {
        "id": "0nfuUPvnhUsF"
      }
    },
    {
      "cell_type": "code",
      "source": [
        "! gdown --id 11HcDhlPAJ92FHSUW_kA8kN33nWkmcLV0"
      ],
      "metadata": {
        "colab": {
          "base_uri": "https://localhost:8080/"
        },
        "id": "4cda7NDChUAH",
        "outputId": "97683e23-148e-4fd7-c696-5a1867a03a13"
      },
      "execution_count": 1,
      "outputs": [
        {
          "output_type": "stream",
          "name": "stdout",
          "text": [
            "/usr/local/lib/python3.8/dist-packages/gdown/cli.py:127: FutureWarning: Option `--id` was deprecated in version 4.3.1 and will be removed in 5.0. You don't need to pass it anymore to use a file ID.\n",
            "  warnings.warn(\n",
            "Downloading...\n",
            "From: https://drive.google.com/uc?id=11HcDhlPAJ92FHSUW_kA8kN33nWkmcLV0\n",
            "To: /content/UK_used_cars.zip\n",
            "100% 1.15M/1.15M [00:00<00:00, 58.3MB/s]\n"
          ]
        }
      ]
    },
    {
      "cell_type": "code",
      "source": [
        "! unzip /content/UK_used_cars.zip -d /content/uk-used-cars"
      ],
      "metadata": {
        "colab": {
          "base_uri": "https://localhost:8080/"
        },
        "id": "Ic_AyIaeheDS",
        "outputId": "a302db83-fa3b-4f37-c4bf-880acdc5880c"
      },
      "execution_count": 2,
      "outputs": [
        {
          "output_type": "stream",
          "name": "stdout",
          "text": [
            "Archive:  /content/UK_used_cars.zip\n",
            "  inflating: /content/uk-used-cars/audi.csv  \n",
            "  inflating: /content/uk-used-cars/bmw.csv  \n",
            "  inflating: /content/uk-used-cars/cclass.csv  \n",
            "  inflating: /content/uk-used-cars/focus.csv  \n",
            "  inflating: /content/uk-used-cars/ford.csv  \n",
            "  inflating: /content/uk-used-cars/hyundi.csv  \n",
            "  inflating: /content/uk-used-cars/merc.csv  \n",
            "  inflating: /content/uk-used-cars/skoda.csv  \n",
            "  inflating: /content/uk-used-cars/toyota.csv  \n",
            "  inflating: /content/uk-used-cars/unclean cclass.csv  \n",
            "  inflating: /content/uk-used-cars/unclean focus.csv  \n",
            "  inflating: /content/uk-used-cars/vauxhall.csv  \n",
            "  inflating: /content/uk-used-cars/vw.csv  \n"
          ]
        }
      ]
    },
    {
      "cell_type": "code",
      "source": [
        "import pandas as pd\n",
        "import matplotlib.pyplot as plt\n",
        "\n",
        "\n",
        "plt.style.use('dark_background')"
      ],
      "metadata": {
        "id": "v6pav-xVjao2"
      },
      "execution_count": 3,
      "outputs": []
    },
    {
      "cell_type": "code",
      "source": [
        "df = pd.read_csv('/content/uk-used-cars/bmw.csv')"
      ],
      "metadata": {
        "id": "cpRz5CaFi1ZL"
      },
      "execution_count": 4,
      "outputs": []
    },
    {
      "cell_type": "code",
      "source": [
        "df.head()"
      ],
      "metadata": {
        "colab": {
          "base_uri": "https://localhost:8080/",
          "height": 206
        },
        "id": "en_oJTREjdGS",
        "outputId": "357b854a-cce7-4c57-bbb0-949553d77681"
      },
      "execution_count": 5,
      "outputs": [
        {
          "output_type": "execute_result",
          "data": {
            "text/plain": [
              "       model  year  price transmission  mileage fuelType  tax   mpg  \\\n",
              "0   5 Series  2014  11200    Automatic    67068   Diesel  125  57.6   \n",
              "1   6 Series  2018  27000    Automatic    14827   Petrol  145  42.8   \n",
              "2   5 Series  2016  16000    Automatic    62794   Diesel  160  51.4   \n",
              "3   1 Series  2017  12750    Automatic    26676   Diesel  145  72.4   \n",
              "4   7 Series  2014  14500    Automatic    39554   Diesel  160  50.4   \n",
              "\n",
              "   engineSize  \n",
              "0         2.0  \n",
              "1         2.0  \n",
              "2         3.0  \n",
              "3         1.5  \n",
              "4         3.0  "
            ],
            "text/html": [
              "\n",
              "  <div id=\"df-99a6b118-a0af-4269-abe8-50949474f718\">\n",
              "    <div class=\"colab-df-container\">\n",
              "      <div>\n",
              "<style scoped>\n",
              "    .dataframe tbody tr th:only-of-type {\n",
              "        vertical-align: middle;\n",
              "    }\n",
              "\n",
              "    .dataframe tbody tr th {\n",
              "        vertical-align: top;\n",
              "    }\n",
              "\n",
              "    .dataframe thead th {\n",
              "        text-align: right;\n",
              "    }\n",
              "</style>\n",
              "<table border=\"1\" class=\"dataframe\">\n",
              "  <thead>\n",
              "    <tr style=\"text-align: right;\">\n",
              "      <th></th>\n",
              "      <th>model</th>\n",
              "      <th>year</th>\n",
              "      <th>price</th>\n",
              "      <th>transmission</th>\n",
              "      <th>mileage</th>\n",
              "      <th>fuelType</th>\n",
              "      <th>tax</th>\n",
              "      <th>mpg</th>\n",
              "      <th>engineSize</th>\n",
              "    </tr>\n",
              "  </thead>\n",
              "  <tbody>\n",
              "    <tr>\n",
              "      <th>0</th>\n",
              "      <td>5 Series</td>\n",
              "      <td>2014</td>\n",
              "      <td>11200</td>\n",
              "      <td>Automatic</td>\n",
              "      <td>67068</td>\n",
              "      <td>Diesel</td>\n",
              "      <td>125</td>\n",
              "      <td>57.6</td>\n",
              "      <td>2.0</td>\n",
              "    </tr>\n",
              "    <tr>\n",
              "      <th>1</th>\n",
              "      <td>6 Series</td>\n",
              "      <td>2018</td>\n",
              "      <td>27000</td>\n",
              "      <td>Automatic</td>\n",
              "      <td>14827</td>\n",
              "      <td>Petrol</td>\n",
              "      <td>145</td>\n",
              "      <td>42.8</td>\n",
              "      <td>2.0</td>\n",
              "    </tr>\n",
              "    <tr>\n",
              "      <th>2</th>\n",
              "      <td>5 Series</td>\n",
              "      <td>2016</td>\n",
              "      <td>16000</td>\n",
              "      <td>Automatic</td>\n",
              "      <td>62794</td>\n",
              "      <td>Diesel</td>\n",
              "      <td>160</td>\n",
              "      <td>51.4</td>\n",
              "      <td>3.0</td>\n",
              "    </tr>\n",
              "    <tr>\n",
              "      <th>3</th>\n",
              "      <td>1 Series</td>\n",
              "      <td>2017</td>\n",
              "      <td>12750</td>\n",
              "      <td>Automatic</td>\n",
              "      <td>26676</td>\n",
              "      <td>Diesel</td>\n",
              "      <td>145</td>\n",
              "      <td>72.4</td>\n",
              "      <td>1.5</td>\n",
              "    </tr>\n",
              "    <tr>\n",
              "      <th>4</th>\n",
              "      <td>7 Series</td>\n",
              "      <td>2014</td>\n",
              "      <td>14500</td>\n",
              "      <td>Automatic</td>\n",
              "      <td>39554</td>\n",
              "      <td>Diesel</td>\n",
              "      <td>160</td>\n",
              "      <td>50.4</td>\n",
              "      <td>3.0</td>\n",
              "    </tr>\n",
              "  </tbody>\n",
              "</table>\n",
              "</div>\n",
              "      <button class=\"colab-df-convert\" onclick=\"convertToInteractive('df-99a6b118-a0af-4269-abe8-50949474f718')\"\n",
              "              title=\"Convert this dataframe to an interactive table.\"\n",
              "              style=\"display:none;\">\n",
              "        \n",
              "  <svg xmlns=\"http://www.w3.org/2000/svg\" height=\"24px\"viewBox=\"0 0 24 24\"\n",
              "       width=\"24px\">\n",
              "    <path d=\"M0 0h24v24H0V0z\" fill=\"none\"/>\n",
              "    <path d=\"M18.56 5.44l.94 2.06.94-2.06 2.06-.94-2.06-.94-.94-2.06-.94 2.06-2.06.94zm-11 1L8.5 8.5l.94-2.06 2.06-.94-2.06-.94L8.5 2.5l-.94 2.06-2.06.94zm10 10l.94 2.06.94-2.06 2.06-.94-2.06-.94-.94-2.06-.94 2.06-2.06.94z\"/><path d=\"M17.41 7.96l-1.37-1.37c-.4-.4-.92-.59-1.43-.59-.52 0-1.04.2-1.43.59L10.3 9.45l-7.72 7.72c-.78.78-.78 2.05 0 2.83L4 21.41c.39.39.9.59 1.41.59.51 0 1.02-.2 1.41-.59l7.78-7.78 2.81-2.81c.8-.78.8-2.07 0-2.86zM5.41 20L4 18.59l7.72-7.72 1.47 1.35L5.41 20z\"/>\n",
              "  </svg>\n",
              "      </button>\n",
              "      \n",
              "  <style>\n",
              "    .colab-df-container {\n",
              "      display:flex;\n",
              "      flex-wrap:wrap;\n",
              "      gap: 12px;\n",
              "    }\n",
              "\n",
              "    .colab-df-convert {\n",
              "      background-color: #E8F0FE;\n",
              "      border: none;\n",
              "      border-radius: 50%;\n",
              "      cursor: pointer;\n",
              "      display: none;\n",
              "      fill: #1967D2;\n",
              "      height: 32px;\n",
              "      padding: 0 0 0 0;\n",
              "      width: 32px;\n",
              "    }\n",
              "\n",
              "    .colab-df-convert:hover {\n",
              "      background-color: #E2EBFA;\n",
              "      box-shadow: 0px 1px 2px rgba(60, 64, 67, 0.3), 0px 1px 3px 1px rgba(60, 64, 67, 0.15);\n",
              "      fill: #174EA6;\n",
              "    }\n",
              "\n",
              "    [theme=dark] .colab-df-convert {\n",
              "      background-color: #3B4455;\n",
              "      fill: #D2E3FC;\n",
              "    }\n",
              "\n",
              "    [theme=dark] .colab-df-convert:hover {\n",
              "      background-color: #434B5C;\n",
              "      box-shadow: 0px 1px 3px 1px rgba(0, 0, 0, 0.15);\n",
              "      filter: drop-shadow(0px 1px 2px rgba(0, 0, 0, 0.3));\n",
              "      fill: #FFFFFF;\n",
              "    }\n",
              "  </style>\n",
              "\n",
              "      <script>\n",
              "        const buttonEl =\n",
              "          document.querySelector('#df-99a6b118-a0af-4269-abe8-50949474f718 button.colab-df-convert');\n",
              "        buttonEl.style.display =\n",
              "          google.colab.kernel.accessAllowed ? 'block' : 'none';\n",
              "\n",
              "        async function convertToInteractive(key) {\n",
              "          const element = document.querySelector('#df-99a6b118-a0af-4269-abe8-50949474f718');\n",
              "          const dataTable =\n",
              "            await google.colab.kernel.invokeFunction('convertToInteractive',\n",
              "                                                     [key], {});\n",
              "          if (!dataTable) return;\n",
              "\n",
              "          const docLinkHtml = 'Like what you see? Visit the ' +\n",
              "            '<a target=\"_blank\" href=https://colab.research.google.com/notebooks/data_table.ipynb>data table notebook</a>'\n",
              "            + ' to learn more about interactive tables.';\n",
              "          element.innerHTML = '';\n",
              "          dataTable['output_type'] = 'display_data';\n",
              "          await google.colab.output.renderOutput(dataTable, element);\n",
              "          const docLink = document.createElement('div');\n",
              "          docLink.innerHTML = docLinkHtml;\n",
              "          element.appendChild(docLink);\n",
              "        }\n",
              "      </script>\n",
              "    </div>\n",
              "  </div>\n",
              "  "
            ]
          },
          "metadata": {},
          "execution_count": 5
        }
      ]
    },
    {
      "cell_type": "markdown",
      "source": [
        "## Обучающая и тестовая выборки (train and test)"
      ],
      "metadata": {
        "id": "3IN5eRPFkv6z"
      }
    },
    {
      "cell_type": "code",
      "source": [
        "from sklearn.model_selection import train_test_split"
      ],
      "metadata": {
        "id": "iY-xawtzjfAx"
      },
      "execution_count": 6,
      "outputs": []
    },
    {
      "cell_type": "code",
      "source": [
        "train, test = train_test_split(df,train_size = 0.6, random_state = 1)\n",
        "\n",
        "# random_state = 1  позволяет заморозить наши выборки"
      ],
      "metadata": {
        "id": "dTEbyL0hliDH"
      },
      "execution_count": 8,
      "outputs": []
    },
    {
      "cell_type": "markdown",
      "source": [
        "## Валидационная выборка"
      ],
      "metadata": {
        "id": "yUhrgqGke3Kt"
      }
    },
    {
      "cell_type": "markdown",
      "source": [
        "*Разобьем наши данные на train, val  и test  в пропорции 60% / 20% / 20%\n",
        "Валидационная выборка нужна для проверки обучаемости нашей модели, тестовая выборка для модели - это абсолютно новые данные. Обучаемся на train, проверяем результаты на  val  и применяем уже на test*"
      ],
      "metadata": {
        "id": "326HzHykhDQA"
      }
    },
    {
      "cell_type": "code",
      "source": [
        "len(train) / len(df)"
      ],
      "metadata": {
        "colab": {
          "base_uri": "https://localhost:8080/"
        },
        "id": "86iXXrH4e2l9",
        "outputId": "ada0f3b8-3cfa-47df-8d3f-46bb663f4fd1"
      },
      "execution_count": 9,
      "outputs": [
        {
          "output_type": "execute_result",
          "data": {
            "text/plain": [
              "0.5999443465355718"
            ]
          },
          "metadata": {},
          "execution_count": 9
        }
      ]
    },
    {
      "cell_type": "code",
      "source": [
        "len(test) / len(df)"
      ],
      "metadata": {
        "colab": {
          "base_uri": "https://localhost:8080/"
        },
        "id": "td6xEJaPgjrR",
        "outputId": "69a77d78-a33d-4f79-a422-7c12b743463a"
      },
      "execution_count": 10,
      "outputs": [
        {
          "output_type": "execute_result",
          "data": {
            "text/plain": [
              "0.4000556534644282"
            ]
          },
          "metadata": {},
          "execution_count": 10
        }
      ]
    },
    {
      "cell_type": "code",
      "source": [
        "val, test = train_test_split(test,train_size = 0.5, random_state = 1)"
      ],
      "metadata": {
        "id": "f55zll2Vgnns"
      },
      "execution_count": 11,
      "outputs": []
    },
    {
      "cell_type": "code",
      "source": [
        "len(train) / len(df)"
      ],
      "metadata": {
        "colab": {
          "base_uri": "https://localhost:8080/"
        },
        "id": "PCZF_C26gzZi",
        "outputId": "7ad44b08-f64e-47e0-dbe4-5b3921e47de2"
      },
      "execution_count": 12,
      "outputs": [
        {
          "output_type": "execute_result",
          "data": {
            "text/plain": [
              "0.5999443465355718"
            ]
          },
          "metadata": {},
          "execution_count": 12
        }
      ]
    },
    {
      "cell_type": "code",
      "source": [
        "len(test) / len(df)"
      ],
      "metadata": {
        "colab": {
          "base_uri": "https://localhost:8080/"
        },
        "id": "ZmZrN9Kjg1Km",
        "outputId": "1f7a1cb8-069b-4a9f-c170-2f310a59768e"
      },
      "execution_count": 13,
      "outputs": [
        {
          "output_type": "execute_result",
          "data": {
            "text/plain": [
              "0.20007420461923756"
            ]
          },
          "metadata": {},
          "execution_count": 13
        }
      ]
    },
    {
      "cell_type": "code",
      "source": [
        "len(val) / len(df)"
      ],
      "metadata": {
        "colab": {
          "base_uri": "https://localhost:8080/"
        },
        "id": "CSmHqacYg2sW",
        "outputId": "beacb35b-7c8b-402a-881a-354e871a2063"
      },
      "execution_count": 14,
      "outputs": [
        {
          "output_type": "execute_result",
          "data": {
            "text/plain": [
              "0.19998144884519062"
            ]
          },
          "metadata": {},
          "execution_count": 14
        }
      ]
    },
    {
      "cell_type": "markdown",
      "source": [
        "## Список фичей"
      ],
      "metadata": {
        "id": "GiBh2LqGhocS"
      }
    },
    {
      "cell_type": "code",
      "source": [
        "train.columns"
      ],
      "metadata": {
        "colab": {
          "base_uri": "https://localhost:8080/"
        },
        "id": "6UQ5vUOFg4po",
        "outputId": "e27595f4-9627-4532-c932-0e77827adab8"
      },
      "execution_count": 15,
      "outputs": [
        {
          "output_type": "execute_result",
          "data": {
            "text/plain": [
              "Index(['model', 'year', 'price', 'transmission', 'mileage', 'fuelType', 'tax',\n",
              "       'mpg', 'engineSize'],\n",
              "      dtype='object')"
            ]
          },
          "metadata": {},
          "execution_count": 15
        }
      ]
    },
    {
      "cell_type": "markdown",
      "source": [
        "* Список фичей не может содержать целевой признак, поэтому разделяем наши признаки на 2 группы.\n",
        "\n",
        "* Для CatBoost важно указать те фичи, в которых находится текст. Чтобы их использовать их сначала нужно преобразовать в числовые признаки. CatBoost может делать это под капотом.\n",
        "\n",
        "* В нашем случае текстовые фичи - это 'model' , 'transmission', 'fuelType', Остальные фичи - числовые признаки\n"
      ],
      "metadata": {
        "id": "OFaAAnQoh6Lt"
      }
    },
    {
      "cell_type": "code",
      "source": [
        "X = ['year',  'mileage', 'tax',\n",
        "       'mpg', 'engineSize']\n",
        "cat_features = ['model', 'transmission', 'fuelType']\n",
        "y = ['price']"
      ],
      "metadata": {
        "id": "yRxx5rTKhs_A"
      },
      "execution_count": 16,
      "outputs": []
    },
    {
      "cell_type": "markdown",
      "source": [
        "## Принцип преобразования категориальных признаков"
      ],
      "metadata": {
        "id": "Zpc_DSiHjWJ9"
      }
    },
    {
      "cell_type": "markdown",
      "source": [
        "One-Hot Encoding - как один из методов преобразования категориальных фичей в числовые"
      ],
      "metadata": {
        "id": "W7GuC-3rkqIw"
      }
    },
    {
      "cell_type": "code",
      "source": [
        "pd.get_dummies(train['transmission'])"
      ],
      "metadata": {
        "colab": {
          "base_uri": "https://localhost:8080/",
          "height": 423
        },
        "id": "ESmOHXFwjUsn",
        "outputId": "f56aca24-f26d-4913-bb70-7c47cdb78f32"
      },
      "execution_count": 17,
      "outputs": [
        {
          "output_type": "execute_result",
          "data": {
            "text/plain": [
              "      Automatic  Manual  Semi-Auto\n",
              "7882          1       0          0\n",
              "1381          0       1          0\n",
              "8859          1       0          0\n",
              "9354          1       0          0\n",
              "4192          0       0          1\n",
              "...         ...     ...        ...\n",
              "2895          0       1          0\n",
              "7813          1       0          0\n",
              "905           0       1          0\n",
              "5192          0       0          1\n",
              "235           0       0          1\n",
              "\n",
              "[6468 rows x 3 columns]"
            ],
            "text/html": [
              "\n",
              "  <div id=\"df-cb740e4f-a0f6-4f2a-a106-95ba2e5db405\">\n",
              "    <div class=\"colab-df-container\">\n",
              "      <div>\n",
              "<style scoped>\n",
              "    .dataframe tbody tr th:only-of-type {\n",
              "        vertical-align: middle;\n",
              "    }\n",
              "\n",
              "    .dataframe tbody tr th {\n",
              "        vertical-align: top;\n",
              "    }\n",
              "\n",
              "    .dataframe thead th {\n",
              "        text-align: right;\n",
              "    }\n",
              "</style>\n",
              "<table border=\"1\" class=\"dataframe\">\n",
              "  <thead>\n",
              "    <tr style=\"text-align: right;\">\n",
              "      <th></th>\n",
              "      <th>Automatic</th>\n",
              "      <th>Manual</th>\n",
              "      <th>Semi-Auto</th>\n",
              "    </tr>\n",
              "  </thead>\n",
              "  <tbody>\n",
              "    <tr>\n",
              "      <th>7882</th>\n",
              "      <td>1</td>\n",
              "      <td>0</td>\n",
              "      <td>0</td>\n",
              "    </tr>\n",
              "    <tr>\n",
              "      <th>1381</th>\n",
              "      <td>0</td>\n",
              "      <td>1</td>\n",
              "      <td>0</td>\n",
              "    </tr>\n",
              "    <tr>\n",
              "      <th>8859</th>\n",
              "      <td>1</td>\n",
              "      <td>0</td>\n",
              "      <td>0</td>\n",
              "    </tr>\n",
              "    <tr>\n",
              "      <th>9354</th>\n",
              "      <td>1</td>\n",
              "      <td>0</td>\n",
              "      <td>0</td>\n",
              "    </tr>\n",
              "    <tr>\n",
              "      <th>4192</th>\n",
              "      <td>0</td>\n",
              "      <td>0</td>\n",
              "      <td>1</td>\n",
              "    </tr>\n",
              "    <tr>\n",
              "      <th>...</th>\n",
              "      <td>...</td>\n",
              "      <td>...</td>\n",
              "      <td>...</td>\n",
              "    </tr>\n",
              "    <tr>\n",
              "      <th>2895</th>\n",
              "      <td>0</td>\n",
              "      <td>1</td>\n",
              "      <td>0</td>\n",
              "    </tr>\n",
              "    <tr>\n",
              "      <th>7813</th>\n",
              "      <td>1</td>\n",
              "      <td>0</td>\n",
              "      <td>0</td>\n",
              "    </tr>\n",
              "    <tr>\n",
              "      <th>905</th>\n",
              "      <td>0</td>\n",
              "      <td>1</td>\n",
              "      <td>0</td>\n",
              "    </tr>\n",
              "    <tr>\n",
              "      <th>5192</th>\n",
              "      <td>0</td>\n",
              "      <td>0</td>\n",
              "      <td>1</td>\n",
              "    </tr>\n",
              "    <tr>\n",
              "      <th>235</th>\n",
              "      <td>0</td>\n",
              "      <td>0</td>\n",
              "      <td>1</td>\n",
              "    </tr>\n",
              "  </tbody>\n",
              "</table>\n",
              "<p>6468 rows × 3 columns</p>\n",
              "</div>\n",
              "      <button class=\"colab-df-convert\" onclick=\"convertToInteractive('df-cb740e4f-a0f6-4f2a-a106-95ba2e5db405')\"\n",
              "              title=\"Convert this dataframe to an interactive table.\"\n",
              "              style=\"display:none;\">\n",
              "        \n",
              "  <svg xmlns=\"http://www.w3.org/2000/svg\" height=\"24px\"viewBox=\"0 0 24 24\"\n",
              "       width=\"24px\">\n",
              "    <path d=\"M0 0h24v24H0V0z\" fill=\"none\"/>\n",
              "    <path d=\"M18.56 5.44l.94 2.06.94-2.06 2.06-.94-2.06-.94-.94-2.06-.94 2.06-2.06.94zm-11 1L8.5 8.5l.94-2.06 2.06-.94-2.06-.94L8.5 2.5l-.94 2.06-2.06.94zm10 10l.94 2.06.94-2.06 2.06-.94-2.06-.94-.94-2.06-.94 2.06-2.06.94z\"/><path d=\"M17.41 7.96l-1.37-1.37c-.4-.4-.92-.59-1.43-.59-.52 0-1.04.2-1.43.59L10.3 9.45l-7.72 7.72c-.78.78-.78 2.05 0 2.83L4 21.41c.39.39.9.59 1.41.59.51 0 1.02-.2 1.41-.59l7.78-7.78 2.81-2.81c.8-.78.8-2.07 0-2.86zM5.41 20L4 18.59l7.72-7.72 1.47 1.35L5.41 20z\"/>\n",
              "  </svg>\n",
              "      </button>\n",
              "      \n",
              "  <style>\n",
              "    .colab-df-container {\n",
              "      display:flex;\n",
              "      flex-wrap:wrap;\n",
              "      gap: 12px;\n",
              "    }\n",
              "\n",
              "    .colab-df-convert {\n",
              "      background-color: #E8F0FE;\n",
              "      border: none;\n",
              "      border-radius: 50%;\n",
              "      cursor: pointer;\n",
              "      display: none;\n",
              "      fill: #1967D2;\n",
              "      height: 32px;\n",
              "      padding: 0 0 0 0;\n",
              "      width: 32px;\n",
              "    }\n",
              "\n",
              "    .colab-df-convert:hover {\n",
              "      background-color: #E2EBFA;\n",
              "      box-shadow: 0px 1px 2px rgba(60, 64, 67, 0.3), 0px 1px 3px 1px rgba(60, 64, 67, 0.15);\n",
              "      fill: #174EA6;\n",
              "    }\n",
              "\n",
              "    [theme=dark] .colab-df-convert {\n",
              "      background-color: #3B4455;\n",
              "      fill: #D2E3FC;\n",
              "    }\n",
              "\n",
              "    [theme=dark] .colab-df-convert:hover {\n",
              "      background-color: #434B5C;\n",
              "      box-shadow: 0px 1px 3px 1px rgba(0, 0, 0, 0.15);\n",
              "      filter: drop-shadow(0px 1px 2px rgba(0, 0, 0, 0.3));\n",
              "      fill: #FFFFFF;\n",
              "    }\n",
              "  </style>\n",
              "\n",
              "      <script>\n",
              "        const buttonEl =\n",
              "          document.querySelector('#df-cb740e4f-a0f6-4f2a-a106-95ba2e5db405 button.colab-df-convert');\n",
              "        buttonEl.style.display =\n",
              "          google.colab.kernel.accessAllowed ? 'block' : 'none';\n",
              "\n",
              "        async function convertToInteractive(key) {\n",
              "          const element = document.querySelector('#df-cb740e4f-a0f6-4f2a-a106-95ba2e5db405');\n",
              "          const dataTable =\n",
              "            await google.colab.kernel.invokeFunction('convertToInteractive',\n",
              "                                                     [key], {});\n",
              "          if (!dataTable) return;\n",
              "\n",
              "          const docLinkHtml = 'Like what you see? Visit the ' +\n",
              "            '<a target=\"_blank\" href=https://colab.research.google.com/notebooks/data_table.ipynb>data table notebook</a>'\n",
              "            + ' to learn more about interactive tables.';\n",
              "          element.innerHTML = '';\n",
              "          dataTable['output_type'] = 'display_data';\n",
              "          await google.colab.output.renderOutput(dataTable, element);\n",
              "          const docLink = document.createElement('div');\n",
              "          docLink.innerHTML = docLinkHtml;\n",
              "          element.appendChild(docLink);\n",
              "        }\n",
              "      </script>\n",
              "    </div>\n",
              "  </div>\n",
              "  "
            ]
          },
          "metadata": {},
          "execution_count": 17
        }
      ]
    },
    {
      "cell_type": "markdown",
      "source": [
        "## Первый запуск CatBoost"
      ],
      "metadata": {
        "id": "AuRQY10ekxn6"
      }
    },
    {
      "cell_type": "code",
      "source": [
        "! pip install catboost"
      ],
      "metadata": {
        "colab": {
          "base_uri": "https://localhost:8080/"
        },
        "id": "Jmv046gBjv6S",
        "outputId": "2cdd3023-1e2d-424f-b5b5-aac824b47431"
      },
      "execution_count": 18,
      "outputs": [
        {
          "output_type": "stream",
          "name": "stdout",
          "text": [
            "Looking in indexes: https://pypi.org/simple, https://us-python.pkg.dev/colab-wheels/public/simple/\n",
            "Collecting catboost\n",
            "  Downloading catboost-1.1.1-cp38-none-manylinux1_x86_64.whl (76.6 MB)\n",
            "\u001b[2K     \u001b[90m━━━━━━━━━━━━━━━━━━━━━━━━━━━━━━━━━━━━━━━━\u001b[0m \u001b[32m76.6/76.6 MB\u001b[0m \u001b[31m11.7 MB/s\u001b[0m eta \u001b[36m0:00:00\u001b[0m\n",
            "\u001b[?25hRequirement already satisfied: graphviz in /usr/local/lib/python3.8/dist-packages (from catboost) (0.10.1)\n",
            "Requirement already satisfied: scipy in /usr/local/lib/python3.8/dist-packages (from catboost) (1.7.3)\n",
            "Requirement already satisfied: six in /usr/local/lib/python3.8/dist-packages (from catboost) (1.15.0)\n",
            "Requirement already satisfied: numpy>=1.16.0 in /usr/local/lib/python3.8/dist-packages (from catboost) (1.21.6)\n",
            "Requirement already satisfied: matplotlib in /usr/local/lib/python3.8/dist-packages (from catboost) (3.2.2)\n",
            "Requirement already satisfied: plotly in /usr/local/lib/python3.8/dist-packages (from catboost) (5.5.0)\n",
            "Requirement already satisfied: pandas>=0.24.0 in /usr/local/lib/python3.8/dist-packages (from catboost) (1.3.5)\n",
            "Requirement already satisfied: pytz>=2017.3 in /usr/local/lib/python3.8/dist-packages (from pandas>=0.24.0->catboost) (2022.7.1)\n",
            "Requirement already satisfied: python-dateutil>=2.7.3 in /usr/local/lib/python3.8/dist-packages (from pandas>=0.24.0->catboost) (2.8.2)\n",
            "Requirement already satisfied: cycler>=0.10 in /usr/local/lib/python3.8/dist-packages (from matplotlib->catboost) (0.11.0)\n",
            "Requirement already satisfied: pyparsing!=2.0.4,!=2.1.2,!=2.1.6,>=2.0.1 in /usr/local/lib/python3.8/dist-packages (from matplotlib->catboost) (3.0.9)\n",
            "Requirement already satisfied: kiwisolver>=1.0.1 in /usr/local/lib/python3.8/dist-packages (from matplotlib->catboost) (1.4.4)\n",
            "Requirement already satisfied: tenacity>=6.2.0 in /usr/local/lib/python3.8/dist-packages (from plotly->catboost) (8.2.0)\n",
            "Installing collected packages: catboost\n",
            "Successfully installed catboost-1.1.1\n"
          ]
        }
      ]
    },
    {
      "cell_type": "code",
      "source": [
        "from catboost import CatBoostRegressor\n",
        "# для задач классификации импортируется CatBoostClassifier "
      ],
      "metadata": {
        "id": "xrwExpVOk766"
      },
      "execution_count": 20,
      "outputs": []
    },
    {
      "cell_type": "markdown",
      "source": [
        "Запустим первый раз на тех же фичах, на которых мы делали человеческое обучение"
      ],
      "metadata": {
        "id": "e_0WMG6TmB1U"
      }
    },
    {
      "cell_type": "code",
      "source": [
        "X = ['year', 'transmission', 'engineSize']\n",
        "cat_features = ['transmission']\n",
        "y = ['price']"
      ],
      "metadata": {
        "id": "MR-huNK_l9uZ"
      },
      "execution_count": 64,
      "outputs": []
    },
    {
      "cell_type": "code",
      "source": [
        "model = CatBoostRegressor(cat_features = cat_features,\n",
        "                          eval_metric = 'MAPE', \n",
        "                          random_seed = 42,\n",
        "                          verbose=100)"
      ],
      "metadata": {
        "id": "VyyHPRuglTOS"
      },
      "execution_count": 65,
      "outputs": []
    },
    {
      "cell_type": "code",
      "source": [
        "model.fit(train[X], train[y],eval_set=(val[X], val[y]))"
      ],
      "metadata": {
        "colab": {
          "base_uri": "https://localhost:8080/"
        },
        "id": "WkJFHM4vm2gk",
        "outputId": "426b50d6-0cd6-47c2-8cca-17b4a9d5da3f"
      },
      "execution_count": 66,
      "outputs": [
        {
          "output_type": "stream",
          "name": "stdout",
          "text": [
            "Learning rate set to 0.068263\n",
            "0:\tlearn: 0.4621086\ttest: 0.4489079\tbest: 0.4489079 (0)\ttotal: 2.57ms\tremaining: 2.57s\n",
            "100:\tlearn: 0.1537470\ttest: 0.1534632\tbest: 0.1534632 (100)\ttotal: 178ms\tremaining: 1.58s\n",
            "200:\tlearn: 0.1515149\ttest: 0.1521516\tbest: 0.1521514 (197)\ttotal: 336ms\tremaining: 1.34s\n",
            "300:\tlearn: 0.1503412\ttest: 0.1520507\tbest: 0.1519138 (261)\ttotal: 508ms\tremaining: 1.18s\n",
            "400:\tlearn: 0.1495316\ttest: 0.1521949\tbest: 0.1519138 (261)\ttotal: 698ms\tremaining: 1.04s\n",
            "500:\tlearn: 0.1488269\ttest: 0.1521153\tbest: 0.1519138 (261)\ttotal: 883ms\tremaining: 880ms\n",
            "600:\tlearn: 0.1482608\ttest: 0.1521817\tbest: 0.1519138 (261)\ttotal: 1.36s\tremaining: 903ms\n",
            "700:\tlearn: 0.1478179\ttest: 0.1523615\tbest: 0.1519138 (261)\ttotal: 1.87s\tremaining: 797ms\n",
            "800:\tlearn: 0.1473592\ttest: 0.1526559\tbest: 0.1519138 (261)\ttotal: 2.29s\tremaining: 568ms\n",
            "900:\tlearn: 0.1469682\ttest: 0.1527051\tbest: 0.1519138 (261)\ttotal: 2.71s\tremaining: 297ms\n",
            "999:\tlearn: 0.1466731\ttest: 0.1529079\tbest: 0.1519138 (261)\ttotal: 2.91s\tremaining: 0us\n",
            "\n",
            "bestTest = 0.1519137901\n",
            "bestIteration = 261\n",
            "\n",
            "Shrink model to first 262 iterations.\n"
          ]
        },
        {
          "output_type": "execute_result",
          "data": {
            "text/plain": [
              "<catboost.core.CatBoostRegressor at 0x7fabf3f3f760>"
            ]
          },
          "metadata": {},
          "execution_count": 66
        }
      ]
    },
    {
      "cell_type": "markdown",
      "source": [
        "Делаем предикт на teste"
      ],
      "metadata": {
        "id": "gUF1l0vuoINS"
      }
    },
    {
      "cell_type": "code",
      "source": [
        "model.predict(test[X])"
      ],
      "metadata": {
        "colab": {
          "base_uri": "https://localhost:8080/"
        },
        "id": "nrUpOVsCnKLi",
        "outputId": "f30cd880-ef6e-4a24-f6af-ae7b51335039"
      },
      "execution_count": 67,
      "outputs": [
        {
          "output_type": "execute_result",
          "data": {
            "text/plain": [
              "array([27791.79270642,  9414.28084977, 45523.73943666, ...,\n",
              "       18197.14290638, 10477.94541465, 16233.48447626])"
            ]
          },
          "metadata": {},
          "execution_count": 67
        }
      ]
    },
    {
      "cell_type": "code",
      "source": [
        "test['price_pred'] = model.predict(test[X])"
      ],
      "metadata": {
        "id": "n-0AJtxMoUIs"
      },
      "execution_count": 68,
      "outputs": []
    },
    {
      "cell_type": "code",
      "source": [
        "test.head()"
      ],
      "metadata": {
        "colab": {
          "base_uri": "https://localhost:8080/",
          "height": 206
        },
        "id": "1iJcRpvWodZv",
        "outputId": "a028215c-d8ef-41bc-ea25-f48606d346aa"
      },
      "execution_count": 69,
      "outputs": [
        {
          "output_type": "execute_result",
          "data": {
            "text/plain": [
              "          model  year  price transmission  mileage fuelType  tax   mpg  \\\n",
              "342    5 Series  2019  28500    Semi-Auto     3816   Diesel  145  62.8   \n",
              "7604   3 Series  2013   9990       Manual    51000   Diesel  145  55.4   \n",
              "6579   5 Series  2019  32896    Automatic     6071   Diesel  145  53.3   \n",
              "9739   3 Series  2013   9195       Manual    82260   Diesel   30  62.8   \n",
              "1932         M4  2019  44500    Semi-Auto     5644   Petrol  145  34.0   \n",
              "\n",
              "      engineSize    price_pred  price_pred_all  \n",
              "342          2.0  27791.792706    29094.170853  \n",
              "7604         2.0   9414.280850    10886.267555  \n",
              "6579         3.0  45523.739437    34656.929246  \n",
              "9739         2.0   9414.280850     8659.105197  \n",
              "1932         3.0  44965.633234    45768.460724  "
            ],
            "text/html": [
              "\n",
              "  <div id=\"df-09975dff-a60b-461c-b668-ee59cfa94b73\">\n",
              "    <div class=\"colab-df-container\">\n",
              "      <div>\n",
              "<style scoped>\n",
              "    .dataframe tbody tr th:only-of-type {\n",
              "        vertical-align: middle;\n",
              "    }\n",
              "\n",
              "    .dataframe tbody tr th {\n",
              "        vertical-align: top;\n",
              "    }\n",
              "\n",
              "    .dataframe thead th {\n",
              "        text-align: right;\n",
              "    }\n",
              "</style>\n",
              "<table border=\"1\" class=\"dataframe\">\n",
              "  <thead>\n",
              "    <tr style=\"text-align: right;\">\n",
              "      <th></th>\n",
              "      <th>model</th>\n",
              "      <th>year</th>\n",
              "      <th>price</th>\n",
              "      <th>transmission</th>\n",
              "      <th>mileage</th>\n",
              "      <th>fuelType</th>\n",
              "      <th>tax</th>\n",
              "      <th>mpg</th>\n",
              "      <th>engineSize</th>\n",
              "      <th>price_pred</th>\n",
              "      <th>price_pred_all</th>\n",
              "    </tr>\n",
              "  </thead>\n",
              "  <tbody>\n",
              "    <tr>\n",
              "      <th>342</th>\n",
              "      <td>5 Series</td>\n",
              "      <td>2019</td>\n",
              "      <td>28500</td>\n",
              "      <td>Semi-Auto</td>\n",
              "      <td>3816</td>\n",
              "      <td>Diesel</td>\n",
              "      <td>145</td>\n",
              "      <td>62.8</td>\n",
              "      <td>2.0</td>\n",
              "      <td>27791.792706</td>\n",
              "      <td>29094.170853</td>\n",
              "    </tr>\n",
              "    <tr>\n",
              "      <th>7604</th>\n",
              "      <td>3 Series</td>\n",
              "      <td>2013</td>\n",
              "      <td>9990</td>\n",
              "      <td>Manual</td>\n",
              "      <td>51000</td>\n",
              "      <td>Diesel</td>\n",
              "      <td>145</td>\n",
              "      <td>55.4</td>\n",
              "      <td>2.0</td>\n",
              "      <td>9414.280850</td>\n",
              "      <td>10886.267555</td>\n",
              "    </tr>\n",
              "    <tr>\n",
              "      <th>6579</th>\n",
              "      <td>5 Series</td>\n",
              "      <td>2019</td>\n",
              "      <td>32896</td>\n",
              "      <td>Automatic</td>\n",
              "      <td>6071</td>\n",
              "      <td>Diesel</td>\n",
              "      <td>145</td>\n",
              "      <td>53.3</td>\n",
              "      <td>3.0</td>\n",
              "      <td>45523.739437</td>\n",
              "      <td>34656.929246</td>\n",
              "    </tr>\n",
              "    <tr>\n",
              "      <th>9739</th>\n",
              "      <td>3 Series</td>\n",
              "      <td>2013</td>\n",
              "      <td>9195</td>\n",
              "      <td>Manual</td>\n",
              "      <td>82260</td>\n",
              "      <td>Diesel</td>\n",
              "      <td>30</td>\n",
              "      <td>62.8</td>\n",
              "      <td>2.0</td>\n",
              "      <td>9414.280850</td>\n",
              "      <td>8659.105197</td>\n",
              "    </tr>\n",
              "    <tr>\n",
              "      <th>1932</th>\n",
              "      <td>M4</td>\n",
              "      <td>2019</td>\n",
              "      <td>44500</td>\n",
              "      <td>Semi-Auto</td>\n",
              "      <td>5644</td>\n",
              "      <td>Petrol</td>\n",
              "      <td>145</td>\n",
              "      <td>34.0</td>\n",
              "      <td>3.0</td>\n",
              "      <td>44965.633234</td>\n",
              "      <td>45768.460724</td>\n",
              "    </tr>\n",
              "  </tbody>\n",
              "</table>\n",
              "</div>\n",
              "      <button class=\"colab-df-convert\" onclick=\"convertToInteractive('df-09975dff-a60b-461c-b668-ee59cfa94b73')\"\n",
              "              title=\"Convert this dataframe to an interactive table.\"\n",
              "              style=\"display:none;\">\n",
              "        \n",
              "  <svg xmlns=\"http://www.w3.org/2000/svg\" height=\"24px\"viewBox=\"0 0 24 24\"\n",
              "       width=\"24px\">\n",
              "    <path d=\"M0 0h24v24H0V0z\" fill=\"none\"/>\n",
              "    <path d=\"M18.56 5.44l.94 2.06.94-2.06 2.06-.94-2.06-.94-.94-2.06-.94 2.06-2.06.94zm-11 1L8.5 8.5l.94-2.06 2.06-.94-2.06-.94L8.5 2.5l-.94 2.06-2.06.94zm10 10l.94 2.06.94-2.06 2.06-.94-2.06-.94-.94-2.06-.94 2.06-2.06.94z\"/><path d=\"M17.41 7.96l-1.37-1.37c-.4-.4-.92-.59-1.43-.59-.52 0-1.04.2-1.43.59L10.3 9.45l-7.72 7.72c-.78.78-.78 2.05 0 2.83L4 21.41c.39.39.9.59 1.41.59.51 0 1.02-.2 1.41-.59l7.78-7.78 2.81-2.81c.8-.78.8-2.07 0-2.86zM5.41 20L4 18.59l7.72-7.72 1.47 1.35L5.41 20z\"/>\n",
              "  </svg>\n",
              "      </button>\n",
              "      \n",
              "  <style>\n",
              "    .colab-df-container {\n",
              "      display:flex;\n",
              "      flex-wrap:wrap;\n",
              "      gap: 12px;\n",
              "    }\n",
              "\n",
              "    .colab-df-convert {\n",
              "      background-color: #E8F0FE;\n",
              "      border: none;\n",
              "      border-radius: 50%;\n",
              "      cursor: pointer;\n",
              "      display: none;\n",
              "      fill: #1967D2;\n",
              "      height: 32px;\n",
              "      padding: 0 0 0 0;\n",
              "      width: 32px;\n",
              "    }\n",
              "\n",
              "    .colab-df-convert:hover {\n",
              "      background-color: #E2EBFA;\n",
              "      box-shadow: 0px 1px 2px rgba(60, 64, 67, 0.3), 0px 1px 3px 1px rgba(60, 64, 67, 0.15);\n",
              "      fill: #174EA6;\n",
              "    }\n",
              "\n",
              "    [theme=dark] .colab-df-convert {\n",
              "      background-color: #3B4455;\n",
              "      fill: #D2E3FC;\n",
              "    }\n",
              "\n",
              "    [theme=dark] .colab-df-convert:hover {\n",
              "      background-color: #434B5C;\n",
              "      box-shadow: 0px 1px 3px 1px rgba(0, 0, 0, 0.15);\n",
              "      filter: drop-shadow(0px 1px 2px rgba(0, 0, 0, 0.3));\n",
              "      fill: #FFFFFF;\n",
              "    }\n",
              "  </style>\n",
              "\n",
              "      <script>\n",
              "        const buttonEl =\n",
              "          document.querySelector('#df-09975dff-a60b-461c-b668-ee59cfa94b73 button.colab-df-convert');\n",
              "        buttonEl.style.display =\n",
              "          google.colab.kernel.accessAllowed ? 'block' : 'none';\n",
              "\n",
              "        async function convertToInteractive(key) {\n",
              "          const element = document.querySelector('#df-09975dff-a60b-461c-b668-ee59cfa94b73');\n",
              "          const dataTable =\n",
              "            await google.colab.kernel.invokeFunction('convertToInteractive',\n",
              "                                                     [key], {});\n",
              "          if (!dataTable) return;\n",
              "\n",
              "          const docLinkHtml = 'Like what you see? Visit the ' +\n",
              "            '<a target=\"_blank\" href=https://colab.research.google.com/notebooks/data_table.ipynb>data table notebook</a>'\n",
              "            + ' to learn more about interactive tables.';\n",
              "          element.innerHTML = '';\n",
              "          dataTable['output_type'] = 'display_data';\n",
              "          await google.colab.output.renderOutput(dataTable, element);\n",
              "          const docLink = document.createElement('div');\n",
              "          docLink.innerHTML = docLinkHtml;\n",
              "          element.appendChild(docLink);\n",
              "        }\n",
              "      </script>\n",
              "    </div>\n",
              "  </div>\n",
              "  "
            ]
          },
          "metadata": {},
          "execution_count": 69
        }
      ]
    },
    {
      "cell_type": "code",
      "source": [
        "from sklearn.metrics import mean_absolute_error,mean_absolute_percentage_error"
      ],
      "metadata": {
        "id": "6YavH6cioypT"
      },
      "execution_count": 70,
      "outputs": []
    },
    {
      "cell_type": "code",
      "source": [
        "# завернем в функцию команды по вычислению отклонения\n",
        "\n",
        "def error(y_true,y_pred):\n",
        "    print(mean_absolute_error(y_true,y_pred))\n",
        "    print(mean_absolute_percentage_error(y_true,y_pred))\n"
      ],
      "metadata": {
        "id": "7OECMx12oe50"
      },
      "execution_count": 71,
      "outputs": []
    },
    {
      "cell_type": "code",
      "source": [
        "error(test['price'], test['price_pred'])"
      ],
      "metadata": {
        "colab": {
          "base_uri": "https://localhost:8080/"
        },
        "id": "WYhEBGWGov3A",
        "outputId": "50f1df32-4b2a-42b3-abbb-b0da769ddda4"
      },
      "execution_count": 72,
      "outputs": [
        {
          "output_type": "stream",
          "name": "stdout",
          "text": [
            "3631.492851599049\n",
            "0.15887974860073903\n"
          ]
        }
      ]
    },
    {
      "cell_type": "markdown",
      "source": [
        "## Обучаемся на всех фичах"
      ],
      "metadata": {
        "id": "M24gfE2rpP9j"
      }
    },
    {
      "cell_type": "code",
      "source": [
        "X = ['year',  'mileage', 'tax',\n",
        "       'mpg', 'engineSize','model', 'transmission', 'fuelType']\n",
        "cat_features = ['model', 'transmission', 'fuelType']\n",
        "y = ['price']"
      ],
      "metadata": {
        "id": "Q_fa7jU5pC5U"
      },
      "execution_count": 73,
      "outputs": []
    },
    {
      "cell_type": "code",
      "source": [
        "# положим параметры в словарь для удобства\n",
        "\n",
        "parameters = {'cat_features' : cat_features,\n",
        "              'eval_metric' : 'MAPE',\n",
        "              'verbose' : 100}"
      ],
      "metadata": {
        "id": "ag6-WMjMpbxM"
      },
      "execution_count": 79,
      "outputs": []
    },
    {
      "cell_type": "code",
      "source": [
        "model = CatBoostRegressor(**parameters)"
      ],
      "metadata": {
        "id": "B5OV9ZdTpapO"
      },
      "execution_count": 80,
      "outputs": []
    },
    {
      "cell_type": "code",
      "source": [
        "model.fit(train[X], train[y],eval_set=(val[X], val[y]))"
      ],
      "metadata": {
        "colab": {
          "base_uri": "https://localhost:8080/"
        },
        "id": "H8TYaPXTp3Im",
        "outputId": "5b54b86b-f14c-4c71-e54a-03db56cf73c5"
      },
      "execution_count": 81,
      "outputs": [
        {
          "output_type": "stream",
          "name": "stdout",
          "text": [
            "Learning rate set to 0.068263\n",
            "0:\tlearn: 0.4620476\ttest: 0.4491287\tbest: 0.4491287 (0)\ttotal: 4.89ms\tremaining: 4.89s\n",
            "100:\tlearn: 0.0907457\ttest: 0.0909975\tbest: 0.0909975 (100)\ttotal: 402ms\tremaining: 3.58s\n",
            "200:\tlearn: 0.0782808\ttest: 0.0813269\tbest: 0.0813269 (200)\ttotal: 790ms\tremaining: 3.14s\n",
            "300:\tlearn: 0.0728162\ttest: 0.0770531\tbest: 0.0770531 (300)\ttotal: 1.17s\tremaining: 2.72s\n",
            "400:\tlearn: 0.0697744\ttest: 0.0753101\tbest: 0.0753101 (400)\ttotal: 1.58s\tremaining: 2.35s\n",
            "500:\tlearn: 0.0674429\ttest: 0.0740215\tbest: 0.0740215 (500)\ttotal: 1.97s\tremaining: 1.97s\n",
            "600:\tlearn: 0.0652693\ttest: 0.0730381\tbest: 0.0730315 (593)\ttotal: 2.36s\tremaining: 1.57s\n",
            "700:\tlearn: 0.0636495\ttest: 0.0724704\tbest: 0.0724670 (698)\ttotal: 2.93s\tremaining: 1.25s\n",
            "800:\tlearn: 0.0622577\ttest: 0.0719561\tbest: 0.0719342 (796)\ttotal: 3.95s\tremaining: 982ms\n",
            "900:\tlearn: 0.0609696\ttest: 0.0715338\tbest: 0.0715338 (900)\ttotal: 4.58s\tremaining: 503ms\n",
            "999:\tlearn: 0.0598680\ttest: 0.0712426\tbest: 0.0712395 (996)\ttotal: 4.98s\tremaining: 0us\n",
            "\n",
            "bestTest = 0.07123954021\n",
            "bestIteration = 996\n",
            "\n",
            "Shrink model to first 997 iterations.\n"
          ]
        },
        {
          "output_type": "execute_result",
          "data": {
            "text/plain": [
              "<catboost.core.CatBoostRegressor at 0x7fabf35635b0>"
            ]
          },
          "metadata": {},
          "execution_count": 81
        }
      ]
    },
    {
      "cell_type": "code",
      "source": [
        "test['price_pred_all'] = model.predict(test[X])"
      ],
      "metadata": {
        "id": "9kwBJotLp9a-"
      },
      "execution_count": 77,
      "outputs": []
    },
    {
      "cell_type": "code",
      "source": [
        "error(test['price'], test['price_pred_all'])"
      ],
      "metadata": {
        "colab": {
          "base_uri": "https://localhost:8080/"
        },
        "id": "_ScdeJYrq3Eg",
        "outputId": "70d0b76a-88e9-47b5-cc0e-13f2b5eb0805"
      },
      "execution_count": 78,
      "outputs": [
        {
          "output_type": "stream",
          "name": "stdout",
          "text": [
            "1624.3527686112777\n",
            "0.07376991781222213\n"
          ]
        }
      ]
    },
    {
      "cell_type": "markdown",
      "source": [
        "## Количество итерраций и learning rate"
      ],
      "metadata": {
        "id": "CJu414J33PhT"
      }
    },
    {
      "cell_type": "code",
      "source": [
        "X = ['year', 'transmission', 'engineSize']\n",
        "cat_features = ['transmission']\n",
        "y = ['price']"
      ],
      "metadata": {
        "id": "xOCR4BKGEXVC"
      },
      "execution_count": 82,
      "outputs": []
    },
    {
      "cell_type": "code",
      "source": [
        "model = CatBoostRegressor(cat_features = cat_features,\n",
        "                          learning_rate = 0.03, # меняем скорость обучения\n",
        "                          eval_metric = 'MAPE', \n",
        "                          random_seed = 42,\n",
        "                          verbose=100)"
      ],
      "metadata": {
        "id": "WxB9YJ39EXVE"
      },
      "execution_count": 91,
      "outputs": []
    },
    {
      "cell_type": "code",
      "source": [
        "model.fit(train[X], train[y],eval_set=(val[X], val[y]))"
      ],
      "metadata": {
        "colab": {
          "base_uri": "https://localhost:8080/"
        },
        "outputId": "cbcd9117-dfba-481f-c819-96514008b6de",
        "id": "UiV8a9MZEXVF"
      },
      "execution_count": 92,
      "outputs": [
        {
          "output_type": "stream",
          "name": "stdout",
          "text": [
            "0:\tlearn: 0.4766117\ttest: 0.4630623\tbest: 0.4630623 (0)\ttotal: 2.64ms\tremaining: 2.64s\n",
            "100:\tlearn: 0.1686204\ttest: 0.1665831\tbest: 0.1665831 (100)\ttotal: 203ms\tremaining: 1.81s\n",
            "200:\tlearn: 0.1546768\ttest: 0.1538231\tbest: 0.1538231 (200)\ttotal: 378ms\tremaining: 1.5s\n",
            "300:\tlearn: 0.1527610\ttest: 0.1524028\tbest: 0.1524003 (299)\ttotal: 537ms\tremaining: 1.25s\n",
            "400:\tlearn: 0.1520242\ttest: 0.1519914\tbest: 0.1519914 (400)\ttotal: 701ms\tremaining: 1.05s\n",
            "500:\tlearn: 0.1513796\ttest: 0.1517251\tbest: 0.1517218 (499)\ttotal: 881ms\tremaining: 878ms\n",
            "600:\tlearn: 0.1509089\ttest: 0.1516070\tbest: 0.1516070 (600)\ttotal: 1.05s\tremaining: 701ms\n",
            "700:\tlearn: 0.1504319\ttest: 0.1515781\tbest: 0.1515400 (678)\ttotal: 1.24s\tremaining: 527ms\n",
            "800:\tlearn: 0.1500219\ttest: 0.1515251\tbest: 0.1515251 (800)\ttotal: 1.41s\tremaining: 350ms\n",
            "900:\tlearn: 0.1496119\ttest: 0.1514039\tbest: 0.1514021 (895)\ttotal: 1.6s\tremaining: 176ms\n",
            "999:\tlearn: 0.1492990\ttest: 0.1513532\tbest: 0.1513502 (996)\ttotal: 1.79s\tremaining: 0us\n",
            "\n",
            "bestTest = 0.151350187\n",
            "bestIteration = 996\n",
            "\n",
            "Shrink model to first 997 iterations.\n"
          ]
        },
        {
          "output_type": "execute_result",
          "data": {
            "text/plain": [
              "<catboost.core.CatBoostRegressor at 0x7fabf3f3f5e0>"
            ]
          },
          "metadata": {},
          "execution_count": 92
        }
      ]
    },
    {
      "cell_type": "code",
      "source": [],
      "metadata": {
        "id": "5xWMscxCEosi"
      },
      "execution_count": null,
      "outputs": []
    },
    {
      "cell_type": "code",
      "source": [],
      "metadata": {
        "id": "eLKUug39E9GP"
      },
      "execution_count": null,
      "outputs": []
    },
    {
      "cell_type": "code",
      "source": [],
      "metadata": {
        "id": "MhZ6G2JKE86g"
      },
      "execution_count": null,
      "outputs": []
    },
    {
      "cell_type": "code",
      "source": [
        "X = ['year',  'mileage', 'tax',\n",
        "       'mpg', 'engineSize','model', 'transmission', 'fuelType']\n",
        "cat_features = ['model', 'transmission', 'fuelType']\n",
        "y = ['price']"
      ],
      "metadata": {
        "id": "H8-pJQtSFFm5"
      },
      "execution_count": 93,
      "outputs": []
    },
    {
      "cell_type": "code",
      "source": [
        "# положим параметры в словарь для удобства\n",
        "\n",
        "parameters = {'cat_features' : cat_features,\n",
        "              'learning_rate' : 0.08, # меняем скорость обучения\n",
        "              'eval_metric' : 'MAPE',\n",
        "              'verbose' : 100}"
      ],
      "metadata": {
        "id": "OjAdnspzFFm6"
      },
      "execution_count": 94,
      "outputs": []
    },
    {
      "cell_type": "code",
      "source": [
        "model = CatBoostRegressor(**parameters)"
      ],
      "metadata": {
        "id": "EcXeHCljFFm7"
      },
      "execution_count": 95,
      "outputs": []
    },
    {
      "cell_type": "code",
      "source": [
        "model.fit(train[X], train[y],eval_set=(val[X], val[y]))"
      ],
      "metadata": {
        "colab": {
          "base_uri": "https://localhost:8080/"
        },
        "outputId": "68c55cbb-c301-446c-99d7-c2a99b93f70c",
        "id": "eB-uGQfoFFm7"
      },
      "execution_count": 96,
      "outputs": [
        {
          "output_type": "stream",
          "name": "stdout",
          "text": [
            "0:\tlearn: 0.4576088\ttest: 0.4448361\tbest: 0.4448361 (0)\ttotal: 5.54ms\tremaining: 5.53s\n",
            "100:\tlearn: 0.0859551\ttest: 0.0887269\tbest: 0.0887269 (100)\ttotal: 566ms\tremaining: 5.04s\n",
            "200:\tlearn: 0.0756432\ttest: 0.0802535\tbest: 0.0802365 (199)\ttotal: 980ms\tremaining: 3.9s\n",
            "300:\tlearn: 0.0708377\ttest: 0.0768255\tbest: 0.0768255 (300)\ttotal: 1.37s\tremaining: 3.18s\n",
            "400:\tlearn: 0.0675903\ttest: 0.0746676\tbest: 0.0746662 (399)\ttotal: 1.75s\tremaining: 2.61s\n",
            "500:\tlearn: 0.0656762\ttest: 0.0739730\tbest: 0.0739730 (500)\ttotal: 2.14s\tremaining: 2.13s\n",
            "600:\tlearn: 0.0639073\ttest: 0.0733349\tbest: 0.0733349 (600)\ttotal: 2.53s\tremaining: 1.68s\n",
            "700:\tlearn: 0.0621661\ttest: 0.0725205\tbest: 0.0725090 (687)\ttotal: 2.94s\tremaining: 1.25s\n",
            "800:\tlearn: 0.0606551\ttest: 0.0719604\tbest: 0.0719604 (800)\ttotal: 3.35s\tremaining: 831ms\n",
            "900:\tlearn: 0.0594107\ttest: 0.0716771\tbest: 0.0716771 (900)\ttotal: 3.73s\tremaining: 410ms\n",
            "999:\tlearn: 0.0582401\ttest: 0.0712909\tbest: 0.0712452 (992)\ttotal: 4.12s\tremaining: 0us\n",
            "\n",
            "bestTest = 0.07124520095\n",
            "bestIteration = 992\n",
            "\n",
            "Shrink model to first 993 iterations.\n"
          ]
        },
        {
          "output_type": "execute_result",
          "data": {
            "text/plain": [
              "<catboost.core.CatBoostRegressor at 0x7fabf3563b20>"
            ]
          },
          "metadata": {},
          "execution_count": 96
        }
      ]
    },
    {
      "cell_type": "code",
      "source": [],
      "metadata": {
        "id": "be2vIdGzFN50"
      },
      "execution_count": null,
      "outputs": []
    },
    {
      "cell_type": "code",
      "source": [],
      "metadata": {
        "id": "new8SwslFo-W"
      },
      "execution_count": null,
      "outputs": []
    },
    {
      "cell_type": "code",
      "source": [],
      "metadata": {
        "id": "NTMfOBFNF1Le"
      },
      "execution_count": null,
      "outputs": []
    },
    {
      "cell_type": "code",
      "source": [
        "X = ['year', 'transmission', 'engineSize']\n",
        "cat_features = ['transmission']\n",
        "y = ['price']"
      ],
      "metadata": {
        "id": "Gx2r2tO5F1b7"
      },
      "execution_count": 97,
      "outputs": []
    },
    {
      "cell_type": "code",
      "source": [
        "model = CatBoostRegressor(cat_features = cat_features,\n",
        "                          early_stopping_rounds = 200, # если за 200 итерраций не происходит улучшений показателей, то процесс останавливается\n",
        "                          eval_metric = 'MAPE', \n",
        "                          random_seed = 42,\n",
        "                          verbose=100)"
      ],
      "metadata": {
        "id": "Od3o0TeeF1b7"
      },
      "execution_count": 99,
      "outputs": []
    },
    {
      "cell_type": "code",
      "source": [
        "model.fit(train[X], train[y],eval_set=(val[X], val[y]))"
      ],
      "metadata": {
        "colab": {
          "base_uri": "https://localhost:8080/"
        },
        "outputId": "49ef931d-428d-412d-9629-3bebd343d5f9",
        "id": "28VWwqGhF1b8"
      },
      "execution_count": 100,
      "outputs": [
        {
          "output_type": "stream",
          "name": "stdout",
          "text": [
            "Learning rate set to 0.068263\n",
            "0:\tlearn: 0.4621086\ttest: 0.4489079\tbest: 0.4489079 (0)\ttotal: 2.48ms\tremaining: 2.47s\n",
            "100:\tlearn: 0.1537470\ttest: 0.1534632\tbest: 0.1534632 (100)\ttotal: 180ms\tremaining: 1.6s\n",
            "200:\tlearn: 0.1515149\ttest: 0.1521516\tbest: 0.1521514 (197)\ttotal: 412ms\tremaining: 1.64s\n",
            "300:\tlearn: 0.1503412\ttest: 0.1520507\tbest: 0.1519138 (261)\ttotal: 657ms\tremaining: 1.52s\n",
            "400:\tlearn: 0.1495316\ttest: 0.1521949\tbest: 0.1519138 (261)\ttotal: 855ms\tremaining: 1.28s\n",
            "Stopped by overfitting detector  (200 iterations wait)\n",
            "\n",
            "bestTest = 0.1519137901\n",
            "bestIteration = 261\n",
            "\n",
            "Shrink model to first 262 iterations.\n"
          ]
        },
        {
          "output_type": "execute_result",
          "data": {
            "text/plain": [
              "<catboost.core.CatBoostRegressor at 0x7fabf350bb80>"
            ]
          },
          "metadata": {},
          "execution_count": 100
        }
      ]
    },
    {
      "cell_type": "markdown",
      "source": [
        "## Обучаемся на всех данных"
      ],
      "metadata": {
        "id": "VKWRqrIbGZZT"
      }
    },
    {
      "cell_type": "code",
      "source": [
        "len(train)"
      ],
      "metadata": {
        "colab": {
          "base_uri": "https://localhost:8080/"
        },
        "id": "-TV_6nokGAFB",
        "outputId": "acd3144b-09ae-4d5b-cc4a-d5d6b7b53dd5"
      },
      "execution_count": 101,
      "outputs": [
        {
          "output_type": "execute_result",
          "data": {
            "text/plain": [
              "6468"
            ]
          },
          "metadata": {},
          "execution_count": 101
        }
      ]
    },
    {
      "cell_type": "code",
      "source": [
        "len(val)"
      ],
      "metadata": {
        "colab": {
          "base_uri": "https://localhost:8080/"
        },
        "id": "LkMz5iywQqzV",
        "outputId": "46d1a58d-1e2d-48de-bfa4-5f927199ba73"
      },
      "execution_count": 102,
      "outputs": [
        {
          "output_type": "execute_result",
          "data": {
            "text/plain": [
              "2156"
            ]
          },
          "metadata": {},
          "execution_count": 102
        }
      ]
    },
    {
      "cell_type": "code",
      "source": [
        "pd.concat([train,val])"
      ],
      "metadata": {
        "colab": {
          "base_uri": "https://localhost:8080/",
          "height": 423
        },
        "id": "THKXepBmQr6T",
        "outputId": "939d1242-ae52-4de6-9962-7c4d87a30ca8"
      },
      "execution_count": 104,
      "outputs": [
        {
          "output_type": "execute_result",
          "data": {
            "text/plain": [
              "          model  year  price transmission  mileage fuelType  tax   mpg  \\\n",
              "7882         X1  2019  25000    Automatic     4534   Petrol  145  46.3   \n",
              "1381   3 Series  2016  15621       Manual    32927   Diesel  125  60.1   \n",
              "8859   3 Series  2014  14500    Automatic    45140   Diesel  125  57.6   \n",
              "9354   2 Series  2016  16359    Automatic    17748   Diesel  125  57.6   \n",
              "4192   3 Series  2018  23980    Semi-Auto    11717   Diesel  145  57.7   \n",
              "...         ...   ...    ...          ...      ...      ...  ...   ...   \n",
              "7010         X6  2019  59991    Automatic     4509   Diesel  145  34.9   \n",
              "6206   3 Series  2020  27492    Semi-Auto     3500   Petrol  145  42.2   \n",
              "4558   1 Series  2016  12995    Semi-Auto    33291   Diesel   20  67.3   \n",
              "618    6 Series  2015  17498    Semi-Auto    51412   Diesel  160  49.6   \n",
              "3743   2 Series  2019  20980       Manual     1000   Petrol  145  52.3   \n",
              "\n",
              "      engineSize  \n",
              "7882         1.5  \n",
              "1381         2.0  \n",
              "8859         3.0  \n",
              "9354         2.0  \n",
              "4192         2.0  \n",
              "...          ...  \n",
              "7010         3.0  \n",
              "6206         2.0  \n",
              "4558         2.0  \n",
              "618          3.0  \n",
              "3743         1.5  \n",
              "\n",
              "[8624 rows x 9 columns]"
            ],
            "text/html": [
              "\n",
              "  <div id=\"df-3d40f7c2-0176-433f-80ad-bff2e43c4a16\">\n",
              "    <div class=\"colab-df-container\">\n",
              "      <div>\n",
              "<style scoped>\n",
              "    .dataframe tbody tr th:only-of-type {\n",
              "        vertical-align: middle;\n",
              "    }\n",
              "\n",
              "    .dataframe tbody tr th {\n",
              "        vertical-align: top;\n",
              "    }\n",
              "\n",
              "    .dataframe thead th {\n",
              "        text-align: right;\n",
              "    }\n",
              "</style>\n",
              "<table border=\"1\" class=\"dataframe\">\n",
              "  <thead>\n",
              "    <tr style=\"text-align: right;\">\n",
              "      <th></th>\n",
              "      <th>model</th>\n",
              "      <th>year</th>\n",
              "      <th>price</th>\n",
              "      <th>transmission</th>\n",
              "      <th>mileage</th>\n",
              "      <th>fuelType</th>\n",
              "      <th>tax</th>\n",
              "      <th>mpg</th>\n",
              "      <th>engineSize</th>\n",
              "    </tr>\n",
              "  </thead>\n",
              "  <tbody>\n",
              "    <tr>\n",
              "      <th>7882</th>\n",
              "      <td>X1</td>\n",
              "      <td>2019</td>\n",
              "      <td>25000</td>\n",
              "      <td>Automatic</td>\n",
              "      <td>4534</td>\n",
              "      <td>Petrol</td>\n",
              "      <td>145</td>\n",
              "      <td>46.3</td>\n",
              "      <td>1.5</td>\n",
              "    </tr>\n",
              "    <tr>\n",
              "      <th>1381</th>\n",
              "      <td>3 Series</td>\n",
              "      <td>2016</td>\n",
              "      <td>15621</td>\n",
              "      <td>Manual</td>\n",
              "      <td>32927</td>\n",
              "      <td>Diesel</td>\n",
              "      <td>125</td>\n",
              "      <td>60.1</td>\n",
              "      <td>2.0</td>\n",
              "    </tr>\n",
              "    <tr>\n",
              "      <th>8859</th>\n",
              "      <td>3 Series</td>\n",
              "      <td>2014</td>\n",
              "      <td>14500</td>\n",
              "      <td>Automatic</td>\n",
              "      <td>45140</td>\n",
              "      <td>Diesel</td>\n",
              "      <td>125</td>\n",
              "      <td>57.6</td>\n",
              "      <td>3.0</td>\n",
              "    </tr>\n",
              "    <tr>\n",
              "      <th>9354</th>\n",
              "      <td>2 Series</td>\n",
              "      <td>2016</td>\n",
              "      <td>16359</td>\n",
              "      <td>Automatic</td>\n",
              "      <td>17748</td>\n",
              "      <td>Diesel</td>\n",
              "      <td>125</td>\n",
              "      <td>57.6</td>\n",
              "      <td>2.0</td>\n",
              "    </tr>\n",
              "    <tr>\n",
              "      <th>4192</th>\n",
              "      <td>3 Series</td>\n",
              "      <td>2018</td>\n",
              "      <td>23980</td>\n",
              "      <td>Semi-Auto</td>\n",
              "      <td>11717</td>\n",
              "      <td>Diesel</td>\n",
              "      <td>145</td>\n",
              "      <td>57.7</td>\n",
              "      <td>2.0</td>\n",
              "    </tr>\n",
              "    <tr>\n",
              "      <th>...</th>\n",
              "      <td>...</td>\n",
              "      <td>...</td>\n",
              "      <td>...</td>\n",
              "      <td>...</td>\n",
              "      <td>...</td>\n",
              "      <td>...</td>\n",
              "      <td>...</td>\n",
              "      <td>...</td>\n",
              "      <td>...</td>\n",
              "    </tr>\n",
              "    <tr>\n",
              "      <th>7010</th>\n",
              "      <td>X6</td>\n",
              "      <td>2019</td>\n",
              "      <td>59991</td>\n",
              "      <td>Automatic</td>\n",
              "      <td>4509</td>\n",
              "      <td>Diesel</td>\n",
              "      <td>145</td>\n",
              "      <td>34.9</td>\n",
              "      <td>3.0</td>\n",
              "    </tr>\n",
              "    <tr>\n",
              "      <th>6206</th>\n",
              "      <td>3 Series</td>\n",
              "      <td>2020</td>\n",
              "      <td>27492</td>\n",
              "      <td>Semi-Auto</td>\n",
              "      <td>3500</td>\n",
              "      <td>Petrol</td>\n",
              "      <td>145</td>\n",
              "      <td>42.2</td>\n",
              "      <td>2.0</td>\n",
              "    </tr>\n",
              "    <tr>\n",
              "      <th>4558</th>\n",
              "      <td>1 Series</td>\n",
              "      <td>2016</td>\n",
              "      <td>12995</td>\n",
              "      <td>Semi-Auto</td>\n",
              "      <td>33291</td>\n",
              "      <td>Diesel</td>\n",
              "      <td>20</td>\n",
              "      <td>67.3</td>\n",
              "      <td>2.0</td>\n",
              "    </tr>\n",
              "    <tr>\n",
              "      <th>618</th>\n",
              "      <td>6 Series</td>\n",
              "      <td>2015</td>\n",
              "      <td>17498</td>\n",
              "      <td>Semi-Auto</td>\n",
              "      <td>51412</td>\n",
              "      <td>Diesel</td>\n",
              "      <td>160</td>\n",
              "      <td>49.6</td>\n",
              "      <td>3.0</td>\n",
              "    </tr>\n",
              "    <tr>\n",
              "      <th>3743</th>\n",
              "      <td>2 Series</td>\n",
              "      <td>2019</td>\n",
              "      <td>20980</td>\n",
              "      <td>Manual</td>\n",
              "      <td>1000</td>\n",
              "      <td>Petrol</td>\n",
              "      <td>145</td>\n",
              "      <td>52.3</td>\n",
              "      <td>1.5</td>\n",
              "    </tr>\n",
              "  </tbody>\n",
              "</table>\n",
              "<p>8624 rows × 9 columns</p>\n",
              "</div>\n",
              "      <button class=\"colab-df-convert\" onclick=\"convertToInteractive('df-3d40f7c2-0176-433f-80ad-bff2e43c4a16')\"\n",
              "              title=\"Convert this dataframe to an interactive table.\"\n",
              "              style=\"display:none;\">\n",
              "        \n",
              "  <svg xmlns=\"http://www.w3.org/2000/svg\" height=\"24px\"viewBox=\"0 0 24 24\"\n",
              "       width=\"24px\">\n",
              "    <path d=\"M0 0h24v24H0V0z\" fill=\"none\"/>\n",
              "    <path d=\"M18.56 5.44l.94 2.06.94-2.06 2.06-.94-2.06-.94-.94-2.06-.94 2.06-2.06.94zm-11 1L8.5 8.5l.94-2.06 2.06-.94-2.06-.94L8.5 2.5l-.94 2.06-2.06.94zm10 10l.94 2.06.94-2.06 2.06-.94-2.06-.94-.94-2.06-.94 2.06-2.06.94z\"/><path d=\"M17.41 7.96l-1.37-1.37c-.4-.4-.92-.59-1.43-.59-.52 0-1.04.2-1.43.59L10.3 9.45l-7.72 7.72c-.78.78-.78 2.05 0 2.83L4 21.41c.39.39.9.59 1.41.59.51 0 1.02-.2 1.41-.59l7.78-7.78 2.81-2.81c.8-.78.8-2.07 0-2.86zM5.41 20L4 18.59l7.72-7.72 1.47 1.35L5.41 20z\"/>\n",
              "  </svg>\n",
              "      </button>\n",
              "      \n",
              "  <style>\n",
              "    .colab-df-container {\n",
              "      display:flex;\n",
              "      flex-wrap:wrap;\n",
              "      gap: 12px;\n",
              "    }\n",
              "\n",
              "    .colab-df-convert {\n",
              "      background-color: #E8F0FE;\n",
              "      border: none;\n",
              "      border-radius: 50%;\n",
              "      cursor: pointer;\n",
              "      display: none;\n",
              "      fill: #1967D2;\n",
              "      height: 32px;\n",
              "      padding: 0 0 0 0;\n",
              "      width: 32px;\n",
              "    }\n",
              "\n",
              "    .colab-df-convert:hover {\n",
              "      background-color: #E2EBFA;\n",
              "      box-shadow: 0px 1px 2px rgba(60, 64, 67, 0.3), 0px 1px 3px 1px rgba(60, 64, 67, 0.15);\n",
              "      fill: #174EA6;\n",
              "    }\n",
              "\n",
              "    [theme=dark] .colab-df-convert {\n",
              "      background-color: #3B4455;\n",
              "      fill: #D2E3FC;\n",
              "    }\n",
              "\n",
              "    [theme=dark] .colab-df-convert:hover {\n",
              "      background-color: #434B5C;\n",
              "      box-shadow: 0px 1px 3px 1px rgba(0, 0, 0, 0.15);\n",
              "      filter: drop-shadow(0px 1px 2px rgba(0, 0, 0, 0.3));\n",
              "      fill: #FFFFFF;\n",
              "    }\n",
              "  </style>\n",
              "\n",
              "      <script>\n",
              "        const buttonEl =\n",
              "          document.querySelector('#df-3d40f7c2-0176-433f-80ad-bff2e43c4a16 button.colab-df-convert');\n",
              "        buttonEl.style.display =\n",
              "          google.colab.kernel.accessAllowed ? 'block' : 'none';\n",
              "\n",
              "        async function convertToInteractive(key) {\n",
              "          const element = document.querySelector('#df-3d40f7c2-0176-433f-80ad-bff2e43c4a16');\n",
              "          const dataTable =\n",
              "            await google.colab.kernel.invokeFunction('convertToInteractive',\n",
              "                                                     [key], {});\n",
              "          if (!dataTable) return;\n",
              "\n",
              "          const docLinkHtml = 'Like what you see? Visit the ' +\n",
              "            '<a target=\"_blank\" href=https://colab.research.google.com/notebooks/data_table.ipynb>data table notebook</a>'\n",
              "            + ' to learn more about interactive tables.';\n",
              "          element.innerHTML = '';\n",
              "          dataTable['output_type'] = 'display_data';\n",
              "          await google.colab.output.renderOutput(dataTable, element);\n",
              "          const docLink = document.createElement('div');\n",
              "          docLink.innerHTML = docLinkHtml;\n",
              "          element.appendChild(docLink);\n",
              "        }\n",
              "      </script>\n",
              "    </div>\n",
              "  </div>\n",
              "  "
            ]
          },
          "metadata": {},
          "execution_count": 104
        }
      ]
    },
    {
      "cell_type": "code",
      "source": [
        "train_full = pd.concat([train,val])"
      ],
      "metadata": {
        "id": "LOVyMbTPQxHh"
      },
      "execution_count": 105,
      "outputs": []
    },
    {
      "cell_type": "code",
      "source": [],
      "metadata": {
        "id": "ffWf_LsNQ_yo"
      },
      "execution_count": null,
      "outputs": []
    },
    {
      "cell_type": "code",
      "source": [
        "X = ['year',  'mileage', 'tax',\n",
        "       'mpg', 'engineSize','model', 'transmission', 'fuelType']\n",
        "cat_features = ['model', 'transmission', 'fuelType']\n",
        "y = ['price']"
      ],
      "metadata": {
        "id": "srBcqOz9RLZx"
      },
      "execution_count": 106,
      "outputs": []
    },
    {
      "cell_type": "code",
      "source": [
        "# положим параметры в словарь для удобства\n",
        "\n",
        "parameters = {'cat_features' : cat_features,\n",
        "              'learning_rate' : 0.08, # меняем скорость обучения\n",
        "              'eval_metric' : 'MAPE',\n",
        "              'verbose' : 100}"
      ],
      "metadata": {
        "id": "T97VE536RLZy"
      },
      "execution_count": 107,
      "outputs": []
    },
    {
      "cell_type": "code",
      "source": [
        "model = CatBoostRegressor(**parameters)"
      ],
      "metadata": {
        "id": "2tMVNiObRLZy"
      },
      "execution_count": 108,
      "outputs": []
    },
    {
      "cell_type": "code",
      "source": [
        "model.fit(train[X], train[y],eval_set=(val[X], val[y]))"
      ],
      "metadata": {
        "colab": {
          "base_uri": "https://localhost:8080/"
        },
        "outputId": "cbf4d473-9388-4fcb-f199-1880b5851d0e",
        "id": "c1xVVD42RLZy"
      },
      "execution_count": 109,
      "outputs": [
        {
          "output_type": "stream",
          "name": "stdout",
          "text": [
            "0:\tlearn: 0.4576088\ttest: 0.4448361\tbest: 0.4448361 (0)\ttotal: 5.33ms\tremaining: 5.33s\n",
            "100:\tlearn: 0.0859551\ttest: 0.0887269\tbest: 0.0887269 (100)\ttotal: 668ms\tremaining: 5.95s\n",
            "200:\tlearn: 0.0756432\ttest: 0.0802535\tbest: 0.0802365 (199)\ttotal: 1.1s\tremaining: 4.37s\n",
            "300:\tlearn: 0.0708377\ttest: 0.0768255\tbest: 0.0768255 (300)\ttotal: 1.51s\tremaining: 3.5s\n",
            "400:\tlearn: 0.0675903\ttest: 0.0746676\tbest: 0.0746662 (399)\ttotal: 1.91s\tremaining: 2.86s\n",
            "500:\tlearn: 0.0656762\ttest: 0.0739730\tbest: 0.0739730 (500)\ttotal: 2.34s\tremaining: 2.33s\n",
            "600:\tlearn: 0.0639073\ttest: 0.0733349\tbest: 0.0733349 (600)\ttotal: 2.73s\tremaining: 1.81s\n",
            "700:\tlearn: 0.0621661\ttest: 0.0725205\tbest: 0.0725090 (687)\ttotal: 3.14s\tremaining: 1.34s\n",
            "800:\tlearn: 0.0606551\ttest: 0.0719604\tbest: 0.0719604 (800)\ttotal: 3.54s\tremaining: 880ms\n",
            "900:\tlearn: 0.0594107\ttest: 0.0716771\tbest: 0.0716771 (900)\ttotal: 3.95s\tremaining: 434ms\n",
            "999:\tlearn: 0.0582401\ttest: 0.0712909\tbest: 0.0712452 (992)\ttotal: 4.38s\tremaining: 0us\n",
            "\n",
            "bestTest = 0.07124520095\n",
            "bestIteration = 992\n",
            "\n",
            "Shrink model to first 993 iterations.\n"
          ]
        },
        {
          "output_type": "execute_result",
          "data": {
            "text/plain": [
              "<catboost.core.CatBoostRegressor at 0x7fabf3efd9a0>"
            ]
          },
          "metadata": {},
          "execution_count": 109
        }
      ]
    },
    {
      "cell_type": "code",
      "source": [
        "model.best_iteration_"
      ],
      "metadata": {
        "colab": {
          "base_uri": "https://localhost:8080/"
        },
        "id": "x7prEFhXRNQd",
        "outputId": "98348c7c-6d35-4f26-adf9-b4f745cff3bb"
      },
      "execution_count": 112,
      "outputs": [
        {
          "output_type": "execute_result",
          "data": {
            "text/plain": [
              "992"
            ]
          },
          "metadata": {},
          "execution_count": 112
        }
      ]
    },
    {
      "cell_type": "code",
      "source": [
        "# положим параметры в словарь для удобства\n",
        "\n",
        "parameters = {'itarations': model.best_iteration_ + 1,\n",
        "              'random_sent' : 42,\n",
        "              'cat_features' : cat_features,\n",
        "              'learning_rate' : 0.08, # меняем скорость обучения\n",
        "              'eval_metric' : 'MAPE',\n",
        "              'verbose' : 100}"
      ],
      "metadata": {
        "id": "nB3iP0PiRR2X"
      },
      "execution_count": 114,
      "outputs": []
    },
    {
      "cell_type": "code",
      "source": [
        "parameters"
      ],
      "metadata": {
        "colab": {
          "base_uri": "https://localhost:8080/"
        },
        "id": "XY9FATyJRw-B",
        "outputId": "32d2f4b8-1e8e-4d38-a7da-7f5700e671f2"
      },
      "execution_count": 115,
      "outputs": [
        {
          "output_type": "execute_result",
          "data": {
            "text/plain": [
              "{'itarations': 993,\n",
              " 'random_sent': 42,\n",
              " 'cat_features': ['model', 'transmission', 'fuelType'],\n",
              " 'learning_rate': 0.08,\n",
              " 'eval_metric': 'MAPE',\n",
              " 'verbose': 100}"
            ]
          },
          "metadata": {},
          "execution_count": 115
        }
      ]
    },
    {
      "cell_type": "code",
      "source": [
        "model.fit(train_full[X], train_full[y])"
      ],
      "metadata": {
        "colab": {
          "base_uri": "https://localhost:8080/"
        },
        "id": "eNhVSFsWR3Xi",
        "outputId": "20a8bb0b-f5ca-478b-84b0-5ff561530951"
      },
      "execution_count": 116,
      "outputs": [
        {
          "output_type": "stream",
          "name": "stdout",
          "text": [
            "0:\tlearn: 0.4517876\ttotal: 6.08ms\tremaining: 6.07s\n",
            "100:\tlearn: 0.0864716\ttotal: 496ms\tremaining: 4.42s\n",
            "200:\tlearn: 0.0764252\ttotal: 970ms\tremaining: 3.85s\n",
            "300:\tlearn: 0.0712969\ttotal: 1.42s\tremaining: 3.29s\n",
            "400:\tlearn: 0.0685636\ttotal: 1.9s\tremaining: 2.83s\n",
            "500:\tlearn: 0.0662134\ttotal: 2.33s\tremaining: 2.33s\n",
            "600:\tlearn: 0.0641178\ttotal: 2.81s\tremaining: 1.87s\n",
            "700:\tlearn: 0.0626798\ttotal: 3.28s\tremaining: 1.4s\n",
            "800:\tlearn: 0.0613395\ttotal: 3.73s\tremaining: 927ms\n",
            "900:\tlearn: 0.0602465\ttotal: 4.2s\tremaining: 461ms\n",
            "999:\tlearn: 0.0594203\ttotal: 4.65s\tremaining: 0us\n"
          ]
        },
        {
          "output_type": "execute_result",
          "data": {
            "text/plain": [
              "<catboost.core.CatBoostRegressor at 0x7fabf3efd9a0>"
            ]
          },
          "metadata": {},
          "execution_count": 116
        }
      ]
    },
    {
      "cell_type": "code",
      "source": [
        "model.predict(test[X])"
      ],
      "metadata": {
        "colab": {
          "base_uri": "https://localhost:8080/"
        },
        "id": "Cs0sz9fUSA6g",
        "outputId": "ca7b79f9-107c-4c14-964f-e64c7ba0a9cc"
      },
      "execution_count": 117,
      "outputs": [
        {
          "output_type": "execute_result",
          "data": {
            "text/plain": [
              "array([29212.46392165, 11110.7768548 , 34861.35679728, ...,\n",
              "       18203.20561521, 11238.04519552, 16372.6855144 ])"
            ]
          },
          "metadata": {},
          "execution_count": 117
        }
      ]
    },
    {
      "cell_type": "code",
      "source": [
        "test['price_pred_all_features_and_date'] = model.predict(test[X])"
      ],
      "metadata": {
        "id": "RNJDqRk-SGN3"
      },
      "execution_count": 118,
      "outputs": []
    },
    {
      "cell_type": "code",
      "source": [
        "error(test['price'], test['price_pred_all_features_and_date'])"
      ],
      "metadata": {
        "colab": {
          "base_uri": "https://localhost:8080/"
        },
        "id": "NPCReGRWSQaW",
        "outputId": "6c1ee6e3-16a6-421a-87c5-0ec6082bd123"
      },
      "execution_count": 119,
      "outputs": [
        {
          "output_type": "stream",
          "name": "stdout",
          "text": [
            "1586.3120712760026\n",
            "0.07329083203555277\n"
          ]
        }
      ]
    },
    {
      "cell_type": "code",
      "source": [
        "# до этого было \n",
        "error(test['price'], test['price_pred_all'])"
      ],
      "metadata": {
        "colab": {
          "base_uri": "https://localhost:8080/"
        },
        "id": "Mytv96fiSd-M",
        "outputId": "bc8f4f00-82cd-4691-a421-2a63c6aeed3a"
      },
      "execution_count": 120,
      "outputs": [
        {
          "output_type": "stream",
          "name": "stdout",
          "text": [
            "1624.3527686112777\n",
            "0.07376991781222213\n"
          ]
        }
      ]
    },
    {
      "cell_type": "markdown",
      "source": [
        "## Меняем функцию оптимизации"
      ],
      "metadata": {
        "id": "sXeavsTvTThK"
      }
    },
    {
      "cell_type": "code",
      "source": [
        "X = ['year',  'mileage', 'tax',\n",
        "       'mpg', 'engineSize','model', 'transmission', 'fuelType']\n",
        "cat_features = ['model', 'transmission', 'fuelType']\n",
        "y = ['price']"
      ],
      "metadata": {
        "id": "QeXTL5Cfdor1"
      },
      "execution_count": 121,
      "outputs": []
    },
    {
      "cell_type": "code",
      "source": [
        "# положим параметры в словарь для удобства\n",
        "\n",
        "parameters = {\n",
        "              'random_seed' : 42,\n",
        "              'cat_features' : cat_features,\n",
        "              'learning_rate' : 0.12, # меняем скорость обучения\n",
        "              'eval_metric' : 'MAPE',\n",
        "              'verbose' : 100,\n",
        "              'loss_function' : 'MAE' }"
      ],
      "metadata": {
        "id": "8bH1i6ZKdor2"
      },
      "execution_count": 140,
      "outputs": []
    },
    {
      "cell_type": "code",
      "source": [
        "model = CatBoostRegressor(**parameters)"
      ],
      "metadata": {
        "id": "JTNVVDFidor2"
      },
      "execution_count": 141,
      "outputs": []
    },
    {
      "cell_type": "code",
      "source": [
        "model.fit(train[X], train[y],eval_set=(val[X], val[y]))"
      ],
      "metadata": {
        "colab": {
          "base_uri": "https://localhost:8080/"
        },
        "outputId": "97873c15-2416-48a3-9b82-a21b4c0289ca",
        "id": "O4NqdaK-dor2"
      },
      "execution_count": 142,
      "outputs": [
        {
          "output_type": "stream",
          "name": "stdout",
          "text": [
            "0:\tlearn: 0.3875962\ttest: 0.3735069\tbest: 0.3735069 (0)\ttotal: 5.95ms\tremaining: 5.94s\n",
            "100:\tlearn: 0.0735575\ttest: 0.0763044\tbest: 0.0763044 (100)\ttotal: 488ms\tremaining: 4.34s\n",
            "200:\tlearn: 0.0649629\ttest: 0.0714696\tbest: 0.0714696 (200)\ttotal: 990ms\tremaining: 3.94s\n",
            "300:\tlearn: 0.0609392\ttest: 0.0700053\tbest: 0.0700053 (300)\ttotal: 2.06s\tremaining: 4.78s\n",
            "400:\tlearn: 0.0589254\ttest: 0.0695055\tbest: 0.0695012 (399)\ttotal: 3.03s\tremaining: 4.53s\n",
            "500:\tlearn: 0.0576315\ttest: 0.0693322\tbest: 0.0693254 (495)\ttotal: 3.5s\tremaining: 3.48s\n",
            "600:\tlearn: 0.0565014\ttest: 0.0691157\tbest: 0.0690975 (584)\ttotal: 3.95s\tremaining: 2.62s\n",
            "700:\tlearn: 0.0554363\ttest: 0.0688067\tbest: 0.0687862 (694)\ttotal: 4.42s\tremaining: 1.89s\n",
            "800:\tlearn: 0.0544517\ttest: 0.0686674\tbest: 0.0686410 (797)\ttotal: 4.87s\tremaining: 1.21s\n",
            "900:\tlearn: 0.0537573\ttest: 0.0685480\tbest: 0.0685476 (899)\ttotal: 5.33s\tremaining: 586ms\n",
            "999:\tlearn: 0.0529895\ttest: 0.0683610\tbest: 0.0683588 (998)\ttotal: 5.77s\tremaining: 0us\n",
            "\n",
            "bestTest = 0.06835882507\n",
            "bestIteration = 998\n",
            "\n",
            "Shrink model to first 999 iterations.\n"
          ]
        },
        {
          "output_type": "execute_result",
          "data": {
            "text/plain": [
              "<catboost.core.CatBoostRegressor at 0x7fabf3f1ee80>"
            ]
          },
          "metadata": {},
          "execution_count": 142
        }
      ]
    },
    {
      "cell_type": "code",
      "source": [],
      "metadata": {
        "id": "mZHNAEzIeZ6G"
      },
      "execution_count": null,
      "outputs": []
    },
    {
      "cell_type": "code",
      "source": [
        "test['price_pred_mae'] = model.predict(test[X])"
      ],
      "metadata": {
        "id": "SFtNrNVKfQSF"
      },
      "execution_count": 143,
      "outputs": []
    },
    {
      "cell_type": "code",
      "source": [
        "error(test['price'], test['price_pred_mae'])"
      ],
      "metadata": {
        "colab": {
          "base_uri": "https://localhost:8080/"
        },
        "outputId": "067a58e0-9e43-4e21-ee4a-739611430e50",
        "id": "Z2QJjevVfQSG"
      },
      "execution_count": 144,
      "outputs": [
        {
          "output_type": "stream",
          "name": "stdout",
          "text": [
            "1611.426989828046\n",
            "0.07150901109184499\n"
          ]
        }
      ]
    },
    {
      "cell_type": "markdown",
      "source": [],
      "metadata": {
        "id": "M8lAlevnfg_3"
      }
    },
    {
      "cell_type": "code",
      "source": [],
      "metadata": {
        "id": "7halVbANfdqE"
      },
      "execution_count": null,
      "outputs": []
    }
  ]
}